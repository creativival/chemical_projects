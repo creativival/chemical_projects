{
 "cells": [
  {
   "cell_type": "markdown",
   "source": [
    "# PubChemPy"
   ],
   "metadata": {
    "collapsed": false,
    "pycharm": {
     "name": "#%% md\n"
    }
   }
  },
  {
   "cell_type": "code",
   "execution_count": 23,
   "outputs": [
    {
     "name": "stdout",
     "output_type": "stream",
     "text": [
      "[Compound(222)]\n",
      "H3N\n"
     ]
    }
   ],
   "source": [
    "import pubchempy as pcp\n",
    "from IPython.display import Image\n",
    "\n",
    "results = pcp.get_compounds('ammonia', 'name')\n",
    "print(results)\n",
    "print(results[0].molecular_formula)\n",
    "\n",
    "pcp.download('PNG', 'ammonia.png', 'ammonia', 'name', overwrite=True, image_size='large')"
   ],
   "metadata": {
    "collapsed": false,
    "pycharm": {
     "name": "#%%\n"
    }
   }
  },
  {
   "cell_type": "markdown",
   "source": [
    "# Compounds"
   ],
   "metadata": {
    "collapsed": false
   }
  },
  {
   "cell_type": "code",
   "execution_count": 24,
   "outputs": [
    {
     "name": "stdout",
     "output_type": "stream",
     "text": [
      "octane Compound(356) C8H18\n",
      "ethylene Compound(6325) C2H4\n",
      "propylene Compound(8252) C3H6\n",
      "methylcyclohexane Compound(7962) C7H14\n",
      "CCCCCCCC\n",
      "C=C\n",
      "CC=C\n",
      "CC1CCCCC1\n"
     ]
    }
   ],
   "source": [
    "names = ['octane', 'ethylene', 'propylene', 'methylcyclohexane']\n",
    "compounds = []\n",
    "\n",
    "for name in names:\n",
    "    results = pcp.get_compounds(name, 'name')\n",
    "    if len(results) > 0:\n",
    "        compounds.append(results[0])\n",
    "        print(name, results[0], results[0].molecular_formula)\n",
    "\n",
    "\n",
    "for name in names:\n",
    "    pcp.download('PNG', f'{name}.png', name, 'name', overwrite=True)\n",
    "\n",
    "for compound in compounds:\n",
    "    print(compound.canonical_smiles)"
   ],
   "metadata": {
    "collapsed": false,
    "pycharm": {
     "name": "#%%\n"
    }
   }
  },
  {
   "cell_type": "markdown",
   "source": [
    "# Smiles"
   ],
   "metadata": {
    "collapsed": false,
    "pycharm": {
     "name": "#%% md\n"
    }
   }
  },
  {
   "cell_type": "code",
   "execution_count": 30,
   "outputs": [
    {
     "name": "stdout",
     "output_type": "stream",
     "text": [
      "この化合物はethanol\n"
     ]
    }
   ],
   "source": [
    "results = pcp.get_compounds('CCO', 'smiles')\n",
    "if len(results) > 0:\n",
    "    print(f'この化合物は{results[0].iupac_name}')"
   ],
   "metadata": {
    "collapsed": false,
    "pycharm": {
     "name": "#%%\n"
    }
   }
  },
  {
   "cell_type": "markdown",
   "source": [
    "# Fingerprints"
   ],
   "metadata": {
    "collapsed": false,
    "pycharm": {
     "name": "#%% md\n"
    }
   }
  },
  {
   "cell_type": "code",
   "execution_count": 25,
   "outputs": [
    {
     "data": {
      "text/html": "<img src=\"https://pubchem.ncbi.nlm.nih.gov/image/imgsrv.fcgi?cid=323&t=l\"/>",
      "text/plain": "<IPython.core.display.Image object>"
     },
     "execution_count": 25,
     "metadata": {},
     "output_type": "execute_result"
    }
   ],
   "source": [
    "coumarin = pcp.Compound.from_cid(323)\n",
    "Image(url='https://pubchem.ncbi.nlm.nih.gov/image/imgsrv.fcgi?cid=323&t=l')"
   ],
   "metadata": {
    "collapsed": false,
    "pycharm": {
     "name": "#%%\n"
    }
   }
  },
  {
   "cell_type": "code",
   "execution_count": 26,
   "outputs": [
    {
     "data": {
      "text/html": "<img src=\"https://pubchem.ncbi.nlm.nih.gov/image/imgsrv.fcgi?cid=2244&t=l\"/>",
      "text/plain": "<IPython.core.display.Image object>"
     },
     "execution_count": 26,
     "metadata": {},
     "output_type": "execute_result"
    }
   ],
   "source": [
    "aspirin = pcp.Compound.from_cid(2244)\n",
    "Image(url='https://pubchem.ncbi.nlm.nih.gov/image/imgsrv.fcgi?cid=2244&t=l')"
   ],
   "metadata": {
    "collapsed": false,
    "pycharm": {
     "name": "#%%\n"
    }
   }
  },
  {
   "cell_type": "code",
   "execution_count": 29,
   "outputs": [
    {
     "data": {
      "text/html": "<img src=\"https://pubchem.ncbi.nlm.nih.gov/image/imgsrv.fcgi?cid=356&t=l\"/>",
      "text/plain": "<IPython.core.display.Image object>"
     },
     "execution_count": 29,
     "metadata": {},
     "output_type": "execute_result"
    }
   ],
   "source": [
    "Image(url='https://pubchem.ncbi.nlm.nih.gov/image/imgsrv.fcgi?cid=356&t=l')"
   ],
   "metadata": {
    "collapsed": false,
    "pycharm": {
     "name": "#%%\n"
    }
   }
  }
 ],
 "metadata": {
  "kernelspec": {
   "display_name": "Python 3",
   "language": "python",
   "name": "python3"
  },
  "language_info": {
   "codemirror_mode": {
    "name": "ipython",
    "version": 2
   },
   "file_extension": ".py",
   "mimetype": "text/x-python",
   "name": "python",
   "nbconvert_exporter": "python",
   "pygments_lexer": "ipython2",
   "version": "2.7.6"
  }
 },
 "nbformat": 4,
 "nbformat_minor": 0
}