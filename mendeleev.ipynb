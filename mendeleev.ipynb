{
 "cells": [
  {
   "cell_type": "markdown",
   "metadata": {
    "collapsed": true,
    "pycharm": {
     "name": "#%% md\n"
    }
   },
   "source": [
    "# Periodic Table"
   ]
  },
  {
   "cell_type": "code",
   "execution_count": 11,
   "outputs": [
    {
     "data": {
      "application/vnd.plotly.v1+json": {
       "data": [],
       "layout": {
        "template": {
         "data": {
          "barpolar": [
           {
            "marker": {
             "line": {
              "color": "white",
              "width": 0.5
             },
             "pattern": {
              "fillmode": "overlay",
              "size": 10,
              "solidity": 0.2
             }
            },
            "type": "barpolar"
           }
          ],
          "bar": [
           {
            "error_x": {
             "color": "#2a3f5f"
            },
            "error_y": {
             "color": "#2a3f5f"
            },
            "marker": {
             "line": {
              "color": "white",
              "width": 0.5
             },
             "pattern": {
              "fillmode": "overlay",
              "size": 10,
              "solidity": 0.2
             }
            },
            "type": "bar"
           }
          ],
          "carpet": [
           {
            "aaxis": {
             "endlinecolor": "#2a3f5f",
             "gridcolor": "#C8D4E3",
             "linecolor": "#C8D4E3",
             "minorgridcolor": "#C8D4E3",
             "startlinecolor": "#2a3f5f"
            },
            "baxis": {
             "endlinecolor": "#2a3f5f",
             "gridcolor": "#C8D4E3",
             "linecolor": "#C8D4E3",
             "minorgridcolor": "#C8D4E3",
             "startlinecolor": "#2a3f5f"
            },
            "type": "carpet"
           }
          ],
          "choropleth": [
           {
            "colorbar": {
             "outlinewidth": 0,
             "ticks": ""
            },
            "type": "choropleth"
           }
          ],
          "contourcarpet": [
           {
            "colorbar": {
             "outlinewidth": 0,
             "ticks": ""
            },
            "type": "contourcarpet"
           }
          ],
          "contour": [
           {
            "colorbar": {
             "outlinewidth": 0,
             "ticks": ""
            },
            "colorscale": [
             [
              0.0,
              "#0d0887"
             ],
             [
              0.1111111111111111,
              "#46039f"
             ],
             [
              0.2222222222222222,
              "#7201a8"
             ],
             [
              0.3333333333333333,
              "#9c179e"
             ],
             [
              0.4444444444444444,
              "#bd3786"
             ],
             [
              0.5555555555555556,
              "#d8576b"
             ],
             [
              0.6666666666666666,
              "#ed7953"
             ],
             [
              0.7777777777777778,
              "#fb9f3a"
             ],
             [
              0.8888888888888888,
              "#fdca26"
             ],
             [
              1.0,
              "#f0f921"
             ]
            ],
            "type": "contour"
           }
          ],
          "heatmapgl": [
           {
            "colorbar": {
             "outlinewidth": 0,
             "ticks": ""
            },
            "colorscale": [
             [
              0.0,
              "#0d0887"
             ],
             [
              0.1111111111111111,
              "#46039f"
             ],
             [
              0.2222222222222222,
              "#7201a8"
             ],
             [
              0.3333333333333333,
              "#9c179e"
             ],
             [
              0.4444444444444444,
              "#bd3786"
             ],
             [
              0.5555555555555556,
              "#d8576b"
             ],
             [
              0.6666666666666666,
              "#ed7953"
             ],
             [
              0.7777777777777778,
              "#fb9f3a"
             ],
             [
              0.8888888888888888,
              "#fdca26"
             ],
             [
              1.0,
              "#f0f921"
             ]
            ],
            "type": "heatmapgl"
           }
          ],
          "heatmap": [
           {
            "colorbar": {
             "outlinewidth": 0,
             "ticks": ""
            },
            "colorscale": [
             [
              0.0,
              "#0d0887"
             ],
             [
              0.1111111111111111,
              "#46039f"
             ],
             [
              0.2222222222222222,
              "#7201a8"
             ],
             [
              0.3333333333333333,
              "#9c179e"
             ],
             [
              0.4444444444444444,
              "#bd3786"
             ],
             [
              0.5555555555555556,
              "#d8576b"
             ],
             [
              0.6666666666666666,
              "#ed7953"
             ],
             [
              0.7777777777777778,
              "#fb9f3a"
             ],
             [
              0.8888888888888888,
              "#fdca26"
             ],
             [
              1.0,
              "#f0f921"
             ]
            ],
            "type": "heatmap"
           }
          ],
          "histogram2dcontour": [
           {
            "colorbar": {
             "outlinewidth": 0,
             "ticks": ""
            },
            "colorscale": [
             [
              0.0,
              "#0d0887"
             ],
             [
              0.1111111111111111,
              "#46039f"
             ],
             [
              0.2222222222222222,
              "#7201a8"
             ],
             [
              0.3333333333333333,
              "#9c179e"
             ],
             [
              0.4444444444444444,
              "#bd3786"
             ],
             [
              0.5555555555555556,
              "#d8576b"
             ],
             [
              0.6666666666666666,
              "#ed7953"
             ],
             [
              0.7777777777777778,
              "#fb9f3a"
             ],
             [
              0.8888888888888888,
              "#fdca26"
             ],
             [
              1.0,
              "#f0f921"
             ]
            ],
            "type": "histogram2dcontour"
           }
          ],
          "histogram2d": [
           {
            "colorbar": {
             "outlinewidth": 0,
             "ticks": ""
            },
            "colorscale": [
             [
              0.0,
              "#0d0887"
             ],
             [
              0.1111111111111111,
              "#46039f"
             ],
             [
              0.2222222222222222,
              "#7201a8"
             ],
             [
              0.3333333333333333,
              "#9c179e"
             ],
             [
              0.4444444444444444,
              "#bd3786"
             ],
             [
              0.5555555555555556,
              "#d8576b"
             ],
             [
              0.6666666666666666,
              "#ed7953"
             ],
             [
              0.7777777777777778,
              "#fb9f3a"
             ],
             [
              0.8888888888888888,
              "#fdca26"
             ],
             [
              1.0,
              "#f0f921"
             ]
            ],
            "type": "histogram2d"
           }
          ],
          "histogram": [
           {
            "marker": {
             "pattern": {
              "fillmode": "overlay",
              "size": 10,
              "solidity": 0.2
             }
            },
            "type": "histogram"
           }
          ],
          "mesh3d": [
           {
            "colorbar": {
             "outlinewidth": 0,
             "ticks": ""
            },
            "type": "mesh3d"
           }
          ],
          "parcoords": [
           {
            "line": {
             "colorbar": {
              "outlinewidth": 0,
              "ticks": ""
             }
            },
            "type": "parcoords"
           }
          ],
          "pie": [
           {
            "automargin": true,
            "type": "pie"
           }
          ],
          "scatter3d": [
           {
            "line": {
             "colorbar": {
              "outlinewidth": 0,
              "ticks": ""
             }
            },
            "marker": {
             "colorbar": {
              "outlinewidth": 0,
              "ticks": ""
             }
            },
            "type": "scatter3d"
           }
          ],
          "scattercarpet": [
           {
            "marker": {
             "colorbar": {
              "outlinewidth": 0,
              "ticks": ""
             }
            },
            "type": "scattercarpet"
           }
          ],
          "scattergeo": [
           {
            "marker": {
             "colorbar": {
              "outlinewidth": 0,
              "ticks": ""
             }
            },
            "type": "scattergeo"
           }
          ],
          "scattergl": [
           {
            "marker": {
             "colorbar": {
              "outlinewidth": 0,
              "ticks": ""
             }
            },
            "type": "scattergl"
           }
          ],
          "scattermapbox": [
           {
            "marker": {
             "colorbar": {
              "outlinewidth": 0,
              "ticks": ""
             }
            },
            "type": "scattermapbox"
           }
          ],
          "scatterpolargl": [
           {
            "marker": {
             "colorbar": {
              "outlinewidth": 0,
              "ticks": ""
             }
            },
            "type": "scatterpolargl"
           }
          ],
          "scatterpolar": [
           {
            "marker": {
             "colorbar": {
              "outlinewidth": 0,
              "ticks": ""
             }
            },
            "type": "scatterpolar"
           }
          ],
          "scatter": [
           {
            "fillpattern": {
             "fillmode": "overlay",
             "size": 10,
             "solidity": 0.2
            },
            "type": "scatter"
           }
          ],
          "scatterternary": [
           {
            "marker": {
             "colorbar": {
              "outlinewidth": 0,
              "ticks": ""
             }
            },
            "type": "scatterternary"
           }
          ],
          "surface": [
           {
            "colorbar": {
             "outlinewidth": 0,
             "ticks": ""
            },
            "colorscale": [
             [
              0.0,
              "#0d0887"
             ],
             [
              0.1111111111111111,
              "#46039f"
             ],
             [
              0.2222222222222222,
              "#7201a8"
             ],
             [
              0.3333333333333333,
              "#9c179e"
             ],
             [
              0.4444444444444444,
              "#bd3786"
             ],
             [
              0.5555555555555556,
              "#d8576b"
             ],
             [
              0.6666666666666666,
              "#ed7953"
             ],
             [
              0.7777777777777778,
              "#fb9f3a"
             ],
             [
              0.8888888888888888,
              "#fdca26"
             ],
             [
              1.0,
              "#f0f921"
             ]
            ],
            "type": "surface"
           }
          ],
          "table": [
           {
            "cells": {
             "fill": {
              "color": "#EBF0F8"
             },
             "line": {
              "color": "white"
             }
            },
            "header": {
             "fill": {
              "color": "#C8D4E3"
             },
             "line": {
              "color": "white"
             }
            },
            "type": "table"
           }
          ]
         },
         "layout": {
          "annotationdefaults": {
           "arrowcolor": "#2a3f5f",
           "arrowhead": 0,
           "arrowwidth": 1
          },
          "autotypenumbers": "strict",
          "coloraxis": {
           "colorbar": {
            "outlinewidth": 0,
            "ticks": ""
           }
          },
          "colorscale": {
           "diverging": [
            [
             0,
             "#8e0152"
            ],
            [
             0.1,
             "#c51b7d"
            ],
            [
             0.2,
             "#de77ae"
            ],
            [
             0.3,
             "#f1b6da"
            ],
            [
             0.4,
             "#fde0ef"
            ],
            [
             0.5,
             "#f7f7f7"
            ],
            [
             0.6,
             "#e6f5d0"
            ],
            [
             0.7,
             "#b8e186"
            ],
            [
             0.8,
             "#7fbc41"
            ],
            [
             0.9,
             "#4d9221"
            ],
            [
             1,
             "#276419"
            ]
           ],
           "sequential": [
            [
             0.0,
             "#0d0887"
            ],
            [
             0.1111111111111111,
             "#46039f"
            ],
            [
             0.2222222222222222,
             "#7201a8"
            ],
            [
             0.3333333333333333,
             "#9c179e"
            ],
            [
             0.4444444444444444,
             "#bd3786"
            ],
            [
             0.5555555555555556,
             "#d8576b"
            ],
            [
             0.6666666666666666,
             "#ed7953"
            ],
            [
             0.7777777777777778,
             "#fb9f3a"
            ],
            [
             0.8888888888888888,
             "#fdca26"
            ],
            [
             1.0,
             "#f0f921"
            ]
           ],
           "sequentialminus": [
            [
             0.0,
             "#0d0887"
            ],
            [
             0.1111111111111111,
             "#46039f"
            ],
            [
             0.2222222222222222,
             "#7201a8"
            ],
            [
             0.3333333333333333,
             "#9c179e"
            ],
            [
             0.4444444444444444,
             "#bd3786"
            ],
            [
             0.5555555555555556,
             "#d8576b"
            ],
            [
             0.6666666666666666,
             "#ed7953"
            ],
            [
             0.7777777777777778,
             "#fb9f3a"
            ],
            [
             0.8888888888888888,
             "#fdca26"
            ],
            [
             1.0,
             "#f0f921"
            ]
           ]
          },
          "colorway": [
           "#636efa",
           "#EF553B",
           "#00cc96",
           "#ab63fa",
           "#FFA15A",
           "#19d3f3",
           "#FF6692",
           "#B6E880",
           "#FF97FF",
           "#FECB52"
          ],
          "font": {
           "color": "#2a3f5f"
          },
          "geo": {
           "bgcolor": "white",
           "lakecolor": "white",
           "landcolor": "white",
           "showlakes": true,
           "showland": true,
           "subunitcolor": "#C8D4E3"
          },
          "hoverlabel": {
           "align": "left"
          },
          "hovermode": "closest",
          "mapbox": {
           "style": "light"
          },
          "paper_bgcolor": "white",
          "plot_bgcolor": "white",
          "polar": {
           "angularaxis": {
            "gridcolor": "#EBF0F8",
            "linecolor": "#EBF0F8",
            "ticks": ""
           },
           "bgcolor": "white",
           "radialaxis": {
            "gridcolor": "#EBF0F8",
            "linecolor": "#EBF0F8",
            "ticks": ""
           }
          },
          "scene": {
           "xaxis": {
            "backgroundcolor": "white",
            "gridcolor": "#DFE8F3",
            "gridwidth": 2,
            "linecolor": "#EBF0F8",
            "showbackground": true,
            "ticks": "",
            "zerolinecolor": "#EBF0F8"
           },
           "yaxis": {
            "backgroundcolor": "white",
            "gridcolor": "#DFE8F3",
            "gridwidth": 2,
            "linecolor": "#EBF0F8",
            "showbackground": true,
            "ticks": "",
            "zerolinecolor": "#EBF0F8"
           },
           "zaxis": {
            "backgroundcolor": "white",
            "gridcolor": "#DFE8F3",
            "gridwidth": 2,
            "linecolor": "#EBF0F8",
            "showbackground": true,
            "ticks": "",
            "zerolinecolor": "#EBF0F8"
           }
          },
          "shapedefaults": {
           "line": {
            "color": "#2a3f5f"
           }
          },
          "ternary": {
           "aaxis": {
            "gridcolor": "#DFE8F3",
            "linecolor": "#A2B1C6",
            "ticks": ""
           },
           "baxis": {
            "gridcolor": "#DFE8F3",
            "linecolor": "#A2B1C6",
            "ticks": ""
           },
           "bgcolor": "white",
           "caxis": {
            "gridcolor": "#DFE8F3",
            "linecolor": "#A2B1C6",
            "ticks": ""
           }
          },
          "title": {
           "x": 0.05
          },
          "xaxis": {
           "automargin": true,
           "gridcolor": "#EBF0F8",
           "linecolor": "#EBF0F8",
           "ticks": "",
           "title": {
            "standoff": 15
           },
           "zerolinecolor": "#EBF0F8",
           "zerolinewidth": 2
          },
          "yaxis": {
           "automargin": true,
           "gridcolor": "#EBF0F8",
           "linecolor": "#EBF0F8",
           "ticks": "",
           "title": {
            "standoff": 15
           },
           "zerolinecolor": "#EBF0F8",
           "zerolinewidth": 2
          }
         }
        },
        "shapes": [
         {
          "fillcolor": "#baa2a6",
          "line": {
           "color": "#baa2a6"
          },
          "opacity": 0.8,
          "type": "rect",
          "x0": 0.55,
          "x1": 1.45,
          "y0": 0.55,
          "y1": 1.45
         },
         {
          "fillcolor": "#bbbb88",
          "line": {
           "color": "#bbbb88"
          },
          "opacity": 0.8,
          "type": "rect",
          "x0": 17.55,
          "x1": 18.45,
          "y0": 0.55,
          "y1": 1.45
         },
         {
          "fillcolor": "#a6cee3",
          "line": {
           "color": "#a6cee3"
          },
          "opacity": 0.8,
          "type": "rect",
          "x0": 0.55,
          "x1": 1.45,
          "y0": 1.55,
          "y1": 2.45
         },
         {
          "fillcolor": "#1f78b4",
          "line": {
           "color": "#1f78b4"
          },
          "opacity": 0.8,
          "type": "rect",
          "x0": 1.55,
          "x1": 2.45,
          "y0": 1.55,
          "y1": 2.45
         },
         {
          "fillcolor": "#33a02c",
          "line": {
           "color": "#33a02c"
          },
          "opacity": 0.8,
          "type": "rect",
          "x0": 12.55,
          "x1": 13.45,
          "y0": 1.55,
          "y1": 2.45
         },
         {
          "fillcolor": "#baa2a6",
          "line": {
           "color": "#baa2a6"
          },
          "opacity": 0.8,
          "type": "rect",
          "x0": 13.55,
          "x1": 14.45,
          "y0": 1.55,
          "y1": 2.45
         },
         {
          "fillcolor": "#baa2a6",
          "line": {
           "color": "#baa2a6"
          },
          "opacity": 0.8,
          "type": "rect",
          "x0": 14.55,
          "x1": 15.45,
          "y0": 1.55,
          "y1": 2.45
         },
         {
          "fillcolor": "#baa2a6",
          "line": {
           "color": "#baa2a6"
          },
          "opacity": 0.8,
          "type": "rect",
          "x0": 15.55,
          "x1": 16.45,
          "y0": 1.55,
          "y1": 2.45
         },
         {
          "fillcolor": "#fdbf6f",
          "line": {
           "color": "#fdbf6f"
          },
          "opacity": 0.8,
          "type": "rect",
          "x0": 16.55,
          "x1": 17.45,
          "y0": 1.55,
          "y1": 2.45
         },
         {
          "fillcolor": "#bbbb88",
          "line": {
           "color": "#bbbb88"
          },
          "opacity": 0.8,
          "type": "rect",
          "x0": 17.55,
          "x1": 18.45,
          "y0": 1.55,
          "y1": 2.45
         },
         {
          "fillcolor": "#a6cee3",
          "line": {
           "color": "#a6cee3"
          },
          "opacity": 0.8,
          "type": "rect",
          "x0": 0.55,
          "x1": 1.45,
          "y0": 2.55,
          "y1": 3.45
         },
         {
          "fillcolor": "#1f78b4",
          "line": {
           "color": "#1f78b4"
          },
          "opacity": 0.8,
          "type": "rect",
          "x0": 1.55,
          "x1": 2.45,
          "y0": 2.55,
          "y1": 3.45
         },
         {
          "fillcolor": "#b2df8a",
          "line": {
           "color": "#b2df8a"
          },
          "opacity": 0.8,
          "type": "rect",
          "x0": 12.55,
          "x1": 13.45,
          "y0": 2.55,
          "y1": 3.45
         },
         {
          "fillcolor": "#33a02c",
          "line": {
           "color": "#33a02c"
          },
          "opacity": 0.8,
          "type": "rect",
          "x0": 13.55,
          "x1": 14.45,
          "y0": 2.55,
          "y1": 3.45
         },
         {
          "fillcolor": "#baa2a6",
          "line": {
           "color": "#baa2a6"
          },
          "opacity": 0.8,
          "type": "rect",
          "x0": 14.55,
          "x1": 15.45,
          "y0": 2.55,
          "y1": 3.45
         },
         {
          "fillcolor": "#baa2a6",
          "line": {
           "color": "#baa2a6"
          },
          "opacity": 0.8,
          "type": "rect",
          "x0": 15.55,
          "x1": 16.45,
          "y0": 2.55,
          "y1": 3.45
         },
         {
          "fillcolor": "#fdbf6f",
          "line": {
           "color": "#fdbf6f"
          },
          "opacity": 0.8,
          "type": "rect",
          "x0": 16.55,
          "x1": 17.45,
          "y0": 2.55,
          "y1": 3.45
         },
         {
          "fillcolor": "#bbbb88",
          "line": {
           "color": "#bbbb88"
          },
          "opacity": 0.8,
          "type": "rect",
          "x0": 17.55,
          "x1": 18.45,
          "y0": 2.55,
          "y1": 3.45
         },
         {
          "fillcolor": "#a6cee3",
          "line": {
           "color": "#a6cee3"
          },
          "opacity": 0.8,
          "type": "rect",
          "x0": 0.55,
          "x1": 1.45,
          "y0": 3.55,
          "y1": 4.45
         },
         {
          "fillcolor": "#1f78b4",
          "line": {
           "color": "#1f78b4"
          },
          "opacity": 0.8,
          "type": "rect",
          "x0": 1.55,
          "x1": 2.45,
          "y0": 3.55,
          "y1": 4.45
         },
         {
          "fillcolor": "#e08e79",
          "line": {
           "color": "#e08e79"
          },
          "opacity": 0.8,
          "type": "rect",
          "x0": 2.55,
          "x1": 3.45,
          "y0": 3.55,
          "y1": 4.45
         },
         {
          "fillcolor": "#e08e79",
          "line": {
           "color": "#e08e79"
          },
          "opacity": 0.8,
          "type": "rect",
          "x0": 3.55,
          "x1": 4.45,
          "y0": 3.55,
          "y1": 4.45
         },
         {
          "fillcolor": "#e08e79",
          "line": {
           "color": "#e08e79"
          },
          "opacity": 0.8,
          "type": "rect",
          "x0": 4.55,
          "x1": 5.45,
          "y0": 3.55,
          "y1": 4.45
         },
         {
          "fillcolor": "#e08e79",
          "line": {
           "color": "#e08e79"
          },
          "opacity": 0.8,
          "type": "rect",
          "x0": 5.55,
          "x1": 6.45,
          "y0": 3.55,
          "y1": 4.45
         },
         {
          "fillcolor": "#e08e79",
          "line": {
           "color": "#e08e79"
          },
          "opacity": 0.8,
          "type": "rect",
          "x0": 6.55,
          "x1": 7.45,
          "y0": 3.55,
          "y1": 4.45
         },
         {
          "fillcolor": "#e08e79",
          "line": {
           "color": "#e08e79"
          },
          "opacity": 0.8,
          "type": "rect",
          "x0": 7.55,
          "x1": 8.45,
          "y0": 3.55,
          "y1": 4.45
         },
         {
          "fillcolor": "#e08e79",
          "line": {
           "color": "#e08e79"
          },
          "opacity": 0.8,
          "type": "rect",
          "x0": 8.55,
          "x1": 9.45,
          "y0": 3.55,
          "y1": 4.45
         },
         {
          "fillcolor": "#e08e79",
          "line": {
           "color": "#e08e79"
          },
          "opacity": 0.8,
          "type": "rect",
          "x0": 9.55,
          "x1": 10.45,
          "y0": 3.55,
          "y1": 4.45
         },
         {
          "fillcolor": "#e08e79",
          "line": {
           "color": "#e08e79"
          },
          "opacity": 0.8,
          "type": "rect",
          "x0": 10.55,
          "x1": 11.45,
          "y0": 3.55,
          "y1": 4.45
         },
         {
          "fillcolor": "#e08e79",
          "line": {
           "color": "#e08e79"
          },
          "opacity": 0.8,
          "type": "rect",
          "x0": 11.55,
          "x1": 12.45,
          "y0": 3.55,
          "y1": 4.45
         },
         {
          "fillcolor": "#b2df8a",
          "line": {
           "color": "#b2df8a"
          },
          "opacity": 0.8,
          "type": "rect",
          "x0": 12.55,
          "x1": 13.45,
          "y0": 3.55,
          "y1": 4.45
         },
         {
          "fillcolor": "#33a02c",
          "line": {
           "color": "#33a02c"
          },
          "opacity": 0.8,
          "type": "rect",
          "x0": 13.55,
          "x1": 14.45,
          "y0": 3.55,
          "y1": 4.45
         },
         {
          "fillcolor": "#33a02c",
          "line": {
           "color": "#33a02c"
          },
          "opacity": 0.8,
          "type": "rect",
          "x0": 14.55,
          "x1": 15.45,
          "y0": 3.55,
          "y1": 4.45
         },
         {
          "fillcolor": "#baa2a6",
          "line": {
           "color": "#baa2a6"
          },
          "opacity": 0.8,
          "type": "rect",
          "x0": 15.55,
          "x1": 16.45,
          "y0": 3.55,
          "y1": 4.45
         },
         {
          "fillcolor": "#fdbf6f",
          "line": {
           "color": "#fdbf6f"
          },
          "opacity": 0.8,
          "type": "rect",
          "x0": 16.55,
          "x1": 17.45,
          "y0": 3.55,
          "y1": 4.45
         },
         {
          "fillcolor": "#bbbb88",
          "line": {
           "color": "#bbbb88"
          },
          "opacity": 0.8,
          "type": "rect",
          "x0": 17.55,
          "x1": 18.45,
          "y0": 3.55,
          "y1": 4.45
         },
         {
          "fillcolor": "#a6cee3",
          "line": {
           "color": "#a6cee3"
          },
          "opacity": 0.8,
          "type": "rect",
          "x0": 0.55,
          "x1": 1.45,
          "y0": 4.55,
          "y1": 5.45
         },
         {
          "fillcolor": "#1f78b4",
          "line": {
           "color": "#1f78b4"
          },
          "opacity": 0.8,
          "type": "rect",
          "x0": 1.55,
          "x1": 2.45,
          "y0": 4.55,
          "y1": 5.45
         },
         {
          "fillcolor": "#e08e79",
          "line": {
           "color": "#e08e79"
          },
          "opacity": 0.8,
          "type": "rect",
          "x0": 2.55,
          "x1": 3.45,
          "y0": 4.55,
          "y1": 5.45
         },
         {
          "fillcolor": "#e08e79",
          "line": {
           "color": "#e08e79"
          },
          "opacity": 0.8,
          "type": "rect",
          "x0": 3.55,
          "x1": 4.45,
          "y0": 4.55,
          "y1": 5.45
         },
         {
          "fillcolor": "#e08e79",
          "line": {
           "color": "#e08e79"
          },
          "opacity": 0.8,
          "type": "rect",
          "x0": 4.55,
          "x1": 5.45,
          "y0": 4.55,
          "y1": 5.45
         },
         {
          "fillcolor": "#e08e79",
          "line": {
           "color": "#e08e79"
          },
          "opacity": 0.8,
          "type": "rect",
          "x0": 5.55,
          "x1": 6.45,
          "y0": 4.55,
          "y1": 5.45
         },
         {
          "fillcolor": "#e08e79",
          "line": {
           "color": "#e08e79"
          },
          "opacity": 0.8,
          "type": "rect",
          "x0": 6.55,
          "x1": 7.45,
          "y0": 4.55,
          "y1": 5.45
         },
         {
          "fillcolor": "#e08e79",
          "line": {
           "color": "#e08e79"
          },
          "opacity": 0.8,
          "type": "rect",
          "x0": 7.55,
          "x1": 8.45,
          "y0": 4.55,
          "y1": 5.45
         },
         {
          "fillcolor": "#e08e79",
          "line": {
           "color": "#e08e79"
          },
          "opacity": 0.8,
          "type": "rect",
          "x0": 8.55,
          "x1": 9.45,
          "y0": 4.55,
          "y1": 5.45
         },
         {
          "fillcolor": "#e08e79",
          "line": {
           "color": "#e08e79"
          },
          "opacity": 0.8,
          "type": "rect",
          "x0": 9.55,
          "x1": 10.45,
          "y0": 4.55,
          "y1": 5.45
         },
         {
          "fillcolor": "#e08e79",
          "line": {
           "color": "#e08e79"
          },
          "opacity": 0.8,
          "type": "rect",
          "x0": 10.55,
          "x1": 11.45,
          "y0": 4.55,
          "y1": 5.45
         },
         {
          "fillcolor": "#e08e79",
          "line": {
           "color": "#e08e79"
          },
          "opacity": 0.8,
          "type": "rect",
          "x0": 11.55,
          "x1": 12.45,
          "y0": 4.55,
          "y1": 5.45
         },
         {
          "fillcolor": "#b2df8a",
          "line": {
           "color": "#b2df8a"
          },
          "opacity": 0.8,
          "type": "rect",
          "x0": 12.55,
          "x1": 13.45,
          "y0": 4.55,
          "y1": 5.45
         },
         {
          "fillcolor": "#b2df8a",
          "line": {
           "color": "#b2df8a"
          },
          "opacity": 0.8,
          "type": "rect",
          "x0": 13.55,
          "x1": 14.45,
          "y0": 4.55,
          "y1": 5.45
         },
         {
          "fillcolor": "#33a02c",
          "line": {
           "color": "#33a02c"
          },
          "opacity": 0.8,
          "type": "rect",
          "x0": 14.55,
          "x1": 15.45,
          "y0": 4.55,
          "y1": 5.45
         },
         {
          "fillcolor": "#33a02c",
          "line": {
           "color": "#33a02c"
          },
          "opacity": 0.8,
          "type": "rect",
          "x0": 15.55,
          "x1": 16.45,
          "y0": 4.55,
          "y1": 5.45
         },
         {
          "fillcolor": "#fdbf6f",
          "line": {
           "color": "#fdbf6f"
          },
          "opacity": 0.8,
          "type": "rect",
          "x0": 16.55,
          "x1": 17.45,
          "y0": 4.55,
          "y1": 5.45
         },
         {
          "fillcolor": "#bbbb88",
          "line": {
           "color": "#bbbb88"
          },
          "opacity": 0.8,
          "type": "rect",
          "x0": 17.55,
          "x1": 18.45,
          "y0": 4.55,
          "y1": 5.45
         },
         {
          "fillcolor": "#a6cee3",
          "line": {
           "color": "#a6cee3"
          },
          "opacity": 0.8,
          "type": "rect",
          "x0": 0.55,
          "x1": 1.45,
          "y0": 5.55,
          "y1": 6.45
         },
         {
          "fillcolor": "#1f78b4",
          "line": {
           "color": "#1f78b4"
          },
          "opacity": 0.8,
          "type": "rect",
          "x0": 1.55,
          "x1": 2.45,
          "y0": 5.55,
          "y1": 6.45
         },
         {
          "fillcolor": "#cab2d6",
          "line": {
           "color": "#cab2d6"
          },
          "opacity": 0.8,
          "type": "rect",
          "x0": 2.55,
          "x1": 3.45,
          "y0": 5.55,
          "y1": 6.45
         },
         {
          "fillcolor": "#cab2d6",
          "line": {
           "color": "#cab2d6"
          },
          "opacity": 0.8,
          "type": "rect",
          "x0": 2.55,
          "x1": 3.45,
          "y0": 8.05,
          "y1": 8.95
         },
         {
          "fillcolor": "#cab2d6",
          "line": {
           "color": "#cab2d6"
          },
          "opacity": 0.8,
          "type": "rect",
          "x0": 3.55,
          "x1": 4.45,
          "y0": 8.05,
          "y1": 8.95
         },
         {
          "fillcolor": "#cab2d6",
          "line": {
           "color": "#cab2d6"
          },
          "opacity": 0.8,
          "type": "rect",
          "x0": 4.55,
          "x1": 5.45,
          "y0": 8.05,
          "y1": 8.95
         },
         {
          "fillcolor": "#cab2d6",
          "line": {
           "color": "#cab2d6"
          },
          "opacity": 0.8,
          "type": "rect",
          "x0": 5.55,
          "x1": 6.45,
          "y0": 8.05,
          "y1": 8.95
         },
         {
          "fillcolor": "#cab2d6",
          "line": {
           "color": "#cab2d6"
          },
          "opacity": 0.8,
          "type": "rect",
          "x0": 6.55,
          "x1": 7.45,
          "y0": 8.05,
          "y1": 8.95
         },
         {
          "fillcolor": "#cab2d6",
          "line": {
           "color": "#cab2d6"
          },
          "opacity": 0.8,
          "type": "rect",
          "x0": 7.55,
          "x1": 8.45,
          "y0": 8.05,
          "y1": 8.95
         },
         {
          "fillcolor": "#cab2d6",
          "line": {
           "color": "#cab2d6"
          },
          "opacity": 0.8,
          "type": "rect",
          "x0": 8.55,
          "x1": 9.45,
          "y0": 8.05,
          "y1": 8.95
         },
         {
          "fillcolor": "#cab2d6",
          "line": {
           "color": "#cab2d6"
          },
          "opacity": 0.8,
          "type": "rect",
          "x0": 9.55,
          "x1": 10.45,
          "y0": 8.05,
          "y1": 8.95
         },
         {
          "fillcolor": "#cab2d6",
          "line": {
           "color": "#cab2d6"
          },
          "opacity": 0.8,
          "type": "rect",
          "x0": 10.55,
          "x1": 11.45,
          "y0": 8.05,
          "y1": 8.95
         },
         {
          "fillcolor": "#cab2d6",
          "line": {
           "color": "#cab2d6"
          },
          "opacity": 0.8,
          "type": "rect",
          "x0": 11.55,
          "x1": 12.45,
          "y0": 8.05,
          "y1": 8.95
         },
         {
          "fillcolor": "#cab2d6",
          "line": {
           "color": "#cab2d6"
          },
          "opacity": 0.8,
          "type": "rect",
          "x0": 12.55,
          "x1": 13.45,
          "y0": 8.05,
          "y1": 8.95
         },
         {
          "fillcolor": "#cab2d6",
          "line": {
           "color": "#cab2d6"
          },
          "opacity": 0.8,
          "type": "rect",
          "x0": 13.55,
          "x1": 14.45,
          "y0": 8.05,
          "y1": 8.95
         },
         {
          "fillcolor": "#cab2d6",
          "line": {
           "color": "#cab2d6"
          },
          "opacity": 0.8,
          "type": "rect",
          "x0": 14.55,
          "x1": 15.45,
          "y0": 8.05,
          "y1": 8.95
         },
         {
          "fillcolor": "#e08e79",
          "line": {
           "color": "#e08e79"
          },
          "opacity": 0.8,
          "type": "rect",
          "x0": 15.55,
          "x1": 16.45,
          "y0": 8.05,
          "y1": 8.95
         },
         {
          "fillcolor": "#e08e79",
          "line": {
           "color": "#e08e79"
          },
          "opacity": 0.8,
          "type": "rect",
          "x0": 3.55,
          "x1": 4.45,
          "y0": 5.55,
          "y1": 6.45
         },
         {
          "fillcolor": "#e08e79",
          "line": {
           "color": "#e08e79"
          },
          "opacity": 0.8,
          "type": "rect",
          "x0": 4.55,
          "x1": 5.45,
          "y0": 5.55,
          "y1": 6.45
         },
         {
          "fillcolor": "#e08e79",
          "line": {
           "color": "#e08e79"
          },
          "opacity": 0.8,
          "type": "rect",
          "x0": 5.55,
          "x1": 6.45,
          "y0": 5.55,
          "y1": 6.45
         },
         {
          "fillcolor": "#e08e79",
          "line": {
           "color": "#e08e79"
          },
          "opacity": 0.8,
          "type": "rect",
          "x0": 6.55,
          "x1": 7.45,
          "y0": 5.55,
          "y1": 6.45
         },
         {
          "fillcolor": "#e08e79",
          "line": {
           "color": "#e08e79"
          },
          "opacity": 0.8,
          "type": "rect",
          "x0": 7.55,
          "x1": 8.45,
          "y0": 5.55,
          "y1": 6.45
         },
         {
          "fillcolor": "#e08e79",
          "line": {
           "color": "#e08e79"
          },
          "opacity": 0.8,
          "type": "rect",
          "x0": 8.55,
          "x1": 9.45,
          "y0": 5.55,
          "y1": 6.45
         },
         {
          "fillcolor": "#e08e79",
          "line": {
           "color": "#e08e79"
          },
          "opacity": 0.8,
          "type": "rect",
          "x0": 9.55,
          "x1": 10.45,
          "y0": 5.55,
          "y1": 6.45
         },
         {
          "fillcolor": "#e08e79",
          "line": {
           "color": "#e08e79"
          },
          "opacity": 0.8,
          "type": "rect",
          "x0": 10.55,
          "x1": 11.45,
          "y0": 5.55,
          "y1": 6.45
         },
         {
          "fillcolor": "#e08e79",
          "line": {
           "color": "#e08e79"
          },
          "opacity": 0.8,
          "type": "rect",
          "x0": 11.55,
          "x1": 12.45,
          "y0": 5.55,
          "y1": 6.45
         },
         {
          "fillcolor": "#b2df8a",
          "line": {
           "color": "#b2df8a"
          },
          "opacity": 0.8,
          "type": "rect",
          "x0": 12.55,
          "x1": 13.45,
          "y0": 5.55,
          "y1": 6.45
         },
         {
          "fillcolor": "#b2df8a",
          "line": {
           "color": "#b2df8a"
          },
          "opacity": 0.8,
          "type": "rect",
          "x0": 13.55,
          "x1": 14.45,
          "y0": 5.55,
          "y1": 6.45
         },
         {
          "fillcolor": "#b2df8a",
          "line": {
           "color": "#b2df8a"
          },
          "opacity": 0.8,
          "type": "rect",
          "x0": 14.55,
          "x1": 15.45,
          "y0": 5.55,
          "y1": 6.45
         },
         {
          "fillcolor": "#33a02c",
          "line": {
           "color": "#33a02c"
          },
          "opacity": 0.8,
          "type": "rect",
          "x0": 15.55,
          "x1": 16.45,
          "y0": 5.55,
          "y1": 6.45
         },
         {
          "fillcolor": "#fdbf6f",
          "line": {
           "color": "#fdbf6f"
          },
          "opacity": 0.8,
          "type": "rect",
          "x0": 16.55,
          "x1": 17.45,
          "y0": 5.55,
          "y1": 6.45
         },
         {
          "fillcolor": "#bbbb88",
          "line": {
           "color": "#bbbb88"
          },
          "opacity": 0.8,
          "type": "rect",
          "x0": 17.55,
          "x1": 18.45,
          "y0": 5.55,
          "y1": 6.45
         },
         {
          "fillcolor": "#a6cee3",
          "line": {
           "color": "#a6cee3"
          },
          "opacity": 0.8,
          "type": "rect",
          "x0": 0.55,
          "x1": 1.45,
          "y0": 6.55,
          "y1": 7.45
         },
         {
          "fillcolor": "#1f78b4",
          "line": {
           "color": "#1f78b4"
          },
          "opacity": 0.8,
          "type": "rect",
          "x0": 1.55,
          "x1": 2.45,
          "y0": 6.55,
          "y1": 7.45
         },
         {
          "fillcolor": "#6a3d9a",
          "line": {
           "color": "#6a3d9a"
          },
          "opacity": 0.8,
          "type": "rect",
          "x0": 2.55,
          "x1": 3.45,
          "y0": 6.55,
          "y1": 7.45
         },
         {
          "fillcolor": "#6a3d9a",
          "line": {
           "color": "#6a3d9a"
          },
          "opacity": 0.8,
          "type": "rect",
          "x0": 2.55,
          "x1": 3.45,
          "y0": 9.05,
          "y1": 9.95
         },
         {
          "fillcolor": "#6a3d9a",
          "line": {
           "color": "#6a3d9a"
          },
          "opacity": 0.8,
          "type": "rect",
          "x0": 3.55,
          "x1": 4.45,
          "y0": 9.05,
          "y1": 9.95
         },
         {
          "fillcolor": "#6a3d9a",
          "line": {
           "color": "#6a3d9a"
          },
          "opacity": 0.8,
          "type": "rect",
          "x0": 4.55,
          "x1": 5.45,
          "y0": 9.05,
          "y1": 9.95
         },
         {
          "fillcolor": "#6a3d9a",
          "line": {
           "color": "#6a3d9a"
          },
          "opacity": 0.8,
          "type": "rect",
          "x0": 5.55,
          "x1": 6.45,
          "y0": 9.05,
          "y1": 9.95
         },
         {
          "fillcolor": "#6a3d9a",
          "line": {
           "color": "#6a3d9a"
          },
          "opacity": 0.8,
          "type": "rect",
          "x0": 6.55,
          "x1": 7.45,
          "y0": 9.05,
          "y1": 9.95
         },
         {
          "fillcolor": "#6a3d9a",
          "line": {
           "color": "#6a3d9a"
          },
          "opacity": 0.8,
          "type": "rect",
          "x0": 7.55,
          "x1": 8.45,
          "y0": 9.05,
          "y1": 9.95
         },
         {
          "fillcolor": "#6a3d9a",
          "line": {
           "color": "#6a3d9a"
          },
          "opacity": 0.8,
          "type": "rect",
          "x0": 8.55,
          "x1": 9.45,
          "y0": 9.05,
          "y1": 9.95
         },
         {
          "fillcolor": "#6a3d9a",
          "line": {
           "color": "#6a3d9a"
          },
          "opacity": 0.8,
          "type": "rect",
          "x0": 9.55,
          "x1": 10.45,
          "y0": 9.05,
          "y1": 9.95
         },
         {
          "fillcolor": "#6a3d9a",
          "line": {
           "color": "#6a3d9a"
          },
          "opacity": 0.8,
          "type": "rect",
          "x0": 10.55,
          "x1": 11.45,
          "y0": 9.05,
          "y1": 9.95
         },
         {
          "fillcolor": "#6a3d9a",
          "line": {
           "color": "#6a3d9a"
          },
          "opacity": 0.8,
          "type": "rect",
          "x0": 11.55,
          "x1": 12.45,
          "y0": 9.05,
          "y1": 9.95
         },
         {
          "fillcolor": "#6a3d9a",
          "line": {
           "color": "#6a3d9a"
          },
          "opacity": 0.8,
          "type": "rect",
          "x0": 12.55,
          "x1": 13.45,
          "y0": 9.05,
          "y1": 9.95
         },
         {
          "fillcolor": "#6a3d9a",
          "line": {
           "color": "#6a3d9a"
          },
          "opacity": 0.8,
          "type": "rect",
          "x0": 13.55,
          "x1": 14.45,
          "y0": 9.05,
          "y1": 9.95
         },
         {
          "fillcolor": "#6a3d9a",
          "line": {
           "color": "#6a3d9a"
          },
          "opacity": 0.8,
          "type": "rect",
          "x0": 14.55,
          "x1": 15.45,
          "y0": 9.05,
          "y1": 9.95
         },
         {
          "fillcolor": "#e08e79",
          "line": {
           "color": "#e08e79"
          },
          "opacity": 0.8,
          "type": "rect",
          "x0": 15.55,
          "x1": 16.45,
          "y0": 9.05,
          "y1": 9.95
         },
         {
          "fillcolor": "#e08e79",
          "line": {
           "color": "#e08e79"
          },
          "opacity": 0.8,
          "type": "rect",
          "x0": 3.55,
          "x1": 4.45,
          "y0": 6.55,
          "y1": 7.45
         },
         {
          "fillcolor": "#e08e79",
          "line": {
           "color": "#e08e79"
          },
          "opacity": 0.8,
          "type": "rect",
          "x0": 4.55,
          "x1": 5.45,
          "y0": 6.55,
          "y1": 7.45
         },
         {
          "fillcolor": "#e08e79",
          "line": {
           "color": "#e08e79"
          },
          "opacity": 0.8,
          "type": "rect",
          "x0": 5.55,
          "x1": 6.45,
          "y0": 6.55,
          "y1": 7.45
         },
         {
          "fillcolor": "#e08e79",
          "line": {
           "color": "#e08e79"
          },
          "opacity": 0.8,
          "type": "rect",
          "x0": 6.55,
          "x1": 7.45,
          "y0": 6.55,
          "y1": 7.45
         },
         {
          "fillcolor": "#e08e79",
          "line": {
           "color": "#e08e79"
          },
          "opacity": 0.8,
          "type": "rect",
          "x0": 7.55,
          "x1": 8.45,
          "y0": 6.55,
          "y1": 7.45
         },
         {
          "fillcolor": "#e08e79",
          "line": {
           "color": "#e08e79"
          },
          "opacity": 0.8,
          "type": "rect",
          "x0": 8.55,
          "x1": 9.45,
          "y0": 6.55,
          "y1": 7.45
         },
         {
          "fillcolor": "#e08e79",
          "line": {
           "color": "#e08e79"
          },
          "opacity": 0.8,
          "type": "rect",
          "x0": 9.55,
          "x1": 10.45,
          "y0": 6.55,
          "y1": 7.45
         },
         {
          "fillcolor": "#e08e79",
          "line": {
           "color": "#e08e79"
          },
          "opacity": 0.8,
          "type": "rect",
          "x0": 10.55,
          "x1": 11.45,
          "y0": 6.55,
          "y1": 7.45
         },
         {
          "fillcolor": "#e08e79",
          "line": {
           "color": "#e08e79"
          },
          "opacity": 0.8,
          "type": "rect",
          "x0": 11.55,
          "x1": 12.45,
          "y0": 6.55,
          "y1": 7.45
         },
         {
          "fillcolor": "#b2df8a",
          "line": {
           "color": "#b2df8a"
          },
          "opacity": 0.8,
          "type": "rect",
          "x0": 12.55,
          "x1": 13.45,
          "y0": 6.55,
          "y1": 7.45
         },
         {
          "fillcolor": "#b2df8a",
          "line": {
           "color": "#b2df8a"
          },
          "opacity": 0.8,
          "type": "rect",
          "x0": 13.55,
          "x1": 14.45,
          "y0": 6.55,
          "y1": 7.45
         },
         {
          "fillcolor": "#b2df8a",
          "line": {
           "color": "#b2df8a"
          },
          "opacity": 0.8,
          "type": "rect",
          "x0": 14.55,
          "x1": 15.45,
          "y0": 6.55,
          "y1": 7.45
         },
         {
          "fillcolor": "#b2df8a",
          "line": {
           "color": "#b2df8a"
          },
          "opacity": 0.8,
          "type": "rect",
          "x0": 15.55,
          "x1": 16.45,
          "y0": 6.55,
          "y1": 7.45
         },
         {
          "fillcolor": "#fdbf6f",
          "line": {
           "color": "#fdbf6f"
          },
          "opacity": 0.8,
          "type": "rect",
          "x0": 16.55,
          "x1": 17.45,
          "y0": 6.55,
          "y1": 7.45
         },
         {
          "fillcolor": "#bbbb88",
          "line": {
           "color": "#bbbb88"
          },
          "opacity": 0.8,
          "type": "rect",
          "x0": 17.55,
          "x1": 18.45,
          "y0": 6.55,
          "y1": 7.45
         }
        ],
        "annotations": [
         {
          "align": "center",
          "font": {
           "color": "#333333",
           "family": "Roboto",
           "size": 16
          },
          "opacity": 0.9,
          "showarrow": false,
          "text": "H",
          "x": 1.0,
          "xref": "x",
          "y": 1.0,
          "yref": "y"
         },
         {
          "align": "center",
          "font": {
           "color": "#333333",
           "family": "Roboto",
           "size": 16
          },
          "opacity": 0.9,
          "showarrow": false,
          "text": "He",
          "x": 18.0,
          "xref": "x",
          "y": 1.0,
          "yref": "y"
         },
         {
          "align": "center",
          "font": {
           "color": "#333333",
           "family": "Roboto",
           "size": 16
          },
          "opacity": 0.9,
          "showarrow": false,
          "text": "Li",
          "x": 1.0,
          "xref": "x",
          "y": 2.0,
          "yref": "y"
         },
         {
          "align": "center",
          "font": {
           "color": "#333333",
           "family": "Roboto",
           "size": 16
          },
          "opacity": 0.9,
          "showarrow": false,
          "text": "Be",
          "x": 2.0,
          "xref": "x",
          "y": 2.0,
          "yref": "y"
         },
         {
          "align": "center",
          "font": {
           "color": "#333333",
           "family": "Roboto",
           "size": 16
          },
          "opacity": 0.9,
          "showarrow": false,
          "text": "B",
          "x": 13.0,
          "xref": "x",
          "y": 2.0,
          "yref": "y"
         },
         {
          "align": "center",
          "font": {
           "color": "#333333",
           "family": "Roboto",
           "size": 16
          },
          "opacity": 0.9,
          "showarrow": false,
          "text": "C",
          "x": 14.0,
          "xref": "x",
          "y": 2.0,
          "yref": "y"
         },
         {
          "align": "center",
          "font": {
           "color": "#333333",
           "family": "Roboto",
           "size": 16
          },
          "opacity": 0.9,
          "showarrow": false,
          "text": "N",
          "x": 15.0,
          "xref": "x",
          "y": 2.0,
          "yref": "y"
         },
         {
          "align": "center",
          "font": {
           "color": "#333333",
           "family": "Roboto",
           "size": 16
          },
          "opacity": 0.9,
          "showarrow": false,
          "text": "O",
          "x": 16.0,
          "xref": "x",
          "y": 2.0,
          "yref": "y"
         },
         {
          "align": "center",
          "font": {
           "color": "#333333",
           "family": "Roboto",
           "size": 16
          },
          "opacity": 0.9,
          "showarrow": false,
          "text": "F",
          "x": 17.0,
          "xref": "x",
          "y": 2.0,
          "yref": "y"
         },
         {
          "align": "center",
          "font": {
           "color": "#333333",
           "family": "Roboto",
           "size": 16
          },
          "opacity": 0.9,
          "showarrow": false,
          "text": "Ne",
          "x": 18.0,
          "xref": "x",
          "y": 2.0,
          "yref": "y"
         },
         {
          "align": "center",
          "font": {
           "color": "#333333",
           "family": "Roboto",
           "size": 16
          },
          "opacity": 0.9,
          "showarrow": false,
          "text": "Na",
          "x": 1.0,
          "xref": "x",
          "y": 3.0,
          "yref": "y"
         },
         {
          "align": "center",
          "font": {
           "color": "#333333",
           "family": "Roboto",
           "size": 16
          },
          "opacity": 0.9,
          "showarrow": false,
          "text": "Mg",
          "x": 2.0,
          "xref": "x",
          "y": 3.0,
          "yref": "y"
         },
         {
          "align": "center",
          "font": {
           "color": "#333333",
           "family": "Roboto",
           "size": 16
          },
          "opacity": 0.9,
          "showarrow": false,
          "text": "Al",
          "x": 13.0,
          "xref": "x",
          "y": 3.0,
          "yref": "y"
         },
         {
          "align": "center",
          "font": {
           "color": "#333333",
           "family": "Roboto",
           "size": 16
          },
          "opacity": 0.9,
          "showarrow": false,
          "text": "Si",
          "x": 14.0,
          "xref": "x",
          "y": 3.0,
          "yref": "y"
         },
         {
          "align": "center",
          "font": {
           "color": "#333333",
           "family": "Roboto",
           "size": 16
          },
          "opacity": 0.9,
          "showarrow": false,
          "text": "P",
          "x": 15.0,
          "xref": "x",
          "y": 3.0,
          "yref": "y"
         },
         {
          "align": "center",
          "font": {
           "color": "#333333",
           "family": "Roboto",
           "size": 16
          },
          "opacity": 0.9,
          "showarrow": false,
          "text": "S",
          "x": 16.0,
          "xref": "x",
          "y": 3.0,
          "yref": "y"
         },
         {
          "align": "center",
          "font": {
           "color": "#333333",
           "family": "Roboto",
           "size": 16
          },
          "opacity": 0.9,
          "showarrow": false,
          "text": "Cl",
          "x": 17.0,
          "xref": "x",
          "y": 3.0,
          "yref": "y"
         },
         {
          "align": "center",
          "font": {
           "color": "#333333",
           "family": "Roboto",
           "size": 16
          },
          "opacity": 0.9,
          "showarrow": false,
          "text": "Ar",
          "x": 18.0,
          "xref": "x",
          "y": 3.0,
          "yref": "y"
         },
         {
          "align": "center",
          "font": {
           "color": "#333333",
           "family": "Roboto",
           "size": 16
          },
          "opacity": 0.9,
          "showarrow": false,
          "text": "K",
          "x": 1.0,
          "xref": "x",
          "y": 4.0,
          "yref": "y"
         },
         {
          "align": "center",
          "font": {
           "color": "#333333",
           "family": "Roboto",
           "size": 16
          },
          "opacity": 0.9,
          "showarrow": false,
          "text": "Ca",
          "x": 2.0,
          "xref": "x",
          "y": 4.0,
          "yref": "y"
         },
         {
          "align": "center",
          "font": {
           "color": "#333333",
           "family": "Roboto",
           "size": 16
          },
          "opacity": 0.9,
          "showarrow": false,
          "text": "Sc",
          "x": 3.0,
          "xref": "x",
          "y": 4.0,
          "yref": "y"
         },
         {
          "align": "center",
          "font": {
           "color": "#333333",
           "family": "Roboto",
           "size": 16
          },
          "opacity": 0.9,
          "showarrow": false,
          "text": "Ti",
          "x": 4.0,
          "xref": "x",
          "y": 4.0,
          "yref": "y"
         },
         {
          "align": "center",
          "font": {
           "color": "#333333",
           "family": "Roboto",
           "size": 16
          },
          "opacity": 0.9,
          "showarrow": false,
          "text": "V",
          "x": 5.0,
          "xref": "x",
          "y": 4.0,
          "yref": "y"
         },
         {
          "align": "center",
          "font": {
           "color": "#333333",
           "family": "Roboto",
           "size": 16
          },
          "opacity": 0.9,
          "showarrow": false,
          "text": "Cr",
          "x": 6.0,
          "xref": "x",
          "y": 4.0,
          "yref": "y"
         },
         {
          "align": "center",
          "font": {
           "color": "#333333",
           "family": "Roboto",
           "size": 16
          },
          "opacity": 0.9,
          "showarrow": false,
          "text": "Mn",
          "x": 7.0,
          "xref": "x",
          "y": 4.0,
          "yref": "y"
         },
         {
          "align": "center",
          "font": {
           "color": "#333333",
           "family": "Roboto",
           "size": 16
          },
          "opacity": 0.9,
          "showarrow": false,
          "text": "Fe",
          "x": 8.0,
          "xref": "x",
          "y": 4.0,
          "yref": "y"
         },
         {
          "align": "center",
          "font": {
           "color": "#333333",
           "family": "Roboto",
           "size": 16
          },
          "opacity": 0.9,
          "showarrow": false,
          "text": "Co",
          "x": 9.0,
          "xref": "x",
          "y": 4.0,
          "yref": "y"
         },
         {
          "align": "center",
          "font": {
           "color": "#333333",
           "family": "Roboto",
           "size": 16
          },
          "opacity": 0.9,
          "showarrow": false,
          "text": "Ni",
          "x": 10.0,
          "xref": "x",
          "y": 4.0,
          "yref": "y"
         },
         {
          "align": "center",
          "font": {
           "color": "#333333",
           "family": "Roboto",
           "size": 16
          },
          "opacity": 0.9,
          "showarrow": false,
          "text": "Cu",
          "x": 11.0,
          "xref": "x",
          "y": 4.0,
          "yref": "y"
         },
         {
          "align": "center",
          "font": {
           "color": "#333333",
           "family": "Roboto",
           "size": 16
          },
          "opacity": 0.9,
          "showarrow": false,
          "text": "Zn",
          "x": 12.0,
          "xref": "x",
          "y": 4.0,
          "yref": "y"
         },
         {
          "align": "center",
          "font": {
           "color": "#333333",
           "family": "Roboto",
           "size": 16
          },
          "opacity": 0.9,
          "showarrow": false,
          "text": "Ga",
          "x": 13.0,
          "xref": "x",
          "y": 4.0,
          "yref": "y"
         },
         {
          "align": "center",
          "font": {
           "color": "#333333",
           "family": "Roboto",
           "size": 16
          },
          "opacity": 0.9,
          "showarrow": false,
          "text": "Ge",
          "x": 14.0,
          "xref": "x",
          "y": 4.0,
          "yref": "y"
         },
         {
          "align": "center",
          "font": {
           "color": "#333333",
           "family": "Roboto",
           "size": 16
          },
          "opacity": 0.9,
          "showarrow": false,
          "text": "As",
          "x": 15.0,
          "xref": "x",
          "y": 4.0,
          "yref": "y"
         },
         {
          "align": "center",
          "font": {
           "color": "#333333",
           "family": "Roboto",
           "size": 16
          },
          "opacity": 0.9,
          "showarrow": false,
          "text": "Se",
          "x": 16.0,
          "xref": "x",
          "y": 4.0,
          "yref": "y"
         },
         {
          "align": "center",
          "font": {
           "color": "#333333",
           "family": "Roboto",
           "size": 16
          },
          "opacity": 0.9,
          "showarrow": false,
          "text": "Br",
          "x": 17.0,
          "xref": "x",
          "y": 4.0,
          "yref": "y"
         },
         {
          "align": "center",
          "font": {
           "color": "#333333",
           "family": "Roboto",
           "size": 16
          },
          "opacity": 0.9,
          "showarrow": false,
          "text": "Kr",
          "x": 18.0,
          "xref": "x",
          "y": 4.0,
          "yref": "y"
         },
         {
          "align": "center",
          "font": {
           "color": "#333333",
           "family": "Roboto",
           "size": 16
          },
          "opacity": 0.9,
          "showarrow": false,
          "text": "Rb",
          "x": 1.0,
          "xref": "x",
          "y": 5.0,
          "yref": "y"
         },
         {
          "align": "center",
          "font": {
           "color": "#333333",
           "family": "Roboto",
           "size": 16
          },
          "opacity": 0.9,
          "showarrow": false,
          "text": "Sr",
          "x": 2.0,
          "xref": "x",
          "y": 5.0,
          "yref": "y"
         },
         {
          "align": "center",
          "font": {
           "color": "#333333",
           "family": "Roboto",
           "size": 16
          },
          "opacity": 0.9,
          "showarrow": false,
          "text": "Y",
          "x": 3.0,
          "xref": "x",
          "y": 5.0,
          "yref": "y"
         },
         {
          "align": "center",
          "font": {
           "color": "#333333",
           "family": "Roboto",
           "size": 16
          },
          "opacity": 0.9,
          "showarrow": false,
          "text": "Zr",
          "x": 4.0,
          "xref": "x",
          "y": 5.0,
          "yref": "y"
         },
         {
          "align": "center",
          "font": {
           "color": "#333333",
           "family": "Roboto",
           "size": 16
          },
          "opacity": 0.9,
          "showarrow": false,
          "text": "Nb",
          "x": 5.0,
          "xref": "x",
          "y": 5.0,
          "yref": "y"
         },
         {
          "align": "center",
          "font": {
           "color": "#333333",
           "family": "Roboto",
           "size": 16
          },
          "opacity": 0.9,
          "showarrow": false,
          "text": "Mo",
          "x": 6.0,
          "xref": "x",
          "y": 5.0,
          "yref": "y"
         },
         {
          "align": "center",
          "font": {
           "color": "#333333",
           "family": "Roboto",
           "size": 16
          },
          "opacity": 0.9,
          "showarrow": false,
          "text": "Tc",
          "x": 7.0,
          "xref": "x",
          "y": 5.0,
          "yref": "y"
         },
         {
          "align": "center",
          "font": {
           "color": "#333333",
           "family": "Roboto",
           "size": 16
          },
          "opacity": 0.9,
          "showarrow": false,
          "text": "Ru",
          "x": 8.0,
          "xref": "x",
          "y": 5.0,
          "yref": "y"
         },
         {
          "align": "center",
          "font": {
           "color": "#333333",
           "family": "Roboto",
           "size": 16
          },
          "opacity": 0.9,
          "showarrow": false,
          "text": "Rh",
          "x": 9.0,
          "xref": "x",
          "y": 5.0,
          "yref": "y"
         },
         {
          "align": "center",
          "font": {
           "color": "#333333",
           "family": "Roboto",
           "size": 16
          },
          "opacity": 0.9,
          "showarrow": false,
          "text": "Pd",
          "x": 10.0,
          "xref": "x",
          "y": 5.0,
          "yref": "y"
         },
         {
          "align": "center",
          "font": {
           "color": "#333333",
           "family": "Roboto",
           "size": 16
          },
          "opacity": 0.9,
          "showarrow": false,
          "text": "Ag",
          "x": 11.0,
          "xref": "x",
          "y": 5.0,
          "yref": "y"
         },
         {
          "align": "center",
          "font": {
           "color": "#333333",
           "family": "Roboto",
           "size": 16
          },
          "opacity": 0.9,
          "showarrow": false,
          "text": "Cd",
          "x": 12.0,
          "xref": "x",
          "y": 5.0,
          "yref": "y"
         },
         {
          "align": "center",
          "font": {
           "color": "#333333",
           "family": "Roboto",
           "size": 16
          },
          "opacity": 0.9,
          "showarrow": false,
          "text": "In",
          "x": 13.0,
          "xref": "x",
          "y": 5.0,
          "yref": "y"
         },
         {
          "align": "center",
          "font": {
           "color": "#333333",
           "family": "Roboto",
           "size": 16
          },
          "opacity": 0.9,
          "showarrow": false,
          "text": "Sn",
          "x": 14.0,
          "xref": "x",
          "y": 5.0,
          "yref": "y"
         },
         {
          "align": "center",
          "font": {
           "color": "#333333",
           "family": "Roboto",
           "size": 16
          },
          "opacity": 0.9,
          "showarrow": false,
          "text": "Sb",
          "x": 15.0,
          "xref": "x",
          "y": 5.0,
          "yref": "y"
         },
         {
          "align": "center",
          "font": {
           "color": "#333333",
           "family": "Roboto",
           "size": 16
          },
          "opacity": 0.9,
          "showarrow": false,
          "text": "Te",
          "x": 16.0,
          "xref": "x",
          "y": 5.0,
          "yref": "y"
         },
         {
          "align": "center",
          "font": {
           "color": "#333333",
           "family": "Roboto",
           "size": 16
          },
          "opacity": 0.9,
          "showarrow": false,
          "text": "I",
          "x": 17.0,
          "xref": "x",
          "y": 5.0,
          "yref": "y"
         },
         {
          "align": "center",
          "font": {
           "color": "#333333",
           "family": "Roboto",
           "size": 16
          },
          "opacity": 0.9,
          "showarrow": false,
          "text": "Xe",
          "x": 18.0,
          "xref": "x",
          "y": 5.0,
          "yref": "y"
         },
         {
          "align": "center",
          "font": {
           "color": "#333333",
           "family": "Roboto",
           "size": 16
          },
          "opacity": 0.9,
          "showarrow": false,
          "text": "Cs",
          "x": 1.0,
          "xref": "x",
          "y": 6.0,
          "yref": "y"
         },
         {
          "align": "center",
          "font": {
           "color": "#333333",
           "family": "Roboto",
           "size": 16
          },
          "opacity": 0.9,
          "showarrow": false,
          "text": "Ba",
          "x": 2.0,
          "xref": "x",
          "y": 6.0,
          "yref": "y"
         },
         {
          "align": "center",
          "font": {
           "color": "#333333",
           "family": "Roboto",
           "size": 16
          },
          "opacity": 0.9,
          "showarrow": false,
          "text": "La",
          "x": 3.0,
          "xref": "x",
          "y": 6.0,
          "yref": "y"
         },
         {
          "align": "center",
          "font": {
           "color": "#333333",
           "family": "Roboto",
           "size": 16
          },
          "opacity": 0.9,
          "showarrow": false,
          "text": "Ce",
          "x": 3.0,
          "xref": "x",
          "y": 8.5,
          "yref": "y"
         },
         {
          "align": "center",
          "font": {
           "color": "#333333",
           "family": "Roboto",
           "size": 16
          },
          "opacity": 0.9,
          "showarrow": false,
          "text": "Pr",
          "x": 4.0,
          "xref": "x",
          "y": 8.5,
          "yref": "y"
         },
         {
          "align": "center",
          "font": {
           "color": "#333333",
           "family": "Roboto",
           "size": 16
          },
          "opacity": 0.9,
          "showarrow": false,
          "text": "Nd",
          "x": 5.0,
          "xref": "x",
          "y": 8.5,
          "yref": "y"
         },
         {
          "align": "center",
          "font": {
           "color": "#333333",
           "family": "Roboto",
           "size": 16
          },
          "opacity": 0.9,
          "showarrow": false,
          "text": "Pm",
          "x": 6.0,
          "xref": "x",
          "y": 8.5,
          "yref": "y"
         },
         {
          "align": "center",
          "font": {
           "color": "#333333",
           "family": "Roboto",
           "size": 16
          },
          "opacity": 0.9,
          "showarrow": false,
          "text": "Sm",
          "x": 7.0,
          "xref": "x",
          "y": 8.5,
          "yref": "y"
         },
         {
          "align": "center",
          "font": {
           "color": "#333333",
           "family": "Roboto",
           "size": 16
          },
          "opacity": 0.9,
          "showarrow": false,
          "text": "Eu",
          "x": 8.0,
          "xref": "x",
          "y": 8.5,
          "yref": "y"
         },
         {
          "align": "center",
          "font": {
           "color": "#333333",
           "family": "Roboto",
           "size": 16
          },
          "opacity": 0.9,
          "showarrow": false,
          "text": "Gd",
          "x": 9.0,
          "xref": "x",
          "y": 8.5,
          "yref": "y"
         },
         {
          "align": "center",
          "font": {
           "color": "#333333",
           "family": "Roboto",
           "size": 16
          },
          "opacity": 0.9,
          "showarrow": false,
          "text": "Tb",
          "x": 10.0,
          "xref": "x",
          "y": 8.5,
          "yref": "y"
         },
         {
          "align": "center",
          "font": {
           "color": "#333333",
           "family": "Roboto",
           "size": 16
          },
          "opacity": 0.9,
          "showarrow": false,
          "text": "Dy",
          "x": 11.0,
          "xref": "x",
          "y": 8.5,
          "yref": "y"
         },
         {
          "align": "center",
          "font": {
           "color": "#333333",
           "family": "Roboto",
           "size": 16
          },
          "opacity": 0.9,
          "showarrow": false,
          "text": "Ho",
          "x": 12.0,
          "xref": "x",
          "y": 8.5,
          "yref": "y"
         },
         {
          "align": "center",
          "font": {
           "color": "#333333",
           "family": "Roboto",
           "size": 16
          },
          "opacity": 0.9,
          "showarrow": false,
          "text": "Er",
          "x": 13.0,
          "xref": "x",
          "y": 8.5,
          "yref": "y"
         },
         {
          "align": "center",
          "font": {
           "color": "#333333",
           "family": "Roboto",
           "size": 16
          },
          "opacity": 0.9,
          "showarrow": false,
          "text": "Tm",
          "x": 14.0,
          "xref": "x",
          "y": 8.5,
          "yref": "y"
         },
         {
          "align": "center",
          "font": {
           "color": "#333333",
           "family": "Roboto",
           "size": 16
          },
          "opacity": 0.9,
          "showarrow": false,
          "text": "Yb",
          "x": 15.0,
          "xref": "x",
          "y": 8.5,
          "yref": "y"
         },
         {
          "align": "center",
          "font": {
           "color": "#333333",
           "family": "Roboto",
           "size": 16
          },
          "opacity": 0.9,
          "showarrow": false,
          "text": "Lu",
          "x": 16.0,
          "xref": "x",
          "y": 8.5,
          "yref": "y"
         },
         {
          "align": "center",
          "font": {
           "color": "#333333",
           "family": "Roboto",
           "size": 16
          },
          "opacity": 0.9,
          "showarrow": false,
          "text": "Hf",
          "x": 4.0,
          "xref": "x",
          "y": 6.0,
          "yref": "y"
         },
         {
          "align": "center",
          "font": {
           "color": "#333333",
           "family": "Roboto",
           "size": 16
          },
          "opacity": 0.9,
          "showarrow": false,
          "text": "Ta",
          "x": 5.0,
          "xref": "x",
          "y": 6.0,
          "yref": "y"
         },
         {
          "align": "center",
          "font": {
           "color": "#333333",
           "family": "Roboto",
           "size": 16
          },
          "opacity": 0.9,
          "showarrow": false,
          "text": "W",
          "x": 6.0,
          "xref": "x",
          "y": 6.0,
          "yref": "y"
         },
         {
          "align": "center",
          "font": {
           "color": "#333333",
           "family": "Roboto",
           "size": 16
          },
          "opacity": 0.9,
          "showarrow": false,
          "text": "Re",
          "x": 7.0,
          "xref": "x",
          "y": 6.0,
          "yref": "y"
         },
         {
          "align": "center",
          "font": {
           "color": "#333333",
           "family": "Roboto",
           "size": 16
          },
          "opacity": 0.9,
          "showarrow": false,
          "text": "Os",
          "x": 8.0,
          "xref": "x",
          "y": 6.0,
          "yref": "y"
         },
         {
          "align": "center",
          "font": {
           "color": "#333333",
           "family": "Roboto",
           "size": 16
          },
          "opacity": 0.9,
          "showarrow": false,
          "text": "Ir",
          "x": 9.0,
          "xref": "x",
          "y": 6.0,
          "yref": "y"
         },
         {
          "align": "center",
          "font": {
           "color": "#333333",
           "family": "Roboto",
           "size": 16
          },
          "opacity": 0.9,
          "showarrow": false,
          "text": "Pt",
          "x": 10.0,
          "xref": "x",
          "y": 6.0,
          "yref": "y"
         },
         {
          "align": "center",
          "font": {
           "color": "#333333",
           "family": "Roboto",
           "size": 16
          },
          "opacity": 0.9,
          "showarrow": false,
          "text": "Au",
          "x": 11.0,
          "xref": "x",
          "y": 6.0,
          "yref": "y"
         },
         {
          "align": "center",
          "font": {
           "color": "#333333",
           "family": "Roboto",
           "size": 16
          },
          "opacity": 0.9,
          "showarrow": false,
          "text": "Hg",
          "x": 12.0,
          "xref": "x",
          "y": 6.0,
          "yref": "y"
         },
         {
          "align": "center",
          "font": {
           "color": "#333333",
           "family": "Roboto",
           "size": 16
          },
          "opacity": 0.9,
          "showarrow": false,
          "text": "Tl",
          "x": 13.0,
          "xref": "x",
          "y": 6.0,
          "yref": "y"
         },
         {
          "align": "center",
          "font": {
           "color": "#333333",
           "family": "Roboto",
           "size": 16
          },
          "opacity": 0.9,
          "showarrow": false,
          "text": "Pb",
          "x": 14.0,
          "xref": "x",
          "y": 6.0,
          "yref": "y"
         },
         {
          "align": "center",
          "font": {
           "color": "#333333",
           "family": "Roboto",
           "size": 16
          },
          "opacity": 0.9,
          "showarrow": false,
          "text": "Bi",
          "x": 15.0,
          "xref": "x",
          "y": 6.0,
          "yref": "y"
         },
         {
          "align": "center",
          "font": {
           "color": "#333333",
           "family": "Roboto",
           "size": 16
          },
          "opacity": 0.9,
          "showarrow": false,
          "text": "Po",
          "x": 16.0,
          "xref": "x",
          "y": 6.0,
          "yref": "y"
         },
         {
          "align": "center",
          "font": {
           "color": "#333333",
           "family": "Roboto",
           "size": 16
          },
          "opacity": 0.9,
          "showarrow": false,
          "text": "At",
          "x": 17.0,
          "xref": "x",
          "y": 6.0,
          "yref": "y"
         },
         {
          "align": "center",
          "font": {
           "color": "#333333",
           "family": "Roboto",
           "size": 16
          },
          "opacity": 0.9,
          "showarrow": false,
          "text": "Rn",
          "x": 18.0,
          "xref": "x",
          "y": 6.0,
          "yref": "y"
         },
         {
          "align": "center",
          "font": {
           "color": "#333333",
           "family": "Roboto",
           "size": 16
          },
          "opacity": 0.9,
          "showarrow": false,
          "text": "Fr",
          "x": 1.0,
          "xref": "x",
          "y": 7.0,
          "yref": "y"
         },
         {
          "align": "center",
          "font": {
           "color": "#333333",
           "family": "Roboto",
           "size": 16
          },
          "opacity": 0.9,
          "showarrow": false,
          "text": "Ra",
          "x": 2.0,
          "xref": "x",
          "y": 7.0,
          "yref": "y"
         },
         {
          "align": "center",
          "font": {
           "color": "#333333",
           "family": "Roboto",
           "size": 16
          },
          "opacity": 0.9,
          "showarrow": false,
          "text": "Ac",
          "x": 3.0,
          "xref": "x",
          "y": 7.0,
          "yref": "y"
         },
         {
          "align": "center",
          "font": {
           "color": "#333333",
           "family": "Roboto",
           "size": 16
          },
          "opacity": 0.9,
          "showarrow": false,
          "text": "Th",
          "x": 3.0,
          "xref": "x",
          "y": 9.5,
          "yref": "y"
         },
         {
          "align": "center",
          "font": {
           "color": "#333333",
           "family": "Roboto",
           "size": 16
          },
          "opacity": 0.9,
          "showarrow": false,
          "text": "Pa",
          "x": 4.0,
          "xref": "x",
          "y": 9.5,
          "yref": "y"
         },
         {
          "align": "center",
          "font": {
           "color": "#333333",
           "family": "Roboto",
           "size": 16
          },
          "opacity": 0.9,
          "showarrow": false,
          "text": "U",
          "x": 5.0,
          "xref": "x",
          "y": 9.5,
          "yref": "y"
         },
         {
          "align": "center",
          "font": {
           "color": "#333333",
           "family": "Roboto",
           "size": 16
          },
          "opacity": 0.9,
          "showarrow": false,
          "text": "Np",
          "x": 6.0,
          "xref": "x",
          "y": 9.5,
          "yref": "y"
         },
         {
          "align": "center",
          "font": {
           "color": "#333333",
           "family": "Roboto",
           "size": 16
          },
          "opacity": 0.9,
          "showarrow": false,
          "text": "Pu",
          "x": 7.0,
          "xref": "x",
          "y": 9.5,
          "yref": "y"
         },
         {
          "align": "center",
          "font": {
           "color": "#333333",
           "family": "Roboto",
           "size": 16
          },
          "opacity": 0.9,
          "showarrow": false,
          "text": "Am",
          "x": 8.0,
          "xref": "x",
          "y": 9.5,
          "yref": "y"
         },
         {
          "align": "center",
          "font": {
           "color": "#333333",
           "family": "Roboto",
           "size": 16
          },
          "opacity": 0.9,
          "showarrow": false,
          "text": "Cm",
          "x": 9.0,
          "xref": "x",
          "y": 9.5,
          "yref": "y"
         },
         {
          "align": "center",
          "font": {
           "color": "#333333",
           "family": "Roboto",
           "size": 16
          },
          "opacity": 0.9,
          "showarrow": false,
          "text": "Bk",
          "x": 10.0,
          "xref": "x",
          "y": 9.5,
          "yref": "y"
         },
         {
          "align": "center",
          "font": {
           "color": "#333333",
           "family": "Roboto",
           "size": 16
          },
          "opacity": 0.9,
          "showarrow": false,
          "text": "Cf",
          "x": 11.0,
          "xref": "x",
          "y": 9.5,
          "yref": "y"
         },
         {
          "align": "center",
          "font": {
           "color": "#333333",
           "family": "Roboto",
           "size": 16
          },
          "opacity": 0.9,
          "showarrow": false,
          "text": "Es",
          "x": 12.0,
          "xref": "x",
          "y": 9.5,
          "yref": "y"
         },
         {
          "align": "center",
          "font": {
           "color": "#333333",
           "family": "Roboto",
           "size": 16
          },
          "opacity": 0.9,
          "showarrow": false,
          "text": "Fm",
          "x": 13.0,
          "xref": "x",
          "y": 9.5,
          "yref": "y"
         },
         {
          "align": "center",
          "font": {
           "color": "#333333",
           "family": "Roboto",
           "size": 16
          },
          "opacity": 0.9,
          "showarrow": false,
          "text": "Md",
          "x": 14.0,
          "xref": "x",
          "y": 9.5,
          "yref": "y"
         },
         {
          "align": "center",
          "font": {
           "color": "#333333",
           "family": "Roboto",
           "size": 16
          },
          "opacity": 0.9,
          "showarrow": false,
          "text": "No",
          "x": 15.0,
          "xref": "x",
          "y": 9.5,
          "yref": "y"
         },
         {
          "align": "center",
          "font": {
           "color": "#333333",
           "family": "Roboto",
           "size": 16
          },
          "opacity": 0.9,
          "showarrow": false,
          "text": "Lr",
          "x": 16.0,
          "xref": "x",
          "y": 9.5,
          "yref": "y"
         },
         {
          "align": "center",
          "font": {
           "color": "#333333",
           "family": "Roboto",
           "size": 16
          },
          "opacity": 0.9,
          "showarrow": false,
          "text": "Rf",
          "x": 4.0,
          "xref": "x",
          "y": 7.0,
          "yref": "y"
         },
         {
          "align": "center",
          "font": {
           "color": "#333333",
           "family": "Roboto",
           "size": 16
          },
          "opacity": 0.9,
          "showarrow": false,
          "text": "Db",
          "x": 5.0,
          "xref": "x",
          "y": 7.0,
          "yref": "y"
         },
         {
          "align": "center",
          "font": {
           "color": "#333333",
           "family": "Roboto",
           "size": 16
          },
          "opacity": 0.9,
          "showarrow": false,
          "text": "Sg",
          "x": 6.0,
          "xref": "x",
          "y": 7.0,
          "yref": "y"
         },
         {
          "align": "center",
          "font": {
           "color": "#333333",
           "family": "Roboto",
           "size": 16
          },
          "opacity": 0.9,
          "showarrow": false,
          "text": "Bh",
          "x": 7.0,
          "xref": "x",
          "y": 7.0,
          "yref": "y"
         },
         {
          "align": "center",
          "font": {
           "color": "#333333",
           "family": "Roboto",
           "size": 16
          },
          "opacity": 0.9,
          "showarrow": false,
          "text": "Hs",
          "x": 8.0,
          "xref": "x",
          "y": 7.0,
          "yref": "y"
         },
         {
          "align": "center",
          "font": {
           "color": "#333333",
           "family": "Roboto",
           "size": 16
          },
          "opacity": 0.9,
          "showarrow": false,
          "text": "Mt",
          "x": 9.0,
          "xref": "x",
          "y": 7.0,
          "yref": "y"
         },
         {
          "align": "center",
          "font": {
           "color": "#333333",
           "family": "Roboto",
           "size": 16
          },
          "opacity": 0.9,
          "showarrow": false,
          "text": "Ds",
          "x": 10.0,
          "xref": "x",
          "y": 7.0,
          "yref": "y"
         },
         {
          "align": "center",
          "font": {
           "color": "#333333",
           "family": "Roboto",
           "size": 16
          },
          "opacity": 0.9,
          "showarrow": false,
          "text": "Rg",
          "x": 11.0,
          "xref": "x",
          "y": 7.0,
          "yref": "y"
         },
         {
          "align": "center",
          "font": {
           "color": "#333333",
           "family": "Roboto",
           "size": 16
          },
          "opacity": 0.9,
          "showarrow": false,
          "text": "Cn",
          "x": 12.0,
          "xref": "x",
          "y": 7.0,
          "yref": "y"
         },
         {
          "align": "center",
          "font": {
           "color": "#333333",
           "family": "Roboto",
           "size": 16
          },
          "opacity": 0.9,
          "showarrow": false,
          "text": "Nh",
          "x": 13.0,
          "xref": "x",
          "y": 7.0,
          "yref": "y"
         },
         {
          "align": "center",
          "font": {
           "color": "#333333",
           "family": "Roboto",
           "size": 16
          },
          "opacity": 0.9,
          "showarrow": false,
          "text": "Fl",
          "x": 14.0,
          "xref": "x",
          "y": 7.0,
          "yref": "y"
         },
         {
          "align": "center",
          "font": {
           "color": "#333333",
           "family": "Roboto",
           "size": 16
          },
          "opacity": 0.9,
          "showarrow": false,
          "text": "Mc",
          "x": 15.0,
          "xref": "x",
          "y": 7.0,
          "yref": "y"
         },
         {
          "align": "center",
          "font": {
           "color": "#333333",
           "family": "Roboto",
           "size": 16
          },
          "opacity": 0.9,
          "showarrow": false,
          "text": "Lv",
          "x": 16.0,
          "xref": "x",
          "y": 7.0,
          "yref": "y"
         },
         {
          "align": "center",
          "font": {
           "color": "#333333",
           "family": "Roboto",
           "size": 16
          },
          "opacity": 0.9,
          "showarrow": false,
          "text": "Ts",
          "x": 17.0,
          "xref": "x",
          "y": 7.0,
          "yref": "y"
         },
         {
          "align": "center",
          "font": {
           "color": "#333333",
           "family": "Roboto",
           "size": 16
          },
          "opacity": 0.9,
          "showarrow": false,
          "text": "Og",
          "x": 18.0,
          "xref": "x",
          "y": 7.0,
          "yref": "y"
         },
         {
          "align": "center",
          "font": {
           "color": "#333333",
           "family": "Roboto",
           "size": 10
          },
          "opacity": 0.9,
          "showarrow": false,
          "text": "1",
          "x": 1.0,
          "xref": "x",
          "y": 0.7,
          "yref": "y"
         },
         {
          "align": "center",
          "font": {
           "color": "#333333",
           "family": "Roboto",
           "size": 10
          },
          "opacity": 0.9,
          "showarrow": false,
          "text": "2",
          "x": 18.0,
          "xref": "x",
          "y": 0.7,
          "yref": "y"
         },
         {
          "align": "center",
          "font": {
           "color": "#333333",
           "family": "Roboto",
           "size": 10
          },
          "opacity": 0.9,
          "showarrow": false,
          "text": "3",
          "x": 1.0,
          "xref": "x",
          "y": 1.7,
          "yref": "y"
         },
         {
          "align": "center",
          "font": {
           "color": "#333333",
           "family": "Roboto",
           "size": 10
          },
          "opacity": 0.9,
          "showarrow": false,
          "text": "4",
          "x": 2.0,
          "xref": "x",
          "y": 1.7,
          "yref": "y"
         },
         {
          "align": "center",
          "font": {
           "color": "#333333",
           "family": "Roboto",
           "size": 10
          },
          "opacity": 0.9,
          "showarrow": false,
          "text": "5",
          "x": 13.0,
          "xref": "x",
          "y": 1.7,
          "yref": "y"
         },
         {
          "align": "center",
          "font": {
           "color": "#333333",
           "family": "Roboto",
           "size": 10
          },
          "opacity": 0.9,
          "showarrow": false,
          "text": "6",
          "x": 14.0,
          "xref": "x",
          "y": 1.7,
          "yref": "y"
         },
         {
          "align": "center",
          "font": {
           "color": "#333333",
           "family": "Roboto",
           "size": 10
          },
          "opacity": 0.9,
          "showarrow": false,
          "text": "7",
          "x": 15.0,
          "xref": "x",
          "y": 1.7,
          "yref": "y"
         },
         {
          "align": "center",
          "font": {
           "color": "#333333",
           "family": "Roboto",
           "size": 10
          },
          "opacity": 0.9,
          "showarrow": false,
          "text": "8",
          "x": 16.0,
          "xref": "x",
          "y": 1.7,
          "yref": "y"
         },
         {
          "align": "center",
          "font": {
           "color": "#333333",
           "family": "Roboto",
           "size": 10
          },
          "opacity": 0.9,
          "showarrow": false,
          "text": "9",
          "x": 17.0,
          "xref": "x",
          "y": 1.7,
          "yref": "y"
         },
         {
          "align": "center",
          "font": {
           "color": "#333333",
           "family": "Roboto",
           "size": 10
          },
          "opacity": 0.9,
          "showarrow": false,
          "text": "10",
          "x": 18.0,
          "xref": "x",
          "y": 1.7,
          "yref": "y"
         },
         {
          "align": "center",
          "font": {
           "color": "#333333",
           "family": "Roboto",
           "size": 10
          },
          "opacity": 0.9,
          "showarrow": false,
          "text": "11",
          "x": 1.0,
          "xref": "x",
          "y": 2.7,
          "yref": "y"
         },
         {
          "align": "center",
          "font": {
           "color": "#333333",
           "family": "Roboto",
           "size": 10
          },
          "opacity": 0.9,
          "showarrow": false,
          "text": "12",
          "x": 2.0,
          "xref": "x",
          "y": 2.7,
          "yref": "y"
         },
         {
          "align": "center",
          "font": {
           "color": "#333333",
           "family": "Roboto",
           "size": 10
          },
          "opacity": 0.9,
          "showarrow": false,
          "text": "13",
          "x": 13.0,
          "xref": "x",
          "y": 2.7,
          "yref": "y"
         },
         {
          "align": "center",
          "font": {
           "color": "#333333",
           "family": "Roboto",
           "size": 10
          },
          "opacity": 0.9,
          "showarrow": false,
          "text": "14",
          "x": 14.0,
          "xref": "x",
          "y": 2.7,
          "yref": "y"
         },
         {
          "align": "center",
          "font": {
           "color": "#333333",
           "family": "Roboto",
           "size": 10
          },
          "opacity": 0.9,
          "showarrow": false,
          "text": "15",
          "x": 15.0,
          "xref": "x",
          "y": 2.7,
          "yref": "y"
         },
         {
          "align": "center",
          "font": {
           "color": "#333333",
           "family": "Roboto",
           "size": 10
          },
          "opacity": 0.9,
          "showarrow": false,
          "text": "16",
          "x": 16.0,
          "xref": "x",
          "y": 2.7,
          "yref": "y"
         },
         {
          "align": "center",
          "font": {
           "color": "#333333",
           "family": "Roboto",
           "size": 10
          },
          "opacity": 0.9,
          "showarrow": false,
          "text": "17",
          "x": 17.0,
          "xref": "x",
          "y": 2.7,
          "yref": "y"
         },
         {
          "align": "center",
          "font": {
           "color": "#333333",
           "family": "Roboto",
           "size": 10
          },
          "opacity": 0.9,
          "showarrow": false,
          "text": "18",
          "x": 18.0,
          "xref": "x",
          "y": 2.7,
          "yref": "y"
         },
         {
          "align": "center",
          "font": {
           "color": "#333333",
           "family": "Roboto",
           "size": 10
          },
          "opacity": 0.9,
          "showarrow": false,
          "text": "19",
          "x": 1.0,
          "xref": "x",
          "y": 3.7,
          "yref": "y"
         },
         {
          "align": "center",
          "font": {
           "color": "#333333",
           "family": "Roboto",
           "size": 10
          },
          "opacity": 0.9,
          "showarrow": false,
          "text": "20",
          "x": 2.0,
          "xref": "x",
          "y": 3.7,
          "yref": "y"
         },
         {
          "align": "center",
          "font": {
           "color": "#333333",
           "family": "Roboto",
           "size": 10
          },
          "opacity": 0.9,
          "showarrow": false,
          "text": "21",
          "x": 3.0,
          "xref": "x",
          "y": 3.7,
          "yref": "y"
         },
         {
          "align": "center",
          "font": {
           "color": "#333333",
           "family": "Roboto",
           "size": 10
          },
          "opacity": 0.9,
          "showarrow": false,
          "text": "22",
          "x": 4.0,
          "xref": "x",
          "y": 3.7,
          "yref": "y"
         },
         {
          "align": "center",
          "font": {
           "color": "#333333",
           "family": "Roboto",
           "size": 10
          },
          "opacity": 0.9,
          "showarrow": false,
          "text": "23",
          "x": 5.0,
          "xref": "x",
          "y": 3.7,
          "yref": "y"
         },
         {
          "align": "center",
          "font": {
           "color": "#333333",
           "family": "Roboto",
           "size": 10
          },
          "opacity": 0.9,
          "showarrow": false,
          "text": "24",
          "x": 6.0,
          "xref": "x",
          "y": 3.7,
          "yref": "y"
         },
         {
          "align": "center",
          "font": {
           "color": "#333333",
           "family": "Roboto",
           "size": 10
          },
          "opacity": 0.9,
          "showarrow": false,
          "text": "25",
          "x": 7.0,
          "xref": "x",
          "y": 3.7,
          "yref": "y"
         },
         {
          "align": "center",
          "font": {
           "color": "#333333",
           "family": "Roboto",
           "size": 10
          },
          "opacity": 0.9,
          "showarrow": false,
          "text": "26",
          "x": 8.0,
          "xref": "x",
          "y": 3.7,
          "yref": "y"
         },
         {
          "align": "center",
          "font": {
           "color": "#333333",
           "family": "Roboto",
           "size": 10
          },
          "opacity": 0.9,
          "showarrow": false,
          "text": "27",
          "x": 9.0,
          "xref": "x",
          "y": 3.7,
          "yref": "y"
         },
         {
          "align": "center",
          "font": {
           "color": "#333333",
           "family": "Roboto",
           "size": 10
          },
          "opacity": 0.9,
          "showarrow": false,
          "text": "28",
          "x": 10.0,
          "xref": "x",
          "y": 3.7,
          "yref": "y"
         },
         {
          "align": "center",
          "font": {
           "color": "#333333",
           "family": "Roboto",
           "size": 10
          },
          "opacity": 0.9,
          "showarrow": false,
          "text": "29",
          "x": 11.0,
          "xref": "x",
          "y": 3.7,
          "yref": "y"
         },
         {
          "align": "center",
          "font": {
           "color": "#333333",
           "family": "Roboto",
           "size": 10
          },
          "opacity": 0.9,
          "showarrow": false,
          "text": "30",
          "x": 12.0,
          "xref": "x",
          "y": 3.7,
          "yref": "y"
         },
         {
          "align": "center",
          "font": {
           "color": "#333333",
           "family": "Roboto",
           "size": 10
          },
          "opacity": 0.9,
          "showarrow": false,
          "text": "31",
          "x": 13.0,
          "xref": "x",
          "y": 3.7,
          "yref": "y"
         },
         {
          "align": "center",
          "font": {
           "color": "#333333",
           "family": "Roboto",
           "size": 10
          },
          "opacity": 0.9,
          "showarrow": false,
          "text": "32",
          "x": 14.0,
          "xref": "x",
          "y": 3.7,
          "yref": "y"
         },
         {
          "align": "center",
          "font": {
           "color": "#333333",
           "family": "Roboto",
           "size": 10
          },
          "opacity": 0.9,
          "showarrow": false,
          "text": "33",
          "x": 15.0,
          "xref": "x",
          "y": 3.7,
          "yref": "y"
         },
         {
          "align": "center",
          "font": {
           "color": "#333333",
           "family": "Roboto",
           "size": 10
          },
          "opacity": 0.9,
          "showarrow": false,
          "text": "34",
          "x": 16.0,
          "xref": "x",
          "y": 3.7,
          "yref": "y"
         },
         {
          "align": "center",
          "font": {
           "color": "#333333",
           "family": "Roboto",
           "size": 10
          },
          "opacity": 0.9,
          "showarrow": false,
          "text": "35",
          "x": 17.0,
          "xref": "x",
          "y": 3.7,
          "yref": "y"
         },
         {
          "align": "center",
          "font": {
           "color": "#333333",
           "family": "Roboto",
           "size": 10
          },
          "opacity": 0.9,
          "showarrow": false,
          "text": "36",
          "x": 18.0,
          "xref": "x",
          "y": 3.7,
          "yref": "y"
         },
         {
          "align": "center",
          "font": {
           "color": "#333333",
           "family": "Roboto",
           "size": 10
          },
          "opacity": 0.9,
          "showarrow": false,
          "text": "37",
          "x": 1.0,
          "xref": "x",
          "y": 4.7,
          "yref": "y"
         },
         {
          "align": "center",
          "font": {
           "color": "#333333",
           "family": "Roboto",
           "size": 10
          },
          "opacity": 0.9,
          "showarrow": false,
          "text": "38",
          "x": 2.0,
          "xref": "x",
          "y": 4.7,
          "yref": "y"
         },
         {
          "align": "center",
          "font": {
           "color": "#333333",
           "family": "Roboto",
           "size": 10
          },
          "opacity": 0.9,
          "showarrow": false,
          "text": "39",
          "x": 3.0,
          "xref": "x",
          "y": 4.7,
          "yref": "y"
         },
         {
          "align": "center",
          "font": {
           "color": "#333333",
           "family": "Roboto",
           "size": 10
          },
          "opacity": 0.9,
          "showarrow": false,
          "text": "40",
          "x": 4.0,
          "xref": "x",
          "y": 4.7,
          "yref": "y"
         },
         {
          "align": "center",
          "font": {
           "color": "#333333",
           "family": "Roboto",
           "size": 10
          },
          "opacity": 0.9,
          "showarrow": false,
          "text": "41",
          "x": 5.0,
          "xref": "x",
          "y": 4.7,
          "yref": "y"
         },
         {
          "align": "center",
          "font": {
           "color": "#333333",
           "family": "Roboto",
           "size": 10
          },
          "opacity": 0.9,
          "showarrow": false,
          "text": "42",
          "x": 6.0,
          "xref": "x",
          "y": 4.7,
          "yref": "y"
         },
         {
          "align": "center",
          "font": {
           "color": "#333333",
           "family": "Roboto",
           "size": 10
          },
          "opacity": 0.9,
          "showarrow": false,
          "text": "43",
          "x": 7.0,
          "xref": "x",
          "y": 4.7,
          "yref": "y"
         },
         {
          "align": "center",
          "font": {
           "color": "#333333",
           "family": "Roboto",
           "size": 10
          },
          "opacity": 0.9,
          "showarrow": false,
          "text": "44",
          "x": 8.0,
          "xref": "x",
          "y": 4.7,
          "yref": "y"
         },
         {
          "align": "center",
          "font": {
           "color": "#333333",
           "family": "Roboto",
           "size": 10
          },
          "opacity": 0.9,
          "showarrow": false,
          "text": "45",
          "x": 9.0,
          "xref": "x",
          "y": 4.7,
          "yref": "y"
         },
         {
          "align": "center",
          "font": {
           "color": "#333333",
           "family": "Roboto",
           "size": 10
          },
          "opacity": 0.9,
          "showarrow": false,
          "text": "46",
          "x": 10.0,
          "xref": "x",
          "y": 4.7,
          "yref": "y"
         },
         {
          "align": "center",
          "font": {
           "color": "#333333",
           "family": "Roboto",
           "size": 10
          },
          "opacity": 0.9,
          "showarrow": false,
          "text": "47",
          "x": 11.0,
          "xref": "x",
          "y": 4.7,
          "yref": "y"
         },
         {
          "align": "center",
          "font": {
           "color": "#333333",
           "family": "Roboto",
           "size": 10
          },
          "opacity": 0.9,
          "showarrow": false,
          "text": "48",
          "x": 12.0,
          "xref": "x",
          "y": 4.7,
          "yref": "y"
         },
         {
          "align": "center",
          "font": {
           "color": "#333333",
           "family": "Roboto",
           "size": 10
          },
          "opacity": 0.9,
          "showarrow": false,
          "text": "49",
          "x": 13.0,
          "xref": "x",
          "y": 4.7,
          "yref": "y"
         },
         {
          "align": "center",
          "font": {
           "color": "#333333",
           "family": "Roboto",
           "size": 10
          },
          "opacity": 0.9,
          "showarrow": false,
          "text": "50",
          "x": 14.0,
          "xref": "x",
          "y": 4.7,
          "yref": "y"
         },
         {
          "align": "center",
          "font": {
           "color": "#333333",
           "family": "Roboto",
           "size": 10
          },
          "opacity": 0.9,
          "showarrow": false,
          "text": "51",
          "x": 15.0,
          "xref": "x",
          "y": 4.7,
          "yref": "y"
         },
         {
          "align": "center",
          "font": {
           "color": "#333333",
           "family": "Roboto",
           "size": 10
          },
          "opacity": 0.9,
          "showarrow": false,
          "text": "52",
          "x": 16.0,
          "xref": "x",
          "y": 4.7,
          "yref": "y"
         },
         {
          "align": "center",
          "font": {
           "color": "#333333",
           "family": "Roboto",
           "size": 10
          },
          "opacity": 0.9,
          "showarrow": false,
          "text": "53",
          "x": 17.0,
          "xref": "x",
          "y": 4.7,
          "yref": "y"
         },
         {
          "align": "center",
          "font": {
           "color": "#333333",
           "family": "Roboto",
           "size": 10
          },
          "opacity": 0.9,
          "showarrow": false,
          "text": "54",
          "x": 18.0,
          "xref": "x",
          "y": 4.7,
          "yref": "y"
         },
         {
          "align": "center",
          "font": {
           "color": "#333333",
           "family": "Roboto",
           "size": 10
          },
          "opacity": 0.9,
          "showarrow": false,
          "text": "55",
          "x": 1.0,
          "xref": "x",
          "y": 5.7,
          "yref": "y"
         },
         {
          "align": "center",
          "font": {
           "color": "#333333",
           "family": "Roboto",
           "size": 10
          },
          "opacity": 0.9,
          "showarrow": false,
          "text": "56",
          "x": 2.0,
          "xref": "x",
          "y": 5.7,
          "yref": "y"
         },
         {
          "align": "center",
          "font": {
           "color": "#333333",
           "family": "Roboto",
           "size": 10
          },
          "opacity": 0.9,
          "showarrow": false,
          "text": "57",
          "x": 3.0,
          "xref": "x",
          "y": 5.7,
          "yref": "y"
         },
         {
          "align": "center",
          "font": {
           "color": "#333333",
           "family": "Roboto",
           "size": 10
          },
          "opacity": 0.9,
          "showarrow": false,
          "text": "58",
          "x": 3.0,
          "xref": "x",
          "y": 8.2,
          "yref": "y"
         },
         {
          "align": "center",
          "font": {
           "color": "#333333",
           "family": "Roboto",
           "size": 10
          },
          "opacity": 0.9,
          "showarrow": false,
          "text": "59",
          "x": 4.0,
          "xref": "x",
          "y": 8.2,
          "yref": "y"
         },
         {
          "align": "center",
          "font": {
           "color": "#333333",
           "family": "Roboto",
           "size": 10
          },
          "opacity": 0.9,
          "showarrow": false,
          "text": "60",
          "x": 5.0,
          "xref": "x",
          "y": 8.2,
          "yref": "y"
         },
         {
          "align": "center",
          "font": {
           "color": "#333333",
           "family": "Roboto",
           "size": 10
          },
          "opacity": 0.9,
          "showarrow": false,
          "text": "61",
          "x": 6.0,
          "xref": "x",
          "y": 8.2,
          "yref": "y"
         },
         {
          "align": "center",
          "font": {
           "color": "#333333",
           "family": "Roboto",
           "size": 10
          },
          "opacity": 0.9,
          "showarrow": false,
          "text": "62",
          "x": 7.0,
          "xref": "x",
          "y": 8.2,
          "yref": "y"
         },
         {
          "align": "center",
          "font": {
           "color": "#333333",
           "family": "Roboto",
           "size": 10
          },
          "opacity": 0.9,
          "showarrow": false,
          "text": "63",
          "x": 8.0,
          "xref": "x",
          "y": 8.2,
          "yref": "y"
         },
         {
          "align": "center",
          "font": {
           "color": "#333333",
           "family": "Roboto",
           "size": 10
          },
          "opacity": 0.9,
          "showarrow": false,
          "text": "64",
          "x": 9.0,
          "xref": "x",
          "y": 8.2,
          "yref": "y"
         },
         {
          "align": "center",
          "font": {
           "color": "#333333",
           "family": "Roboto",
           "size": 10
          },
          "opacity": 0.9,
          "showarrow": false,
          "text": "65",
          "x": 10.0,
          "xref": "x",
          "y": 8.2,
          "yref": "y"
         },
         {
          "align": "center",
          "font": {
           "color": "#333333",
           "family": "Roboto",
           "size": 10
          },
          "opacity": 0.9,
          "showarrow": false,
          "text": "66",
          "x": 11.0,
          "xref": "x",
          "y": 8.2,
          "yref": "y"
         },
         {
          "align": "center",
          "font": {
           "color": "#333333",
           "family": "Roboto",
           "size": 10
          },
          "opacity": 0.9,
          "showarrow": false,
          "text": "67",
          "x": 12.0,
          "xref": "x",
          "y": 8.2,
          "yref": "y"
         },
         {
          "align": "center",
          "font": {
           "color": "#333333",
           "family": "Roboto",
           "size": 10
          },
          "opacity": 0.9,
          "showarrow": false,
          "text": "68",
          "x": 13.0,
          "xref": "x",
          "y": 8.2,
          "yref": "y"
         },
         {
          "align": "center",
          "font": {
           "color": "#333333",
           "family": "Roboto",
           "size": 10
          },
          "opacity": 0.9,
          "showarrow": false,
          "text": "69",
          "x": 14.0,
          "xref": "x",
          "y": 8.2,
          "yref": "y"
         },
         {
          "align": "center",
          "font": {
           "color": "#333333",
           "family": "Roboto",
           "size": 10
          },
          "opacity": 0.9,
          "showarrow": false,
          "text": "70",
          "x": 15.0,
          "xref": "x",
          "y": 8.2,
          "yref": "y"
         },
         {
          "align": "center",
          "font": {
           "color": "#333333",
           "family": "Roboto",
           "size": 10
          },
          "opacity": 0.9,
          "showarrow": false,
          "text": "71",
          "x": 16.0,
          "xref": "x",
          "y": 8.2,
          "yref": "y"
         },
         {
          "align": "center",
          "font": {
           "color": "#333333",
           "family": "Roboto",
           "size": 10
          },
          "opacity": 0.9,
          "showarrow": false,
          "text": "72",
          "x": 4.0,
          "xref": "x",
          "y": 5.7,
          "yref": "y"
         },
         {
          "align": "center",
          "font": {
           "color": "#333333",
           "family": "Roboto",
           "size": 10
          },
          "opacity": 0.9,
          "showarrow": false,
          "text": "73",
          "x": 5.0,
          "xref": "x",
          "y": 5.7,
          "yref": "y"
         },
         {
          "align": "center",
          "font": {
           "color": "#333333",
           "family": "Roboto",
           "size": 10
          },
          "opacity": 0.9,
          "showarrow": false,
          "text": "74",
          "x": 6.0,
          "xref": "x",
          "y": 5.7,
          "yref": "y"
         },
         {
          "align": "center",
          "font": {
           "color": "#333333",
           "family": "Roboto",
           "size": 10
          },
          "opacity": 0.9,
          "showarrow": false,
          "text": "75",
          "x": 7.0,
          "xref": "x",
          "y": 5.7,
          "yref": "y"
         },
         {
          "align": "center",
          "font": {
           "color": "#333333",
           "family": "Roboto",
           "size": 10
          },
          "opacity": 0.9,
          "showarrow": false,
          "text": "76",
          "x": 8.0,
          "xref": "x",
          "y": 5.7,
          "yref": "y"
         },
         {
          "align": "center",
          "font": {
           "color": "#333333",
           "family": "Roboto",
           "size": 10
          },
          "opacity": 0.9,
          "showarrow": false,
          "text": "77",
          "x": 9.0,
          "xref": "x",
          "y": 5.7,
          "yref": "y"
         },
         {
          "align": "center",
          "font": {
           "color": "#333333",
           "family": "Roboto",
           "size": 10
          },
          "opacity": 0.9,
          "showarrow": false,
          "text": "78",
          "x": 10.0,
          "xref": "x",
          "y": 5.7,
          "yref": "y"
         },
         {
          "align": "center",
          "font": {
           "color": "#333333",
           "family": "Roboto",
           "size": 10
          },
          "opacity": 0.9,
          "showarrow": false,
          "text": "79",
          "x": 11.0,
          "xref": "x",
          "y": 5.7,
          "yref": "y"
         },
         {
          "align": "center",
          "font": {
           "color": "#333333",
           "family": "Roboto",
           "size": 10
          },
          "opacity": 0.9,
          "showarrow": false,
          "text": "80",
          "x": 12.0,
          "xref": "x",
          "y": 5.7,
          "yref": "y"
         },
         {
          "align": "center",
          "font": {
           "color": "#333333",
           "family": "Roboto",
           "size": 10
          },
          "opacity": 0.9,
          "showarrow": false,
          "text": "81",
          "x": 13.0,
          "xref": "x",
          "y": 5.7,
          "yref": "y"
         },
         {
          "align": "center",
          "font": {
           "color": "#333333",
           "family": "Roboto",
           "size": 10
          },
          "opacity": 0.9,
          "showarrow": false,
          "text": "82",
          "x": 14.0,
          "xref": "x",
          "y": 5.7,
          "yref": "y"
         },
         {
          "align": "center",
          "font": {
           "color": "#333333",
           "family": "Roboto",
           "size": 10
          },
          "opacity": 0.9,
          "showarrow": false,
          "text": "83",
          "x": 15.0,
          "xref": "x",
          "y": 5.7,
          "yref": "y"
         },
         {
          "align": "center",
          "font": {
           "color": "#333333",
           "family": "Roboto",
           "size": 10
          },
          "opacity": 0.9,
          "showarrow": false,
          "text": "84",
          "x": 16.0,
          "xref": "x",
          "y": 5.7,
          "yref": "y"
         },
         {
          "align": "center",
          "font": {
           "color": "#333333",
           "family": "Roboto",
           "size": 10
          },
          "opacity": 0.9,
          "showarrow": false,
          "text": "85",
          "x": 17.0,
          "xref": "x",
          "y": 5.7,
          "yref": "y"
         },
         {
          "align": "center",
          "font": {
           "color": "#333333",
           "family": "Roboto",
           "size": 10
          },
          "opacity": 0.9,
          "showarrow": false,
          "text": "86",
          "x": 18.0,
          "xref": "x",
          "y": 5.7,
          "yref": "y"
         },
         {
          "align": "center",
          "font": {
           "color": "#333333",
           "family": "Roboto",
           "size": 10
          },
          "opacity": 0.9,
          "showarrow": false,
          "text": "87",
          "x": 1.0,
          "xref": "x",
          "y": 6.7,
          "yref": "y"
         },
         {
          "align": "center",
          "font": {
           "color": "#333333",
           "family": "Roboto",
           "size": 10
          },
          "opacity": 0.9,
          "showarrow": false,
          "text": "88",
          "x": 2.0,
          "xref": "x",
          "y": 6.7,
          "yref": "y"
         },
         {
          "align": "center",
          "font": {
           "color": "#333333",
           "family": "Roboto",
           "size": 10
          },
          "opacity": 0.9,
          "showarrow": false,
          "text": "89",
          "x": 3.0,
          "xref": "x",
          "y": 6.7,
          "yref": "y"
         },
         {
          "align": "center",
          "font": {
           "color": "#333333",
           "family": "Roboto",
           "size": 10
          },
          "opacity": 0.9,
          "showarrow": false,
          "text": "90",
          "x": 3.0,
          "xref": "x",
          "y": 9.2,
          "yref": "y"
         },
         {
          "align": "center",
          "font": {
           "color": "#333333",
           "family": "Roboto",
           "size": 10
          },
          "opacity": 0.9,
          "showarrow": false,
          "text": "91",
          "x": 4.0,
          "xref": "x",
          "y": 9.2,
          "yref": "y"
         },
         {
          "align": "center",
          "font": {
           "color": "#333333",
           "family": "Roboto",
           "size": 10
          },
          "opacity": 0.9,
          "showarrow": false,
          "text": "92",
          "x": 5.0,
          "xref": "x",
          "y": 9.2,
          "yref": "y"
         },
         {
          "align": "center",
          "font": {
           "color": "#333333",
           "family": "Roboto",
           "size": 10
          },
          "opacity": 0.9,
          "showarrow": false,
          "text": "93",
          "x": 6.0,
          "xref": "x",
          "y": 9.2,
          "yref": "y"
         },
         {
          "align": "center",
          "font": {
           "color": "#333333",
           "family": "Roboto",
           "size": 10
          },
          "opacity": 0.9,
          "showarrow": false,
          "text": "94",
          "x": 7.0,
          "xref": "x",
          "y": 9.2,
          "yref": "y"
         },
         {
          "align": "center",
          "font": {
           "color": "#333333",
           "family": "Roboto",
           "size": 10
          },
          "opacity": 0.9,
          "showarrow": false,
          "text": "95",
          "x": 8.0,
          "xref": "x",
          "y": 9.2,
          "yref": "y"
         },
         {
          "align": "center",
          "font": {
           "color": "#333333",
           "family": "Roboto",
           "size": 10
          },
          "opacity": 0.9,
          "showarrow": false,
          "text": "96",
          "x": 9.0,
          "xref": "x",
          "y": 9.2,
          "yref": "y"
         },
         {
          "align": "center",
          "font": {
           "color": "#333333",
           "family": "Roboto",
           "size": 10
          },
          "opacity": 0.9,
          "showarrow": false,
          "text": "97",
          "x": 10.0,
          "xref": "x",
          "y": 9.2,
          "yref": "y"
         },
         {
          "align": "center",
          "font": {
           "color": "#333333",
           "family": "Roboto",
           "size": 10
          },
          "opacity": 0.9,
          "showarrow": false,
          "text": "98",
          "x": 11.0,
          "xref": "x",
          "y": 9.2,
          "yref": "y"
         },
         {
          "align": "center",
          "font": {
           "color": "#333333",
           "family": "Roboto",
           "size": 10
          },
          "opacity": 0.9,
          "showarrow": false,
          "text": "99",
          "x": 12.0,
          "xref": "x",
          "y": 9.2,
          "yref": "y"
         },
         {
          "align": "center",
          "font": {
           "color": "#333333",
           "family": "Roboto",
           "size": 10
          },
          "opacity": 0.9,
          "showarrow": false,
          "text": "100",
          "x": 13.0,
          "xref": "x",
          "y": 9.2,
          "yref": "y"
         },
         {
          "align": "center",
          "font": {
           "color": "#333333",
           "family": "Roboto",
           "size": 10
          },
          "opacity": 0.9,
          "showarrow": false,
          "text": "101",
          "x": 14.0,
          "xref": "x",
          "y": 9.2,
          "yref": "y"
         },
         {
          "align": "center",
          "font": {
           "color": "#333333",
           "family": "Roboto",
           "size": 10
          },
          "opacity": 0.9,
          "showarrow": false,
          "text": "102",
          "x": 15.0,
          "xref": "x",
          "y": 9.2,
          "yref": "y"
         },
         {
          "align": "center",
          "font": {
           "color": "#333333",
           "family": "Roboto",
           "size": 10
          },
          "opacity": 0.9,
          "showarrow": false,
          "text": "103",
          "x": 16.0,
          "xref": "x",
          "y": 9.2,
          "yref": "y"
         },
         {
          "align": "center",
          "font": {
           "color": "#333333",
           "family": "Roboto",
           "size": 10
          },
          "opacity": 0.9,
          "showarrow": false,
          "text": "104",
          "x": 4.0,
          "xref": "x",
          "y": 6.7,
          "yref": "y"
         },
         {
          "align": "center",
          "font": {
           "color": "#333333",
           "family": "Roboto",
           "size": 10
          },
          "opacity": 0.9,
          "showarrow": false,
          "text": "105",
          "x": 5.0,
          "xref": "x",
          "y": 6.7,
          "yref": "y"
         },
         {
          "align": "center",
          "font": {
           "color": "#333333",
           "family": "Roboto",
           "size": 10
          },
          "opacity": 0.9,
          "showarrow": false,
          "text": "106",
          "x": 6.0,
          "xref": "x",
          "y": 6.7,
          "yref": "y"
         },
         {
          "align": "center",
          "font": {
           "color": "#333333",
           "family": "Roboto",
           "size": 10
          },
          "opacity": 0.9,
          "showarrow": false,
          "text": "107",
          "x": 7.0,
          "xref": "x",
          "y": 6.7,
          "yref": "y"
         },
         {
          "align": "center",
          "font": {
           "color": "#333333",
           "family": "Roboto",
           "size": 10
          },
          "opacity": 0.9,
          "showarrow": false,
          "text": "108",
          "x": 8.0,
          "xref": "x",
          "y": 6.7,
          "yref": "y"
         },
         {
          "align": "center",
          "font": {
           "color": "#333333",
           "family": "Roboto",
           "size": 10
          },
          "opacity": 0.9,
          "showarrow": false,
          "text": "109",
          "x": 9.0,
          "xref": "x",
          "y": 6.7,
          "yref": "y"
         },
         {
          "align": "center",
          "font": {
           "color": "#333333",
           "family": "Roboto",
           "size": 10
          },
          "opacity": 0.9,
          "showarrow": false,
          "text": "110",
          "x": 10.0,
          "xref": "x",
          "y": 6.7,
          "yref": "y"
         },
         {
          "align": "center",
          "font": {
           "color": "#333333",
           "family": "Roboto",
           "size": 10
          },
          "opacity": 0.9,
          "showarrow": false,
          "text": "111",
          "x": 11.0,
          "xref": "x",
          "y": 6.7,
          "yref": "y"
         },
         {
          "align": "center",
          "font": {
           "color": "#333333",
           "family": "Roboto",
           "size": 10
          },
          "opacity": 0.9,
          "showarrow": false,
          "text": "112",
          "x": 12.0,
          "xref": "x",
          "y": 6.7,
          "yref": "y"
         },
         {
          "align": "center",
          "font": {
           "color": "#333333",
           "family": "Roboto",
           "size": 10
          },
          "opacity": 0.9,
          "showarrow": false,
          "text": "113",
          "x": 13.0,
          "xref": "x",
          "y": 6.7,
          "yref": "y"
         },
         {
          "align": "center",
          "font": {
           "color": "#333333",
           "family": "Roboto",
           "size": 10
          },
          "opacity": 0.9,
          "showarrow": false,
          "text": "114",
          "x": 14.0,
          "xref": "x",
          "y": 6.7,
          "yref": "y"
         },
         {
          "align": "center",
          "font": {
           "color": "#333333",
           "family": "Roboto",
           "size": 10
          },
          "opacity": 0.9,
          "showarrow": false,
          "text": "115",
          "x": 15.0,
          "xref": "x",
          "y": 6.7,
          "yref": "y"
         },
         {
          "align": "center",
          "font": {
           "color": "#333333",
           "family": "Roboto",
           "size": 10
          },
          "opacity": 0.9,
          "showarrow": false,
          "text": "116",
          "x": 16.0,
          "xref": "x",
          "y": 6.7,
          "yref": "y"
         },
         {
          "align": "center",
          "font": {
           "color": "#333333",
           "family": "Roboto",
           "size": 10
          },
          "opacity": 0.9,
          "showarrow": false,
          "text": "117",
          "x": 17.0,
          "xref": "x",
          "y": 6.7,
          "yref": "y"
         },
         {
          "align": "center",
          "font": {
           "color": "#333333",
           "family": "Roboto",
           "size": 10
          },
          "opacity": 0.9,
          "showarrow": false,
          "text": "118",
          "x": 18.0,
          "xref": "x",
          "y": 6.7,
          "yref": "y"
         },
         {
          "align": "center",
          "font": {
           "color": "#333333",
           "family": "Roboto",
           "size": 7
          },
          "opacity": 0.9,
          "showarrow": false,
          "text": "Hydrogen",
          "x": 1.0,
          "xref": "x",
          "y": 1.2,
          "yref": "y"
         },
         {
          "align": "center",
          "font": {
           "color": "#333333",
           "family": "Roboto",
           "size": 7
          },
          "opacity": 0.9,
          "showarrow": false,
          "text": "Helium",
          "x": 18.0,
          "xref": "x",
          "y": 1.2,
          "yref": "y"
         },
         {
          "align": "center",
          "font": {
           "color": "#333333",
           "family": "Roboto",
           "size": 7
          },
          "opacity": 0.9,
          "showarrow": false,
          "text": "Lithium",
          "x": 1.0,
          "xref": "x",
          "y": 2.2,
          "yref": "y"
         },
         {
          "align": "center",
          "font": {
           "color": "#333333",
           "family": "Roboto",
           "size": 7
          },
          "opacity": 0.9,
          "showarrow": false,
          "text": "Beryllium",
          "x": 2.0,
          "xref": "x",
          "y": 2.2,
          "yref": "y"
         },
         {
          "align": "center",
          "font": {
           "color": "#333333",
           "family": "Roboto",
           "size": 7
          },
          "opacity": 0.9,
          "showarrow": false,
          "text": "Boron",
          "x": 13.0,
          "xref": "x",
          "y": 2.2,
          "yref": "y"
         },
         {
          "align": "center",
          "font": {
           "color": "#333333",
           "family": "Roboto",
           "size": 7
          },
          "opacity": 0.9,
          "showarrow": false,
          "text": "Carbon",
          "x": 14.0,
          "xref": "x",
          "y": 2.2,
          "yref": "y"
         },
         {
          "align": "center",
          "font": {
           "color": "#333333",
           "family": "Roboto",
           "size": 7
          },
          "opacity": 0.9,
          "showarrow": false,
          "text": "Nitrogen",
          "x": 15.0,
          "xref": "x",
          "y": 2.2,
          "yref": "y"
         },
         {
          "align": "center",
          "font": {
           "color": "#333333",
           "family": "Roboto",
           "size": 7
          },
          "opacity": 0.9,
          "showarrow": false,
          "text": "Oxygen",
          "x": 16.0,
          "xref": "x",
          "y": 2.2,
          "yref": "y"
         },
         {
          "align": "center",
          "font": {
           "color": "#333333",
           "family": "Roboto",
           "size": 7
          },
          "opacity": 0.9,
          "showarrow": false,
          "text": "Fluorine",
          "x": 17.0,
          "xref": "x",
          "y": 2.2,
          "yref": "y"
         },
         {
          "align": "center",
          "font": {
           "color": "#333333",
           "family": "Roboto",
           "size": 7
          },
          "opacity": 0.9,
          "showarrow": false,
          "text": "Neon",
          "x": 18.0,
          "xref": "x",
          "y": 2.2,
          "yref": "y"
         },
         {
          "align": "center",
          "font": {
           "color": "#333333",
           "family": "Roboto",
           "size": 7
          },
          "opacity": 0.9,
          "showarrow": false,
          "text": "Sodium",
          "x": 1.0,
          "xref": "x",
          "y": 3.2,
          "yref": "y"
         },
         {
          "align": "center",
          "font": {
           "color": "#333333",
           "family": "Roboto",
           "size": 7
          },
          "opacity": 0.9,
          "showarrow": false,
          "text": "Magnesium",
          "x": 2.0,
          "xref": "x",
          "y": 3.2,
          "yref": "y"
         },
         {
          "align": "center",
          "font": {
           "color": "#333333",
           "family": "Roboto",
           "size": 7
          },
          "opacity": 0.9,
          "showarrow": false,
          "text": "Aluminum",
          "x": 13.0,
          "xref": "x",
          "y": 3.2,
          "yref": "y"
         },
         {
          "align": "center",
          "font": {
           "color": "#333333",
           "family": "Roboto",
           "size": 7
          },
          "opacity": 0.9,
          "showarrow": false,
          "text": "Silicon",
          "x": 14.0,
          "xref": "x",
          "y": 3.2,
          "yref": "y"
         },
         {
          "align": "center",
          "font": {
           "color": "#333333",
           "family": "Roboto",
           "size": 7
          },
          "opacity": 0.9,
          "showarrow": false,
          "text": "Phosphorus",
          "x": 15.0,
          "xref": "x",
          "y": 3.2,
          "yref": "y"
         },
         {
          "align": "center",
          "font": {
           "color": "#333333",
           "family": "Roboto",
           "size": 7
          },
          "opacity": 0.9,
          "showarrow": false,
          "text": "Sulfur",
          "x": 16.0,
          "xref": "x",
          "y": 3.2,
          "yref": "y"
         },
         {
          "align": "center",
          "font": {
           "color": "#333333",
           "family": "Roboto",
           "size": 7
          },
          "opacity": 0.9,
          "showarrow": false,
          "text": "Chlorine",
          "x": 17.0,
          "xref": "x",
          "y": 3.2,
          "yref": "y"
         },
         {
          "align": "center",
          "font": {
           "color": "#333333",
           "family": "Roboto",
           "size": 7
          },
          "opacity": 0.9,
          "showarrow": false,
          "text": "Argon",
          "x": 18.0,
          "xref": "x",
          "y": 3.2,
          "yref": "y"
         },
         {
          "align": "center",
          "font": {
           "color": "#333333",
           "family": "Roboto",
           "size": 7
          },
          "opacity": 0.9,
          "showarrow": false,
          "text": "Potassium",
          "x": 1.0,
          "xref": "x",
          "y": 4.2,
          "yref": "y"
         },
         {
          "align": "center",
          "font": {
           "color": "#333333",
           "family": "Roboto",
           "size": 7
          },
          "opacity": 0.9,
          "showarrow": false,
          "text": "Calcium",
          "x": 2.0,
          "xref": "x",
          "y": 4.2,
          "yref": "y"
         },
         {
          "align": "center",
          "font": {
           "color": "#333333",
           "family": "Roboto",
           "size": 7
          },
          "opacity": 0.9,
          "showarrow": false,
          "text": "Scandium",
          "x": 3.0,
          "xref": "x",
          "y": 4.2,
          "yref": "y"
         },
         {
          "align": "center",
          "font": {
           "color": "#333333",
           "family": "Roboto",
           "size": 7
          },
          "opacity": 0.9,
          "showarrow": false,
          "text": "Titanium",
          "x": 4.0,
          "xref": "x",
          "y": 4.2,
          "yref": "y"
         },
         {
          "align": "center",
          "font": {
           "color": "#333333",
           "family": "Roboto",
           "size": 7
          },
          "opacity": 0.9,
          "showarrow": false,
          "text": "Vanadium",
          "x": 5.0,
          "xref": "x",
          "y": 4.2,
          "yref": "y"
         },
         {
          "align": "center",
          "font": {
           "color": "#333333",
           "family": "Roboto",
           "size": 7
          },
          "opacity": 0.9,
          "showarrow": false,
          "text": "Chromium",
          "x": 6.0,
          "xref": "x",
          "y": 4.2,
          "yref": "y"
         },
         {
          "align": "center",
          "font": {
           "color": "#333333",
           "family": "Roboto",
           "size": 7
          },
          "opacity": 0.9,
          "showarrow": false,
          "text": "Manganese",
          "x": 7.0,
          "xref": "x",
          "y": 4.2,
          "yref": "y"
         },
         {
          "align": "center",
          "font": {
           "color": "#333333",
           "family": "Roboto",
           "size": 7
          },
          "opacity": 0.9,
          "showarrow": false,
          "text": "Iron",
          "x": 8.0,
          "xref": "x",
          "y": 4.2,
          "yref": "y"
         },
         {
          "align": "center",
          "font": {
           "color": "#333333",
           "family": "Roboto",
           "size": 7
          },
          "opacity": 0.9,
          "showarrow": false,
          "text": "Cobalt",
          "x": 9.0,
          "xref": "x",
          "y": 4.2,
          "yref": "y"
         },
         {
          "align": "center",
          "font": {
           "color": "#333333",
           "family": "Roboto",
           "size": 7
          },
          "opacity": 0.9,
          "showarrow": false,
          "text": "Nickel",
          "x": 10.0,
          "xref": "x",
          "y": 4.2,
          "yref": "y"
         },
         {
          "align": "center",
          "font": {
           "color": "#333333",
           "family": "Roboto",
           "size": 7
          },
          "opacity": 0.9,
          "showarrow": false,
          "text": "Copper",
          "x": 11.0,
          "xref": "x",
          "y": 4.2,
          "yref": "y"
         },
         {
          "align": "center",
          "font": {
           "color": "#333333",
           "family": "Roboto",
           "size": 7
          },
          "opacity": 0.9,
          "showarrow": false,
          "text": "Zinc",
          "x": 12.0,
          "xref": "x",
          "y": 4.2,
          "yref": "y"
         },
         {
          "align": "center",
          "font": {
           "color": "#333333",
           "family": "Roboto",
           "size": 7
          },
          "opacity": 0.9,
          "showarrow": false,
          "text": "Gallium",
          "x": 13.0,
          "xref": "x",
          "y": 4.2,
          "yref": "y"
         },
         {
          "align": "center",
          "font": {
           "color": "#333333",
           "family": "Roboto",
           "size": 7
          },
          "opacity": 0.9,
          "showarrow": false,
          "text": "Germanium",
          "x": 14.0,
          "xref": "x",
          "y": 4.2,
          "yref": "y"
         },
         {
          "align": "center",
          "font": {
           "color": "#333333",
           "family": "Roboto",
           "size": 7
          },
          "opacity": 0.9,
          "showarrow": false,
          "text": "Arsenic",
          "x": 15.0,
          "xref": "x",
          "y": 4.2,
          "yref": "y"
         },
         {
          "align": "center",
          "font": {
           "color": "#333333",
           "family": "Roboto",
           "size": 7
          },
          "opacity": 0.9,
          "showarrow": false,
          "text": "Selenium",
          "x": 16.0,
          "xref": "x",
          "y": 4.2,
          "yref": "y"
         },
         {
          "align": "center",
          "font": {
           "color": "#333333",
           "family": "Roboto",
           "size": 7
          },
          "opacity": 0.9,
          "showarrow": false,
          "text": "Bromine",
          "x": 17.0,
          "xref": "x",
          "y": 4.2,
          "yref": "y"
         },
         {
          "align": "center",
          "font": {
           "color": "#333333",
           "family": "Roboto",
           "size": 7
          },
          "opacity": 0.9,
          "showarrow": false,
          "text": "Krypton",
          "x": 18.0,
          "xref": "x",
          "y": 4.2,
          "yref": "y"
         },
         {
          "align": "center",
          "font": {
           "color": "#333333",
           "family": "Roboto",
           "size": 7
          },
          "opacity": 0.9,
          "showarrow": false,
          "text": "Rubidium",
          "x": 1.0,
          "xref": "x",
          "y": 5.2,
          "yref": "y"
         },
         {
          "align": "center",
          "font": {
           "color": "#333333",
           "family": "Roboto",
           "size": 7
          },
          "opacity": 0.9,
          "showarrow": false,
          "text": "Strontium",
          "x": 2.0,
          "xref": "x",
          "y": 5.2,
          "yref": "y"
         },
         {
          "align": "center",
          "font": {
           "color": "#333333",
           "family": "Roboto",
           "size": 7
          },
          "opacity": 0.9,
          "showarrow": false,
          "text": "Yttrium",
          "x": 3.0,
          "xref": "x",
          "y": 5.2,
          "yref": "y"
         },
         {
          "align": "center",
          "font": {
           "color": "#333333",
           "family": "Roboto",
           "size": 7
          },
          "opacity": 0.9,
          "showarrow": false,
          "text": "Zirconium",
          "x": 4.0,
          "xref": "x",
          "y": 5.2,
          "yref": "y"
         },
         {
          "align": "center",
          "font": {
           "color": "#333333",
           "family": "Roboto",
           "size": 7
          },
          "opacity": 0.9,
          "showarrow": false,
          "text": "Niobium",
          "x": 5.0,
          "xref": "x",
          "y": 5.2,
          "yref": "y"
         },
         {
          "align": "center",
          "font": {
           "color": "#333333",
           "family": "Roboto",
           "size": 7
          },
          "opacity": 0.9,
          "showarrow": false,
          "text": "Molybdenum",
          "x": 6.0,
          "xref": "x",
          "y": 5.2,
          "yref": "y"
         },
         {
          "align": "center",
          "font": {
           "color": "#333333",
           "family": "Roboto",
           "size": 7
          },
          "opacity": 0.9,
          "showarrow": false,
          "text": "Technetium",
          "x": 7.0,
          "xref": "x",
          "y": 5.2,
          "yref": "y"
         },
         {
          "align": "center",
          "font": {
           "color": "#333333",
           "family": "Roboto",
           "size": 7
          },
          "opacity": 0.9,
          "showarrow": false,
          "text": "Ruthenium",
          "x": 8.0,
          "xref": "x",
          "y": 5.2,
          "yref": "y"
         },
         {
          "align": "center",
          "font": {
           "color": "#333333",
           "family": "Roboto",
           "size": 7
          },
          "opacity": 0.9,
          "showarrow": false,
          "text": "Rhodium",
          "x": 9.0,
          "xref": "x",
          "y": 5.2,
          "yref": "y"
         },
         {
          "align": "center",
          "font": {
           "color": "#333333",
           "family": "Roboto",
           "size": 7
          },
          "opacity": 0.9,
          "showarrow": false,
          "text": "Palladium",
          "x": 10.0,
          "xref": "x",
          "y": 5.2,
          "yref": "y"
         },
         {
          "align": "center",
          "font": {
           "color": "#333333",
           "family": "Roboto",
           "size": 7
          },
          "opacity": 0.9,
          "showarrow": false,
          "text": "Silver",
          "x": 11.0,
          "xref": "x",
          "y": 5.2,
          "yref": "y"
         },
         {
          "align": "center",
          "font": {
           "color": "#333333",
           "family": "Roboto",
           "size": 7
          },
          "opacity": 0.9,
          "showarrow": false,
          "text": "Cadmium",
          "x": 12.0,
          "xref": "x",
          "y": 5.2,
          "yref": "y"
         },
         {
          "align": "center",
          "font": {
           "color": "#333333",
           "family": "Roboto",
           "size": 7
          },
          "opacity": 0.9,
          "showarrow": false,
          "text": "Indium",
          "x": 13.0,
          "xref": "x",
          "y": 5.2,
          "yref": "y"
         },
         {
          "align": "center",
          "font": {
           "color": "#333333",
           "family": "Roboto",
           "size": 7
          },
          "opacity": 0.9,
          "showarrow": false,
          "text": "Tin",
          "x": 14.0,
          "xref": "x",
          "y": 5.2,
          "yref": "y"
         },
         {
          "align": "center",
          "font": {
           "color": "#333333",
           "family": "Roboto",
           "size": 7
          },
          "opacity": 0.9,
          "showarrow": false,
          "text": "Antimony",
          "x": 15.0,
          "xref": "x",
          "y": 5.2,
          "yref": "y"
         },
         {
          "align": "center",
          "font": {
           "color": "#333333",
           "family": "Roboto",
           "size": 7
          },
          "opacity": 0.9,
          "showarrow": false,
          "text": "Tellurium",
          "x": 16.0,
          "xref": "x",
          "y": 5.2,
          "yref": "y"
         },
         {
          "align": "center",
          "font": {
           "color": "#333333",
           "family": "Roboto",
           "size": 7
          },
          "opacity": 0.9,
          "showarrow": false,
          "text": "Iodine",
          "x": 17.0,
          "xref": "x",
          "y": 5.2,
          "yref": "y"
         },
         {
          "align": "center",
          "font": {
           "color": "#333333",
           "family": "Roboto",
           "size": 7
          },
          "opacity": 0.9,
          "showarrow": false,
          "text": "Xenon",
          "x": 18.0,
          "xref": "x",
          "y": 5.2,
          "yref": "y"
         },
         {
          "align": "center",
          "font": {
           "color": "#333333",
           "family": "Roboto",
           "size": 7
          },
          "opacity": 0.9,
          "showarrow": false,
          "text": "Cesium",
          "x": 1.0,
          "xref": "x",
          "y": 6.2,
          "yref": "y"
         },
         {
          "align": "center",
          "font": {
           "color": "#333333",
           "family": "Roboto",
           "size": 7
          },
          "opacity": 0.9,
          "showarrow": false,
          "text": "Barium",
          "x": 2.0,
          "xref": "x",
          "y": 6.2,
          "yref": "y"
         },
         {
          "align": "center",
          "font": {
           "color": "#333333",
           "family": "Roboto",
           "size": 7
          },
          "opacity": 0.9,
          "showarrow": false,
          "text": "Lanthanum",
          "x": 3.0,
          "xref": "x",
          "y": 6.2,
          "yref": "y"
         },
         {
          "align": "center",
          "font": {
           "color": "#333333",
           "family": "Roboto",
           "size": 7
          },
          "opacity": 0.9,
          "showarrow": false,
          "text": "Cerium",
          "x": 3.0,
          "xref": "x",
          "y": 8.7,
          "yref": "y"
         },
         {
          "align": "center",
          "font": {
           "color": "#333333",
           "family": "Roboto",
           "size": 7
          },
          "opacity": 0.9,
          "showarrow": false,
          "text": "Praseodymium",
          "x": 4.0,
          "xref": "x",
          "y": 8.7,
          "yref": "y"
         },
         {
          "align": "center",
          "font": {
           "color": "#333333",
           "family": "Roboto",
           "size": 7
          },
          "opacity": 0.9,
          "showarrow": false,
          "text": "Neodymium",
          "x": 5.0,
          "xref": "x",
          "y": 8.7,
          "yref": "y"
         },
         {
          "align": "center",
          "font": {
           "color": "#333333",
           "family": "Roboto",
           "size": 7
          },
          "opacity": 0.9,
          "showarrow": false,
          "text": "Promethium",
          "x": 6.0,
          "xref": "x",
          "y": 8.7,
          "yref": "y"
         },
         {
          "align": "center",
          "font": {
           "color": "#333333",
           "family": "Roboto",
           "size": 7
          },
          "opacity": 0.9,
          "showarrow": false,
          "text": "Samarium",
          "x": 7.0,
          "xref": "x",
          "y": 8.7,
          "yref": "y"
         },
         {
          "align": "center",
          "font": {
           "color": "#333333",
           "family": "Roboto",
           "size": 7
          },
          "opacity": 0.9,
          "showarrow": false,
          "text": "Europium",
          "x": 8.0,
          "xref": "x",
          "y": 8.7,
          "yref": "y"
         },
         {
          "align": "center",
          "font": {
           "color": "#333333",
           "family": "Roboto",
           "size": 7
          },
          "opacity": 0.9,
          "showarrow": false,
          "text": "Gadolinium",
          "x": 9.0,
          "xref": "x",
          "y": 8.7,
          "yref": "y"
         },
         {
          "align": "center",
          "font": {
           "color": "#333333",
           "family": "Roboto",
           "size": 7
          },
          "opacity": 0.9,
          "showarrow": false,
          "text": "Terbium",
          "x": 10.0,
          "xref": "x",
          "y": 8.7,
          "yref": "y"
         },
         {
          "align": "center",
          "font": {
           "color": "#333333",
           "family": "Roboto",
           "size": 7
          },
          "opacity": 0.9,
          "showarrow": false,
          "text": "Dysprosium",
          "x": 11.0,
          "xref": "x",
          "y": 8.7,
          "yref": "y"
         },
         {
          "align": "center",
          "font": {
           "color": "#333333",
           "family": "Roboto",
           "size": 7
          },
          "opacity": 0.9,
          "showarrow": false,
          "text": "Holmium",
          "x": 12.0,
          "xref": "x",
          "y": 8.7,
          "yref": "y"
         },
         {
          "align": "center",
          "font": {
           "color": "#333333",
           "family": "Roboto",
           "size": 7
          },
          "opacity": 0.9,
          "showarrow": false,
          "text": "Erbium",
          "x": 13.0,
          "xref": "x",
          "y": 8.7,
          "yref": "y"
         },
         {
          "align": "center",
          "font": {
           "color": "#333333",
           "family": "Roboto",
           "size": 7
          },
          "opacity": 0.9,
          "showarrow": false,
          "text": "Thulium",
          "x": 14.0,
          "xref": "x",
          "y": 8.7,
          "yref": "y"
         },
         {
          "align": "center",
          "font": {
           "color": "#333333",
           "family": "Roboto",
           "size": 7
          },
          "opacity": 0.9,
          "showarrow": false,
          "text": "Ytterbium",
          "x": 15.0,
          "xref": "x",
          "y": 8.7,
          "yref": "y"
         },
         {
          "align": "center",
          "font": {
           "color": "#333333",
           "family": "Roboto",
           "size": 7
          },
          "opacity": 0.9,
          "showarrow": false,
          "text": "Lutetium",
          "x": 16.0,
          "xref": "x",
          "y": 8.7,
          "yref": "y"
         },
         {
          "align": "center",
          "font": {
           "color": "#333333",
           "family": "Roboto",
           "size": 7
          },
          "opacity": 0.9,
          "showarrow": false,
          "text": "Hafnium",
          "x": 4.0,
          "xref": "x",
          "y": 6.2,
          "yref": "y"
         },
         {
          "align": "center",
          "font": {
           "color": "#333333",
           "family": "Roboto",
           "size": 7
          },
          "opacity": 0.9,
          "showarrow": false,
          "text": "Tantalum",
          "x": 5.0,
          "xref": "x",
          "y": 6.2,
          "yref": "y"
         },
         {
          "align": "center",
          "font": {
           "color": "#333333",
           "family": "Roboto",
           "size": 7
          },
          "opacity": 0.9,
          "showarrow": false,
          "text": "Tungsten",
          "x": 6.0,
          "xref": "x",
          "y": 6.2,
          "yref": "y"
         },
         {
          "align": "center",
          "font": {
           "color": "#333333",
           "family": "Roboto",
           "size": 7
          },
          "opacity": 0.9,
          "showarrow": false,
          "text": "Rhenium",
          "x": 7.0,
          "xref": "x",
          "y": 6.2,
          "yref": "y"
         },
         {
          "align": "center",
          "font": {
           "color": "#333333",
           "family": "Roboto",
           "size": 7
          },
          "opacity": 0.9,
          "showarrow": false,
          "text": "Osmium",
          "x": 8.0,
          "xref": "x",
          "y": 6.2,
          "yref": "y"
         },
         {
          "align": "center",
          "font": {
           "color": "#333333",
           "family": "Roboto",
           "size": 7
          },
          "opacity": 0.9,
          "showarrow": false,
          "text": "Iridium",
          "x": 9.0,
          "xref": "x",
          "y": 6.2,
          "yref": "y"
         },
         {
          "align": "center",
          "font": {
           "color": "#333333",
           "family": "Roboto",
           "size": 7
          },
          "opacity": 0.9,
          "showarrow": false,
          "text": "Platinum",
          "x": 10.0,
          "xref": "x",
          "y": 6.2,
          "yref": "y"
         },
         {
          "align": "center",
          "font": {
           "color": "#333333",
           "family": "Roboto",
           "size": 7
          },
          "opacity": 0.9,
          "showarrow": false,
          "text": "Gold",
          "x": 11.0,
          "xref": "x",
          "y": 6.2,
          "yref": "y"
         },
         {
          "align": "center",
          "font": {
           "color": "#333333",
           "family": "Roboto",
           "size": 7
          },
          "opacity": 0.9,
          "showarrow": false,
          "text": "Mercury",
          "x": 12.0,
          "xref": "x",
          "y": 6.2,
          "yref": "y"
         },
         {
          "align": "center",
          "font": {
           "color": "#333333",
           "family": "Roboto",
           "size": 7
          },
          "opacity": 0.9,
          "showarrow": false,
          "text": "Thallium",
          "x": 13.0,
          "xref": "x",
          "y": 6.2,
          "yref": "y"
         },
         {
          "align": "center",
          "font": {
           "color": "#333333",
           "family": "Roboto",
           "size": 7
          },
          "opacity": 0.9,
          "showarrow": false,
          "text": "Lead",
          "x": 14.0,
          "xref": "x",
          "y": 6.2,
          "yref": "y"
         },
         {
          "align": "center",
          "font": {
           "color": "#333333",
           "family": "Roboto",
           "size": 7
          },
          "opacity": 0.9,
          "showarrow": false,
          "text": "Bismuth",
          "x": 15.0,
          "xref": "x",
          "y": 6.2,
          "yref": "y"
         },
         {
          "align": "center",
          "font": {
           "color": "#333333",
           "family": "Roboto",
           "size": 7
          },
          "opacity": 0.9,
          "showarrow": false,
          "text": "Polonium",
          "x": 16.0,
          "xref": "x",
          "y": 6.2,
          "yref": "y"
         },
         {
          "align": "center",
          "font": {
           "color": "#333333",
           "family": "Roboto",
           "size": 7
          },
          "opacity": 0.9,
          "showarrow": false,
          "text": "Astatine",
          "x": 17.0,
          "xref": "x",
          "y": 6.2,
          "yref": "y"
         },
         {
          "align": "center",
          "font": {
           "color": "#333333",
           "family": "Roboto",
           "size": 7
          },
          "opacity": 0.9,
          "showarrow": false,
          "text": "Radon",
          "x": 18.0,
          "xref": "x",
          "y": 6.2,
          "yref": "y"
         },
         {
          "align": "center",
          "font": {
           "color": "#333333",
           "family": "Roboto",
           "size": 7
          },
          "opacity": 0.9,
          "showarrow": false,
          "text": "Francium",
          "x": 1.0,
          "xref": "x",
          "y": 7.2,
          "yref": "y"
         },
         {
          "align": "center",
          "font": {
           "color": "#333333",
           "family": "Roboto",
           "size": 7
          },
          "opacity": 0.9,
          "showarrow": false,
          "text": "Radium",
          "x": 2.0,
          "xref": "x",
          "y": 7.2,
          "yref": "y"
         },
         {
          "align": "center",
          "font": {
           "color": "#333333",
           "family": "Roboto",
           "size": 7
          },
          "opacity": 0.9,
          "showarrow": false,
          "text": "Actinium",
          "x": 3.0,
          "xref": "x",
          "y": 7.2,
          "yref": "y"
         },
         {
          "align": "center",
          "font": {
           "color": "#333333",
           "family": "Roboto",
           "size": 7
          },
          "opacity": 0.9,
          "showarrow": false,
          "text": "Thorium",
          "x": 3.0,
          "xref": "x",
          "y": 9.7,
          "yref": "y"
         },
         {
          "align": "center",
          "font": {
           "color": "#333333",
           "family": "Roboto",
           "size": 7
          },
          "opacity": 0.9,
          "showarrow": false,
          "text": "Protactinium",
          "x": 4.0,
          "xref": "x",
          "y": 9.7,
          "yref": "y"
         },
         {
          "align": "center",
          "font": {
           "color": "#333333",
           "family": "Roboto",
           "size": 7
          },
          "opacity": 0.9,
          "showarrow": false,
          "text": "Uranium",
          "x": 5.0,
          "xref": "x",
          "y": 9.7,
          "yref": "y"
         },
         {
          "align": "center",
          "font": {
           "color": "#333333",
           "family": "Roboto",
           "size": 7
          },
          "opacity": 0.9,
          "showarrow": false,
          "text": "Neptunium",
          "x": 6.0,
          "xref": "x",
          "y": 9.7,
          "yref": "y"
         },
         {
          "align": "center",
          "font": {
           "color": "#333333",
           "family": "Roboto",
           "size": 7
          },
          "opacity": 0.9,
          "showarrow": false,
          "text": "Plutonium",
          "x": 7.0,
          "xref": "x",
          "y": 9.7,
          "yref": "y"
         },
         {
          "align": "center",
          "font": {
           "color": "#333333",
           "family": "Roboto",
           "size": 7
          },
          "opacity": 0.9,
          "showarrow": false,
          "text": "Americium",
          "x": 8.0,
          "xref": "x",
          "y": 9.7,
          "yref": "y"
         },
         {
          "align": "center",
          "font": {
           "color": "#333333",
           "family": "Roboto",
           "size": 7
          },
          "opacity": 0.9,
          "showarrow": false,
          "text": "Curium",
          "x": 9.0,
          "xref": "x",
          "y": 9.7,
          "yref": "y"
         },
         {
          "align": "center",
          "font": {
           "color": "#333333",
           "family": "Roboto",
           "size": 7
          },
          "opacity": 0.9,
          "showarrow": false,
          "text": "Berkelium",
          "x": 10.0,
          "xref": "x",
          "y": 9.7,
          "yref": "y"
         },
         {
          "align": "center",
          "font": {
           "color": "#333333",
           "family": "Roboto",
           "size": 7
          },
          "opacity": 0.9,
          "showarrow": false,
          "text": "Californium",
          "x": 11.0,
          "xref": "x",
          "y": 9.7,
          "yref": "y"
         },
         {
          "align": "center",
          "font": {
           "color": "#333333",
           "family": "Roboto",
           "size": 7
          },
          "opacity": 0.9,
          "showarrow": false,
          "text": "Einsteinium",
          "x": 12.0,
          "xref": "x",
          "y": 9.7,
          "yref": "y"
         },
         {
          "align": "center",
          "font": {
           "color": "#333333",
           "family": "Roboto",
           "size": 7
          },
          "opacity": 0.9,
          "showarrow": false,
          "text": "Fermium",
          "x": 13.0,
          "xref": "x",
          "y": 9.7,
          "yref": "y"
         },
         {
          "align": "center",
          "font": {
           "color": "#333333",
           "family": "Roboto",
           "size": 7
          },
          "opacity": 0.9,
          "showarrow": false,
          "text": "Mendelevium",
          "x": 14.0,
          "xref": "x",
          "y": 9.7,
          "yref": "y"
         },
         {
          "align": "center",
          "font": {
           "color": "#333333",
           "family": "Roboto",
           "size": 7
          },
          "opacity": 0.9,
          "showarrow": false,
          "text": "Nobelium",
          "x": 15.0,
          "xref": "x",
          "y": 9.7,
          "yref": "y"
         },
         {
          "align": "center",
          "font": {
           "color": "#333333",
           "family": "Roboto",
           "size": 7
          },
          "opacity": 0.9,
          "showarrow": false,
          "text": "Lawrencium",
          "x": 16.0,
          "xref": "x",
          "y": 9.7,
          "yref": "y"
         },
         {
          "align": "center",
          "font": {
           "color": "#333333",
           "family": "Roboto",
           "size": 7
          },
          "opacity": 0.9,
          "showarrow": false,
          "text": "Rutherfordium",
          "x": 4.0,
          "xref": "x",
          "y": 7.2,
          "yref": "y"
         },
         {
          "align": "center",
          "font": {
           "color": "#333333",
           "family": "Roboto",
           "size": 7
          },
          "opacity": 0.9,
          "showarrow": false,
          "text": "Dubnium",
          "x": 5.0,
          "xref": "x",
          "y": 7.2,
          "yref": "y"
         },
         {
          "align": "center",
          "font": {
           "color": "#333333",
           "family": "Roboto",
           "size": 7
          },
          "opacity": 0.9,
          "showarrow": false,
          "text": "Seaborgium",
          "x": 6.0,
          "xref": "x",
          "y": 7.2,
          "yref": "y"
         },
         {
          "align": "center",
          "font": {
           "color": "#333333",
           "family": "Roboto",
           "size": 7
          },
          "opacity": 0.9,
          "showarrow": false,
          "text": "Bohrium",
          "x": 7.0,
          "xref": "x",
          "y": 7.2,
          "yref": "y"
         },
         {
          "align": "center",
          "font": {
           "color": "#333333",
           "family": "Roboto",
           "size": 7
          },
          "opacity": 0.9,
          "showarrow": false,
          "text": "Hassium",
          "x": 8.0,
          "xref": "x",
          "y": 7.2,
          "yref": "y"
         },
         {
          "align": "center",
          "font": {
           "color": "#333333",
           "family": "Roboto",
           "size": 7
          },
          "opacity": 0.9,
          "showarrow": false,
          "text": "Meitnerium",
          "x": 9.0,
          "xref": "x",
          "y": 7.2,
          "yref": "y"
         },
         {
          "align": "center",
          "font": {
           "color": "#333333",
           "family": "Roboto",
           "size": 7
          },
          "opacity": 0.9,
          "showarrow": false,
          "text": "Darmstadtium",
          "x": 10.0,
          "xref": "x",
          "y": 7.2,
          "yref": "y"
         },
         {
          "align": "center",
          "font": {
           "color": "#333333",
           "family": "Roboto",
           "size": 7
          },
          "opacity": 0.9,
          "showarrow": false,
          "text": "Roentgenium",
          "x": 11.0,
          "xref": "x",
          "y": 7.2,
          "yref": "y"
         },
         {
          "align": "center",
          "font": {
           "color": "#333333",
           "family": "Roboto",
           "size": 7
          },
          "opacity": 0.9,
          "showarrow": false,
          "text": "Copernicium",
          "x": 12.0,
          "xref": "x",
          "y": 7.2,
          "yref": "y"
         },
         {
          "align": "center",
          "font": {
           "color": "#333333",
           "family": "Roboto",
           "size": 7
          },
          "opacity": 0.9,
          "showarrow": false,
          "text": "Nihonium",
          "x": 13.0,
          "xref": "x",
          "y": 7.2,
          "yref": "y"
         },
         {
          "align": "center",
          "font": {
           "color": "#333333",
           "family": "Roboto",
           "size": 7
          },
          "opacity": 0.9,
          "showarrow": false,
          "text": "Flerovium",
          "x": 14.0,
          "xref": "x",
          "y": 7.2,
          "yref": "y"
         },
         {
          "align": "center",
          "font": {
           "color": "#333333",
           "family": "Roboto",
           "size": 7
          },
          "opacity": 0.9,
          "showarrow": false,
          "text": "Moscovium",
          "x": 15.0,
          "xref": "x",
          "y": 7.2,
          "yref": "y"
         },
         {
          "align": "center",
          "font": {
           "color": "#333333",
           "family": "Roboto",
           "size": 7
          },
          "opacity": 0.9,
          "showarrow": false,
          "text": "Livermorium",
          "x": 16.0,
          "xref": "x",
          "y": 7.2,
          "yref": "y"
         },
         {
          "align": "center",
          "font": {
           "color": "#333333",
           "family": "Roboto",
           "size": 7
          },
          "opacity": 0.9,
          "showarrow": false,
          "text": "Tennessine",
          "x": 17.0,
          "xref": "x",
          "y": 7.2,
          "yref": "y"
         },
         {
          "align": "center",
          "font": {
           "color": "#333333",
           "family": "Roboto",
           "size": 7
          },
          "opacity": 0.9,
          "showarrow": false,
          "text": "Oganesson",
          "x": 18.0,
          "xref": "x",
          "y": 7.2,
          "yref": "y"
         },
         {
          "align": "center",
          "font": {
           "color": "#333333",
           "family": "Roboto",
           "size": 7
          },
          "opacity": 0.9,
          "showarrow": false,
          "text": "1.008",
          "x": 1.0,
          "xref": "x",
          "y": 1.35,
          "yref": "y"
         },
         {
          "align": "center",
          "font": {
           "color": "#333333",
           "family": "Roboto",
           "size": 7
          },
          "opacity": 0.9,
          "showarrow": false,
          "text": "4.003",
          "x": 18.0,
          "xref": "x",
          "y": 1.35,
          "yref": "y"
         },
         {
          "align": "center",
          "font": {
           "color": "#333333",
           "family": "Roboto",
           "size": 7
          },
          "opacity": 0.9,
          "showarrow": false,
          "text": "6.94",
          "x": 1.0,
          "xref": "x",
          "y": 2.35,
          "yref": "y"
         },
         {
          "align": "center",
          "font": {
           "color": "#333333",
           "family": "Roboto",
           "size": 7
          },
          "opacity": 0.9,
          "showarrow": false,
          "text": "9.012",
          "x": 2.0,
          "xref": "x",
          "y": 2.35,
          "yref": "y"
         },
         {
          "align": "center",
          "font": {
           "color": "#333333",
           "family": "Roboto",
           "size": 7
          },
          "opacity": 0.9,
          "showarrow": false,
          "text": "10.81",
          "x": 13.0,
          "xref": "x",
          "y": 2.35,
          "yref": "y"
         },
         {
          "align": "center",
          "font": {
           "color": "#333333",
           "family": "Roboto",
           "size": 7
          },
          "opacity": 0.9,
          "showarrow": false,
          "text": "12.011",
          "x": 14.0,
          "xref": "x",
          "y": 2.35,
          "yref": "y"
         },
         {
          "align": "center",
          "font": {
           "color": "#333333",
           "family": "Roboto",
           "size": 7
          },
          "opacity": 0.9,
          "showarrow": false,
          "text": "14.007",
          "x": 15.0,
          "xref": "x",
          "y": 2.35,
          "yref": "y"
         },
         {
          "align": "center",
          "font": {
           "color": "#333333",
           "family": "Roboto",
           "size": 7
          },
          "opacity": 0.9,
          "showarrow": false,
          "text": "15.999",
          "x": 16.0,
          "xref": "x",
          "y": 2.35,
          "yref": "y"
         },
         {
          "align": "center",
          "font": {
           "color": "#333333",
           "family": "Roboto",
           "size": 7
          },
          "opacity": 0.9,
          "showarrow": false,
          "text": "18.998",
          "x": 17.0,
          "xref": "x",
          "y": 2.35,
          "yref": "y"
         },
         {
          "align": "center",
          "font": {
           "color": "#333333",
           "family": "Roboto",
           "size": 7
          },
          "opacity": 0.9,
          "showarrow": false,
          "text": "20.18",
          "x": 18.0,
          "xref": "x",
          "y": 2.35,
          "yref": "y"
         },
         {
          "align": "center",
          "font": {
           "color": "#333333",
           "family": "Roboto",
           "size": 7
          },
          "opacity": 0.9,
          "showarrow": false,
          "text": "22.99",
          "x": 1.0,
          "xref": "x",
          "y": 3.35,
          "yref": "y"
         },
         {
          "align": "center",
          "font": {
           "color": "#333333",
           "family": "Roboto",
           "size": 7
          },
          "opacity": 0.9,
          "showarrow": false,
          "text": "24.305",
          "x": 2.0,
          "xref": "x",
          "y": 3.35,
          "yref": "y"
         },
         {
          "align": "center",
          "font": {
           "color": "#333333",
           "family": "Roboto",
           "size": 7
          },
          "opacity": 0.9,
          "showarrow": false,
          "text": "26.982",
          "x": 13.0,
          "xref": "x",
          "y": 3.35,
          "yref": "y"
         },
         {
          "align": "center",
          "font": {
           "color": "#333333",
           "family": "Roboto",
           "size": 7
          },
          "opacity": 0.9,
          "showarrow": false,
          "text": "28.085",
          "x": 14.0,
          "xref": "x",
          "y": 3.35,
          "yref": "y"
         },
         {
          "align": "center",
          "font": {
           "color": "#333333",
           "family": "Roboto",
           "size": 7
          },
          "opacity": 0.9,
          "showarrow": false,
          "text": "30.974",
          "x": 15.0,
          "xref": "x",
          "y": 3.35,
          "yref": "y"
         },
         {
          "align": "center",
          "font": {
           "color": "#333333",
           "family": "Roboto",
           "size": 7
          },
          "opacity": 0.9,
          "showarrow": false,
          "text": "32.06",
          "x": 16.0,
          "xref": "x",
          "y": 3.35,
          "yref": "y"
         },
         {
          "align": "center",
          "font": {
           "color": "#333333",
           "family": "Roboto",
           "size": 7
          },
          "opacity": 0.9,
          "showarrow": false,
          "text": "35.45",
          "x": 17.0,
          "xref": "x",
          "y": 3.35,
          "yref": "y"
         },
         {
          "align": "center",
          "font": {
           "color": "#333333",
           "family": "Roboto",
           "size": 7
          },
          "opacity": 0.9,
          "showarrow": false,
          "text": "39.948",
          "x": 18.0,
          "xref": "x",
          "y": 3.35,
          "yref": "y"
         },
         {
          "align": "center",
          "font": {
           "color": "#333333",
           "family": "Roboto",
           "size": 7
          },
          "opacity": 0.9,
          "showarrow": false,
          "text": "39.098",
          "x": 1.0,
          "xref": "x",
          "y": 4.35,
          "yref": "y"
         },
         {
          "align": "center",
          "font": {
           "color": "#333333",
           "family": "Roboto",
           "size": 7
          },
          "opacity": 0.9,
          "showarrow": false,
          "text": "40.078",
          "x": 2.0,
          "xref": "x",
          "y": 4.35,
          "yref": "y"
         },
         {
          "align": "center",
          "font": {
           "color": "#333333",
           "family": "Roboto",
           "size": 7
          },
          "opacity": 0.9,
          "showarrow": false,
          "text": "44.956",
          "x": 3.0,
          "xref": "x",
          "y": 4.35,
          "yref": "y"
         },
         {
          "align": "center",
          "font": {
           "color": "#333333",
           "family": "Roboto",
           "size": 7
          },
          "opacity": 0.9,
          "showarrow": false,
          "text": "47.867",
          "x": 4.0,
          "xref": "x",
          "y": 4.35,
          "yref": "y"
         },
         {
          "align": "center",
          "font": {
           "color": "#333333",
           "family": "Roboto",
           "size": 7
          },
          "opacity": 0.9,
          "showarrow": false,
          "text": "50.942",
          "x": 5.0,
          "xref": "x",
          "y": 4.35,
          "yref": "y"
         },
         {
          "align": "center",
          "font": {
           "color": "#333333",
           "family": "Roboto",
           "size": 7
          },
          "opacity": 0.9,
          "showarrow": false,
          "text": "51.996",
          "x": 6.0,
          "xref": "x",
          "y": 4.35,
          "yref": "y"
         },
         {
          "align": "center",
          "font": {
           "color": "#333333",
           "family": "Roboto",
           "size": 7
          },
          "opacity": 0.9,
          "showarrow": false,
          "text": "54.938",
          "x": 7.0,
          "xref": "x",
          "y": 4.35,
          "yref": "y"
         },
         {
          "align": "center",
          "font": {
           "color": "#333333",
           "family": "Roboto",
           "size": 7
          },
          "opacity": 0.9,
          "showarrow": false,
          "text": "55.845",
          "x": 8.0,
          "xref": "x",
          "y": 4.35,
          "yref": "y"
         },
         {
          "align": "center",
          "font": {
           "color": "#333333",
           "family": "Roboto",
           "size": 7
          },
          "opacity": 0.9,
          "showarrow": false,
          "text": "58.933",
          "x": 9.0,
          "xref": "x",
          "y": 4.35,
          "yref": "y"
         },
         {
          "align": "center",
          "font": {
           "color": "#333333",
           "family": "Roboto",
           "size": 7
          },
          "opacity": 0.9,
          "showarrow": false,
          "text": "58.693",
          "x": 10.0,
          "xref": "x",
          "y": 4.35,
          "yref": "y"
         },
         {
          "align": "center",
          "font": {
           "color": "#333333",
           "family": "Roboto",
           "size": 7
          },
          "opacity": 0.9,
          "showarrow": false,
          "text": "63.546",
          "x": 11.0,
          "xref": "x",
          "y": 4.35,
          "yref": "y"
         },
         {
          "align": "center",
          "font": {
           "color": "#333333",
           "family": "Roboto",
           "size": 7
          },
          "opacity": 0.9,
          "showarrow": false,
          "text": "65.38",
          "x": 12.0,
          "xref": "x",
          "y": 4.35,
          "yref": "y"
         },
         {
          "align": "center",
          "font": {
           "color": "#333333",
           "family": "Roboto",
           "size": 7
          },
          "opacity": 0.9,
          "showarrow": false,
          "text": "69.723",
          "x": 13.0,
          "xref": "x",
          "y": 4.35,
          "yref": "y"
         },
         {
          "align": "center",
          "font": {
           "color": "#333333",
           "family": "Roboto",
           "size": 7
          },
          "opacity": 0.9,
          "showarrow": false,
          "text": "72.63",
          "x": 14.0,
          "xref": "x",
          "y": 4.35,
          "yref": "y"
         },
         {
          "align": "center",
          "font": {
           "color": "#333333",
           "family": "Roboto",
           "size": 7
          },
          "opacity": 0.9,
          "showarrow": false,
          "text": "74.922",
          "x": 15.0,
          "xref": "x",
          "y": 4.35,
          "yref": "y"
         },
         {
          "align": "center",
          "font": {
           "color": "#333333",
           "family": "Roboto",
           "size": 7
          },
          "opacity": 0.9,
          "showarrow": false,
          "text": "78.971",
          "x": 16.0,
          "xref": "x",
          "y": 4.35,
          "yref": "y"
         },
         {
          "align": "center",
          "font": {
           "color": "#333333",
           "family": "Roboto",
           "size": 7
          },
          "opacity": 0.9,
          "showarrow": false,
          "text": "79.904",
          "x": 17.0,
          "xref": "x",
          "y": 4.35,
          "yref": "y"
         },
         {
          "align": "center",
          "font": {
           "color": "#333333",
           "family": "Roboto",
           "size": 7
          },
          "opacity": 0.9,
          "showarrow": false,
          "text": "83.798",
          "x": 18.0,
          "xref": "x",
          "y": 4.35,
          "yref": "y"
         },
         {
          "align": "center",
          "font": {
           "color": "#333333",
           "family": "Roboto",
           "size": 7
          },
          "opacity": 0.9,
          "showarrow": false,
          "text": "85.468",
          "x": 1.0,
          "xref": "x",
          "y": 5.35,
          "yref": "y"
         },
         {
          "align": "center",
          "font": {
           "color": "#333333",
           "family": "Roboto",
           "size": 7
          },
          "opacity": 0.9,
          "showarrow": false,
          "text": "87.62",
          "x": 2.0,
          "xref": "x",
          "y": 5.35,
          "yref": "y"
         },
         {
          "align": "center",
          "font": {
           "color": "#333333",
           "family": "Roboto",
           "size": 7
          },
          "opacity": 0.9,
          "showarrow": false,
          "text": "88.906",
          "x": 3.0,
          "xref": "x",
          "y": 5.35,
          "yref": "y"
         },
         {
          "align": "center",
          "font": {
           "color": "#333333",
           "family": "Roboto",
           "size": 7
          },
          "opacity": 0.9,
          "showarrow": false,
          "text": "91.224",
          "x": 4.0,
          "xref": "x",
          "y": 5.35,
          "yref": "y"
         },
         {
          "align": "center",
          "font": {
           "color": "#333333",
           "family": "Roboto",
           "size": 7
          },
          "opacity": 0.9,
          "showarrow": false,
          "text": "92.906",
          "x": 5.0,
          "xref": "x",
          "y": 5.35,
          "yref": "y"
         },
         {
          "align": "center",
          "font": {
           "color": "#333333",
           "family": "Roboto",
           "size": 7
          },
          "opacity": 0.9,
          "showarrow": false,
          "text": "95.95",
          "x": 6.0,
          "xref": "x",
          "y": 5.35,
          "yref": "y"
         },
         {
          "align": "center",
          "font": {
           "color": "#333333",
           "family": "Roboto",
           "size": 7
          },
          "opacity": 0.9,
          "showarrow": false,
          "text": "97.907",
          "x": 7.0,
          "xref": "x",
          "y": 5.35,
          "yref": "y"
         },
         {
          "align": "center",
          "font": {
           "color": "#333333",
           "family": "Roboto",
           "size": 7
          },
          "opacity": 0.9,
          "showarrow": false,
          "text": "101.07",
          "x": 8.0,
          "xref": "x",
          "y": 5.35,
          "yref": "y"
         },
         {
          "align": "center",
          "font": {
           "color": "#333333",
           "family": "Roboto",
           "size": 7
          },
          "opacity": 0.9,
          "showarrow": false,
          "text": "102.906",
          "x": 9.0,
          "xref": "x",
          "y": 5.35,
          "yref": "y"
         },
         {
          "align": "center",
          "font": {
           "color": "#333333",
           "family": "Roboto",
           "size": 7
          },
          "opacity": 0.9,
          "showarrow": false,
          "text": "106.42",
          "x": 10.0,
          "xref": "x",
          "y": 5.35,
          "yref": "y"
         },
         {
          "align": "center",
          "font": {
           "color": "#333333",
           "family": "Roboto",
           "size": 7
          },
          "opacity": 0.9,
          "showarrow": false,
          "text": "107.868",
          "x": 11.0,
          "xref": "x",
          "y": 5.35,
          "yref": "y"
         },
         {
          "align": "center",
          "font": {
           "color": "#333333",
           "family": "Roboto",
           "size": 7
          },
          "opacity": 0.9,
          "showarrow": false,
          "text": "112.414",
          "x": 12.0,
          "xref": "x",
          "y": 5.35,
          "yref": "y"
         },
         {
          "align": "center",
          "font": {
           "color": "#333333",
           "family": "Roboto",
           "size": 7
          },
          "opacity": 0.9,
          "showarrow": false,
          "text": "114.818",
          "x": 13.0,
          "xref": "x",
          "y": 5.35,
          "yref": "y"
         },
         {
          "align": "center",
          "font": {
           "color": "#333333",
           "family": "Roboto",
           "size": 7
          },
          "opacity": 0.9,
          "showarrow": false,
          "text": "118.71",
          "x": 14.0,
          "xref": "x",
          "y": 5.35,
          "yref": "y"
         },
         {
          "align": "center",
          "font": {
           "color": "#333333",
           "family": "Roboto",
           "size": 7
          },
          "opacity": 0.9,
          "showarrow": false,
          "text": "121.76",
          "x": 15.0,
          "xref": "x",
          "y": 5.35,
          "yref": "y"
         },
         {
          "align": "center",
          "font": {
           "color": "#333333",
           "family": "Roboto",
           "size": 7
          },
          "opacity": 0.9,
          "showarrow": false,
          "text": "127.6",
          "x": 16.0,
          "xref": "x",
          "y": 5.35,
          "yref": "y"
         },
         {
          "align": "center",
          "font": {
           "color": "#333333",
           "family": "Roboto",
           "size": 7
          },
          "opacity": 0.9,
          "showarrow": false,
          "text": "126.904",
          "x": 17.0,
          "xref": "x",
          "y": 5.35,
          "yref": "y"
         },
         {
          "align": "center",
          "font": {
           "color": "#333333",
           "family": "Roboto",
           "size": 7
          },
          "opacity": 0.9,
          "showarrow": false,
          "text": "131.293",
          "x": 18.0,
          "xref": "x",
          "y": 5.35,
          "yref": "y"
         },
         {
          "align": "center",
          "font": {
           "color": "#333333",
           "family": "Roboto",
           "size": 7
          },
          "opacity": 0.9,
          "showarrow": false,
          "text": "132.905",
          "x": 1.0,
          "xref": "x",
          "y": 6.35,
          "yref": "y"
         },
         {
          "align": "center",
          "font": {
           "color": "#333333",
           "family": "Roboto",
           "size": 7
          },
          "opacity": 0.9,
          "showarrow": false,
          "text": "137.327",
          "x": 2.0,
          "xref": "x",
          "y": 6.35,
          "yref": "y"
         },
         {
          "align": "center",
          "font": {
           "color": "#333333",
           "family": "Roboto",
           "size": 7
          },
          "opacity": 0.9,
          "showarrow": false,
          "text": "138.905",
          "x": 3.0,
          "xref": "x",
          "y": 6.35,
          "yref": "y"
         },
         {
          "align": "center",
          "font": {
           "color": "#333333",
           "family": "Roboto",
           "size": 7
          },
          "opacity": 0.9,
          "showarrow": false,
          "text": "140.116",
          "x": 3.0,
          "xref": "x",
          "y": 8.85,
          "yref": "y"
         },
         {
          "align": "center",
          "font": {
           "color": "#333333",
           "family": "Roboto",
           "size": 7
          },
          "opacity": 0.9,
          "showarrow": false,
          "text": "140.908",
          "x": 4.0,
          "xref": "x",
          "y": 8.85,
          "yref": "y"
         },
         {
          "align": "center",
          "font": {
           "color": "#333333",
           "family": "Roboto",
           "size": 7
          },
          "opacity": 0.9,
          "showarrow": false,
          "text": "144.242",
          "x": 5.0,
          "xref": "x",
          "y": 8.85,
          "yref": "y"
         },
         {
          "align": "center",
          "font": {
           "color": "#333333",
           "family": "Roboto",
           "size": 7
          },
          "opacity": 0.9,
          "showarrow": false,
          "text": "144.913",
          "x": 6.0,
          "xref": "x",
          "y": 8.85,
          "yref": "y"
         },
         {
          "align": "center",
          "font": {
           "color": "#333333",
           "family": "Roboto",
           "size": 7
          },
          "opacity": 0.9,
          "showarrow": false,
          "text": "150.36",
          "x": 7.0,
          "xref": "x",
          "y": 8.85,
          "yref": "y"
         },
         {
          "align": "center",
          "font": {
           "color": "#333333",
           "family": "Roboto",
           "size": 7
          },
          "opacity": 0.9,
          "showarrow": false,
          "text": "151.964",
          "x": 8.0,
          "xref": "x",
          "y": 8.85,
          "yref": "y"
         },
         {
          "align": "center",
          "font": {
           "color": "#333333",
           "family": "Roboto",
           "size": 7
          },
          "opacity": 0.9,
          "showarrow": false,
          "text": "157.25",
          "x": 9.0,
          "xref": "x",
          "y": 8.85,
          "yref": "y"
         },
         {
          "align": "center",
          "font": {
           "color": "#333333",
           "family": "Roboto",
           "size": 7
          },
          "opacity": 0.9,
          "showarrow": false,
          "text": "158.925",
          "x": 10.0,
          "xref": "x",
          "y": 8.85,
          "yref": "y"
         },
         {
          "align": "center",
          "font": {
           "color": "#333333",
           "family": "Roboto",
           "size": 7
          },
          "opacity": 0.9,
          "showarrow": false,
          "text": "162.5",
          "x": 11.0,
          "xref": "x",
          "y": 8.85,
          "yref": "y"
         },
         {
          "align": "center",
          "font": {
           "color": "#333333",
           "family": "Roboto",
           "size": 7
          },
          "opacity": 0.9,
          "showarrow": false,
          "text": "164.93",
          "x": 12.0,
          "xref": "x",
          "y": 8.85,
          "yref": "y"
         },
         {
          "align": "center",
          "font": {
           "color": "#333333",
           "family": "Roboto",
           "size": 7
          },
          "opacity": 0.9,
          "showarrow": false,
          "text": "167.259",
          "x": 13.0,
          "xref": "x",
          "y": 8.85,
          "yref": "y"
         },
         {
          "align": "center",
          "font": {
           "color": "#333333",
           "family": "Roboto",
           "size": 7
          },
          "opacity": 0.9,
          "showarrow": false,
          "text": "168.934",
          "x": 14.0,
          "xref": "x",
          "y": 8.85,
          "yref": "y"
         },
         {
          "align": "center",
          "font": {
           "color": "#333333",
           "family": "Roboto",
           "size": 7
          },
          "opacity": 0.9,
          "showarrow": false,
          "text": "173.045",
          "x": 15.0,
          "xref": "x",
          "y": 8.85,
          "yref": "y"
         },
         {
          "align": "center",
          "font": {
           "color": "#333333",
           "family": "Roboto",
           "size": 7
          },
          "opacity": 0.9,
          "showarrow": false,
          "text": "174.967",
          "x": 16.0,
          "xref": "x",
          "y": 8.85,
          "yref": "y"
         },
         {
          "align": "center",
          "font": {
           "color": "#333333",
           "family": "Roboto",
           "size": 7
          },
          "opacity": 0.9,
          "showarrow": false,
          "text": "178.49",
          "x": 4.0,
          "xref": "x",
          "y": 6.35,
          "yref": "y"
         },
         {
          "align": "center",
          "font": {
           "color": "#333333",
           "family": "Roboto",
           "size": 7
          },
          "opacity": 0.9,
          "showarrow": false,
          "text": "180.948",
          "x": 5.0,
          "xref": "x",
          "y": 6.35,
          "yref": "y"
         },
         {
          "align": "center",
          "font": {
           "color": "#333333",
           "family": "Roboto",
           "size": 7
          },
          "opacity": 0.9,
          "showarrow": false,
          "text": "183.84",
          "x": 6.0,
          "xref": "x",
          "y": 6.35,
          "yref": "y"
         },
         {
          "align": "center",
          "font": {
           "color": "#333333",
           "family": "Roboto",
           "size": 7
          },
          "opacity": 0.9,
          "showarrow": false,
          "text": "186.207",
          "x": 7.0,
          "xref": "x",
          "y": 6.35,
          "yref": "y"
         },
         {
          "align": "center",
          "font": {
           "color": "#333333",
           "family": "Roboto",
           "size": 7
          },
          "opacity": 0.9,
          "showarrow": false,
          "text": "190.23",
          "x": 8.0,
          "xref": "x",
          "y": 6.35,
          "yref": "y"
         },
         {
          "align": "center",
          "font": {
           "color": "#333333",
           "family": "Roboto",
           "size": 7
          },
          "opacity": 0.9,
          "showarrow": false,
          "text": "192.217",
          "x": 9.0,
          "xref": "x",
          "y": 6.35,
          "yref": "y"
         },
         {
          "align": "center",
          "font": {
           "color": "#333333",
           "family": "Roboto",
           "size": 7
          },
          "opacity": 0.9,
          "showarrow": false,
          "text": "195.084",
          "x": 10.0,
          "xref": "x",
          "y": 6.35,
          "yref": "y"
         },
         {
          "align": "center",
          "font": {
           "color": "#333333",
           "family": "Roboto",
           "size": 7
          },
          "opacity": 0.9,
          "showarrow": false,
          "text": "196.967",
          "x": 11.0,
          "xref": "x",
          "y": 6.35,
          "yref": "y"
         },
         {
          "align": "center",
          "font": {
           "color": "#333333",
           "family": "Roboto",
           "size": 7
          },
          "opacity": 0.9,
          "showarrow": false,
          "text": "200.592",
          "x": 12.0,
          "xref": "x",
          "y": 6.35,
          "yref": "y"
         },
         {
          "align": "center",
          "font": {
           "color": "#333333",
           "family": "Roboto",
           "size": 7
          },
          "opacity": 0.9,
          "showarrow": false,
          "text": "204.38",
          "x": 13.0,
          "xref": "x",
          "y": 6.35,
          "yref": "y"
         },
         {
          "align": "center",
          "font": {
           "color": "#333333",
           "family": "Roboto",
           "size": 7
          },
          "opacity": 0.9,
          "showarrow": false,
          "text": "207.2",
          "x": 14.0,
          "xref": "x",
          "y": 6.35,
          "yref": "y"
         },
         {
          "align": "center",
          "font": {
           "color": "#333333",
           "family": "Roboto",
           "size": 7
          },
          "opacity": 0.9,
          "showarrow": false,
          "text": "208.98",
          "x": 15.0,
          "xref": "x",
          "y": 6.35,
          "yref": "y"
         },
         {
          "align": "center",
          "font": {
           "color": "#333333",
           "family": "Roboto",
           "size": 7
          },
          "opacity": 0.9,
          "showarrow": false,
          "text": "209.0",
          "x": 16.0,
          "xref": "x",
          "y": 6.35,
          "yref": "y"
         },
         {
          "align": "center",
          "font": {
           "color": "#333333",
           "family": "Roboto",
           "size": 7
          },
          "opacity": 0.9,
          "showarrow": false,
          "text": "210.0",
          "x": 17.0,
          "xref": "x",
          "y": 6.35,
          "yref": "y"
         },
         {
          "align": "center",
          "font": {
           "color": "#333333",
           "family": "Roboto",
           "size": 7
          },
          "opacity": 0.9,
          "showarrow": false,
          "text": "222.0",
          "x": 18.0,
          "xref": "x",
          "y": 6.35,
          "yref": "y"
         },
         {
          "align": "center",
          "font": {
           "color": "#333333",
           "family": "Roboto",
           "size": 7
          },
          "opacity": 0.9,
          "showarrow": false,
          "text": "223.0",
          "x": 1.0,
          "xref": "x",
          "y": 7.35,
          "yref": "y"
         },
         {
          "align": "center",
          "font": {
           "color": "#333333",
           "family": "Roboto",
           "size": 7
          },
          "opacity": 0.9,
          "showarrow": false,
          "text": "226.0",
          "x": 2.0,
          "xref": "x",
          "y": 7.35,
          "yref": "y"
         },
         {
          "align": "center",
          "font": {
           "color": "#333333",
           "family": "Roboto",
           "size": 7
          },
          "opacity": 0.9,
          "showarrow": false,
          "text": "227.0",
          "x": 3.0,
          "xref": "x",
          "y": 7.35,
          "yref": "y"
         },
         {
          "align": "center",
          "font": {
           "color": "#333333",
           "family": "Roboto",
           "size": 7
          },
          "opacity": 0.9,
          "showarrow": false,
          "text": "232.038",
          "x": 3.0,
          "xref": "x",
          "y": 9.85,
          "yref": "y"
         },
         {
          "align": "center",
          "font": {
           "color": "#333333",
           "family": "Roboto",
           "size": 7
          },
          "opacity": 0.9,
          "showarrow": false,
          "text": "231.036",
          "x": 4.0,
          "xref": "x",
          "y": 9.85,
          "yref": "y"
         },
         {
          "align": "center",
          "font": {
           "color": "#333333",
           "family": "Roboto",
           "size": 7
          },
          "opacity": 0.9,
          "showarrow": false,
          "text": "238.029",
          "x": 5.0,
          "xref": "x",
          "y": 9.85,
          "yref": "y"
         },
         {
          "align": "center",
          "font": {
           "color": "#333333",
           "family": "Roboto",
           "size": 7
          },
          "opacity": 0.9,
          "showarrow": false,
          "text": "237.0",
          "x": 6.0,
          "xref": "x",
          "y": 9.85,
          "yref": "y"
         },
         {
          "align": "center",
          "font": {
           "color": "#333333",
           "family": "Roboto",
           "size": 7
          },
          "opacity": 0.9,
          "showarrow": false,
          "text": "244.0",
          "x": 7.0,
          "xref": "x",
          "y": 9.85,
          "yref": "y"
         },
         {
          "align": "center",
          "font": {
           "color": "#333333",
           "family": "Roboto",
           "size": 7
          },
          "opacity": 0.9,
          "showarrow": false,
          "text": "243.0",
          "x": 8.0,
          "xref": "x",
          "y": 9.85,
          "yref": "y"
         },
         {
          "align": "center",
          "font": {
           "color": "#333333",
           "family": "Roboto",
           "size": 7
          },
          "opacity": 0.9,
          "showarrow": false,
          "text": "247.0",
          "x": 9.0,
          "xref": "x",
          "y": 9.85,
          "yref": "y"
         },
         {
          "align": "center",
          "font": {
           "color": "#333333",
           "family": "Roboto",
           "size": 7
          },
          "opacity": 0.9,
          "showarrow": false,
          "text": "247.0",
          "x": 10.0,
          "xref": "x",
          "y": 9.85,
          "yref": "y"
         },
         {
          "align": "center",
          "font": {
           "color": "#333333",
           "family": "Roboto",
           "size": 7
          },
          "opacity": 0.9,
          "showarrow": false,
          "text": "251.0",
          "x": 11.0,
          "xref": "x",
          "y": 9.85,
          "yref": "y"
         },
         {
          "align": "center",
          "font": {
           "color": "#333333",
           "family": "Roboto",
           "size": 7
          },
          "opacity": 0.9,
          "showarrow": false,
          "text": "252.0",
          "x": 12.0,
          "xref": "x",
          "y": 9.85,
          "yref": "y"
         },
         {
          "align": "center",
          "font": {
           "color": "#333333",
           "family": "Roboto",
           "size": 7
          },
          "opacity": 0.9,
          "showarrow": false,
          "text": "257.0",
          "x": 13.0,
          "xref": "x",
          "y": 9.85,
          "yref": "y"
         },
         {
          "align": "center",
          "font": {
           "color": "#333333",
           "family": "Roboto",
           "size": 7
          },
          "opacity": 0.9,
          "showarrow": false,
          "text": "258.0",
          "x": 14.0,
          "xref": "x",
          "y": 9.85,
          "yref": "y"
         },
         {
          "align": "center",
          "font": {
           "color": "#333333",
           "family": "Roboto",
           "size": 7
          },
          "opacity": 0.9,
          "showarrow": false,
          "text": "259.0",
          "x": 15.0,
          "xref": "x",
          "y": 9.85,
          "yref": "y"
         },
         {
          "align": "center",
          "font": {
           "color": "#333333",
           "family": "Roboto",
           "size": 7
          },
          "opacity": 0.9,
          "showarrow": false,
          "text": "262.0",
          "x": 16.0,
          "xref": "x",
          "y": 9.85,
          "yref": "y"
         },
         {
          "align": "center",
          "font": {
           "color": "#333333",
           "family": "Roboto",
           "size": 7
          },
          "opacity": 0.9,
          "showarrow": false,
          "text": "267.0",
          "x": 4.0,
          "xref": "x",
          "y": 7.35,
          "yref": "y"
         },
         {
          "align": "center",
          "font": {
           "color": "#333333",
           "family": "Roboto",
           "size": 7
          },
          "opacity": 0.9,
          "showarrow": false,
          "text": "268.0",
          "x": 5.0,
          "xref": "x",
          "y": 7.35,
          "yref": "y"
         },
         {
          "align": "center",
          "font": {
           "color": "#333333",
           "family": "Roboto",
           "size": 7
          },
          "opacity": 0.9,
          "showarrow": false,
          "text": "271.0",
          "x": 6.0,
          "xref": "x",
          "y": 7.35,
          "yref": "y"
         },
         {
          "align": "center",
          "font": {
           "color": "#333333",
           "family": "Roboto",
           "size": 7
          },
          "opacity": 0.9,
          "showarrow": false,
          "text": "274.0",
          "x": 7.0,
          "xref": "x",
          "y": 7.35,
          "yref": "y"
         },
         {
          "align": "center",
          "font": {
           "color": "#333333",
           "family": "Roboto",
           "size": 7
          },
          "opacity": 0.9,
          "showarrow": false,
          "text": "269.0",
          "x": 8.0,
          "xref": "x",
          "y": 7.35,
          "yref": "y"
         },
         {
          "align": "center",
          "font": {
           "color": "#333333",
           "family": "Roboto",
           "size": 7
          },
          "opacity": 0.9,
          "showarrow": false,
          "text": "276.0",
          "x": 9.0,
          "xref": "x",
          "y": 7.35,
          "yref": "y"
         },
         {
          "align": "center",
          "font": {
           "color": "#333333",
           "family": "Roboto",
           "size": 7
          },
          "opacity": 0.9,
          "showarrow": false,
          "text": "281.0",
          "x": 10.0,
          "xref": "x",
          "y": 7.35,
          "yref": "y"
         },
         {
          "align": "center",
          "font": {
           "color": "#333333",
           "family": "Roboto",
           "size": 7
          },
          "opacity": 0.9,
          "showarrow": false,
          "text": "281.0",
          "x": 11.0,
          "xref": "x",
          "y": 7.35,
          "yref": "y"
         },
         {
          "align": "center",
          "font": {
           "color": "#333333",
           "family": "Roboto",
           "size": 7
          },
          "opacity": 0.9,
          "showarrow": false,
          "text": "285.0",
          "x": 12.0,
          "xref": "x",
          "y": 7.35,
          "yref": "y"
         },
         {
          "align": "center",
          "font": {
           "color": "#333333",
           "family": "Roboto",
           "size": 7
          },
          "opacity": 0.9,
          "showarrow": false,
          "text": "286.0",
          "x": 13.0,
          "xref": "x",
          "y": 7.35,
          "yref": "y"
         },
         {
          "align": "center",
          "font": {
           "color": "#333333",
           "family": "Roboto",
           "size": 7
          },
          "opacity": 0.9,
          "showarrow": false,
          "text": "289.0",
          "x": 14.0,
          "xref": "x",
          "y": 7.35,
          "yref": "y"
         },
         {
          "align": "center",
          "font": {
           "color": "#333333",
           "family": "Roboto",
           "size": 7
          },
          "opacity": 0.9,
          "showarrow": false,
          "text": "288.0",
          "x": 15.0,
          "xref": "x",
          "y": 7.35,
          "yref": "y"
         },
         {
          "align": "center",
          "font": {
           "color": "#333333",
           "family": "Roboto",
           "size": 7
          },
          "opacity": 0.9,
          "showarrow": false,
          "text": "293.0",
          "x": 16.0,
          "xref": "x",
          "y": 7.35,
          "yref": "y"
         },
         {
          "align": "center",
          "font": {
           "color": "#333333",
           "family": "Roboto",
           "size": 7
          },
          "opacity": 0.9,
          "showarrow": false,
          "text": "294.0",
          "x": 17.0,
          "xref": "x",
          "y": 7.35,
          "yref": "y"
         },
         {
          "align": "center",
          "font": {
           "color": "#333333",
           "family": "Roboto",
           "size": 7
          },
          "opacity": 0.9,
          "showarrow": false,
          "text": "294.0",
          "x": 18.0,
          "xref": "x",
          "y": 7.35,
          "yref": "y"
         }
        ],
        "xaxis": {
         "range": [
          0.5,
          18.5
         ],
         "showgrid": false,
         "fixedrange": true,
         "side": "top",
         "tickvals": [
          1,
          2,
          3,
          4,
          5,
          6,
          7,
          8,
          9,
          10,
          11,
          12,
          13,
          14,
          15,
          16,
          17,
          18
         ]
        },
        "yaxis": {
         "range": [
          10.0,
          0.5
         ],
         "showgrid": false,
         "fixedrange": true,
         "tickvals": [
          1,
          2,
          3,
          4,
          5,
          6,
          7
         ],
         "title": {
          "text": "Period"
         }
        },
        "height": 800,
        "width": 1200,
        "title": {
         "text": "Periodic Table"
        }
       },
       "config": {
        "plotlyServerURL": "https://plot.ly"
       }
      },
      "text/html": "<div>                            <div id=\"2cd68d59-13fe-40ef-b148-c090500ae3c8\" class=\"plotly-graph-div\" style=\"height:800px; width:1200px;\"></div>            <script type=\"text/javascript\">                require([\"plotly\"], function(Plotly) {                    window.PLOTLYENV=window.PLOTLYENV || {};                                    if (document.getElementById(\"2cd68d59-13fe-40ef-b148-c090500ae3c8\")) {                    Plotly.newPlot(                        \"2cd68d59-13fe-40ef-b148-c090500ae3c8\",                        [],                        {\"template\":{\"data\":{\"barpolar\":[{\"marker\":{\"line\":{\"color\":\"white\",\"width\":0.5},\"pattern\":{\"fillmode\":\"overlay\",\"size\":10,\"solidity\":0.2}},\"type\":\"barpolar\"}],\"bar\":[{\"error_x\":{\"color\":\"#2a3f5f\"},\"error_y\":{\"color\":\"#2a3f5f\"},\"marker\":{\"line\":{\"color\":\"white\",\"width\":0.5},\"pattern\":{\"fillmode\":\"overlay\",\"size\":10,\"solidity\":0.2}},\"type\":\"bar\"}],\"carpet\":[{\"aaxis\":{\"endlinecolor\":\"#2a3f5f\",\"gridcolor\":\"#C8D4E3\",\"linecolor\":\"#C8D4E3\",\"minorgridcolor\":\"#C8D4E3\",\"startlinecolor\":\"#2a3f5f\"},\"baxis\":{\"endlinecolor\":\"#2a3f5f\",\"gridcolor\":\"#C8D4E3\",\"linecolor\":\"#C8D4E3\",\"minorgridcolor\":\"#C8D4E3\",\"startlinecolor\":\"#2a3f5f\"},\"type\":\"carpet\"}],\"choropleth\":[{\"colorbar\":{\"outlinewidth\":0,\"ticks\":\"\"},\"type\":\"choropleth\"}],\"contourcarpet\":[{\"colorbar\":{\"outlinewidth\":0,\"ticks\":\"\"},\"type\":\"contourcarpet\"}],\"contour\":[{\"colorbar\":{\"outlinewidth\":0,\"ticks\":\"\"},\"colorscale\":[[0.0,\"#0d0887\"],[0.1111111111111111,\"#46039f\"],[0.2222222222222222,\"#7201a8\"],[0.3333333333333333,\"#9c179e\"],[0.4444444444444444,\"#bd3786\"],[0.5555555555555556,\"#d8576b\"],[0.6666666666666666,\"#ed7953\"],[0.7777777777777778,\"#fb9f3a\"],[0.8888888888888888,\"#fdca26\"],[1.0,\"#f0f921\"]],\"type\":\"contour\"}],\"heatmapgl\":[{\"colorbar\":{\"outlinewidth\":0,\"ticks\":\"\"},\"colorscale\":[[0.0,\"#0d0887\"],[0.1111111111111111,\"#46039f\"],[0.2222222222222222,\"#7201a8\"],[0.3333333333333333,\"#9c179e\"],[0.4444444444444444,\"#bd3786\"],[0.5555555555555556,\"#d8576b\"],[0.6666666666666666,\"#ed7953\"],[0.7777777777777778,\"#fb9f3a\"],[0.8888888888888888,\"#fdca26\"],[1.0,\"#f0f921\"]],\"type\":\"heatmapgl\"}],\"heatmap\":[{\"colorbar\":{\"outlinewidth\":0,\"ticks\":\"\"},\"colorscale\":[[0.0,\"#0d0887\"],[0.1111111111111111,\"#46039f\"],[0.2222222222222222,\"#7201a8\"],[0.3333333333333333,\"#9c179e\"],[0.4444444444444444,\"#bd3786\"],[0.5555555555555556,\"#d8576b\"],[0.6666666666666666,\"#ed7953\"],[0.7777777777777778,\"#fb9f3a\"],[0.8888888888888888,\"#fdca26\"],[1.0,\"#f0f921\"]],\"type\":\"heatmap\"}],\"histogram2dcontour\":[{\"colorbar\":{\"outlinewidth\":0,\"ticks\":\"\"},\"colorscale\":[[0.0,\"#0d0887\"],[0.1111111111111111,\"#46039f\"],[0.2222222222222222,\"#7201a8\"],[0.3333333333333333,\"#9c179e\"],[0.4444444444444444,\"#bd3786\"],[0.5555555555555556,\"#d8576b\"],[0.6666666666666666,\"#ed7953\"],[0.7777777777777778,\"#fb9f3a\"],[0.8888888888888888,\"#fdca26\"],[1.0,\"#f0f921\"]],\"type\":\"histogram2dcontour\"}],\"histogram2d\":[{\"colorbar\":{\"outlinewidth\":0,\"ticks\":\"\"},\"colorscale\":[[0.0,\"#0d0887\"],[0.1111111111111111,\"#46039f\"],[0.2222222222222222,\"#7201a8\"],[0.3333333333333333,\"#9c179e\"],[0.4444444444444444,\"#bd3786\"],[0.5555555555555556,\"#d8576b\"],[0.6666666666666666,\"#ed7953\"],[0.7777777777777778,\"#fb9f3a\"],[0.8888888888888888,\"#fdca26\"],[1.0,\"#f0f921\"]],\"type\":\"histogram2d\"}],\"histogram\":[{\"marker\":{\"pattern\":{\"fillmode\":\"overlay\",\"size\":10,\"solidity\":0.2}},\"type\":\"histogram\"}],\"mesh3d\":[{\"colorbar\":{\"outlinewidth\":0,\"ticks\":\"\"},\"type\":\"mesh3d\"}],\"parcoords\":[{\"line\":{\"colorbar\":{\"outlinewidth\":0,\"ticks\":\"\"}},\"type\":\"parcoords\"}],\"pie\":[{\"automargin\":true,\"type\":\"pie\"}],\"scatter3d\":[{\"line\":{\"colorbar\":{\"outlinewidth\":0,\"ticks\":\"\"}},\"marker\":{\"colorbar\":{\"outlinewidth\":0,\"ticks\":\"\"}},\"type\":\"scatter3d\"}],\"scattercarpet\":[{\"marker\":{\"colorbar\":{\"outlinewidth\":0,\"ticks\":\"\"}},\"type\":\"scattercarpet\"}],\"scattergeo\":[{\"marker\":{\"colorbar\":{\"outlinewidth\":0,\"ticks\":\"\"}},\"type\":\"scattergeo\"}],\"scattergl\":[{\"marker\":{\"colorbar\":{\"outlinewidth\":0,\"ticks\":\"\"}},\"type\":\"scattergl\"}],\"scattermapbox\":[{\"marker\":{\"colorbar\":{\"outlinewidth\":0,\"ticks\":\"\"}},\"type\":\"scattermapbox\"}],\"scatterpolargl\":[{\"marker\":{\"colorbar\":{\"outlinewidth\":0,\"ticks\":\"\"}},\"type\":\"scatterpolargl\"}],\"scatterpolar\":[{\"marker\":{\"colorbar\":{\"outlinewidth\":0,\"ticks\":\"\"}},\"type\":\"scatterpolar\"}],\"scatter\":[{\"fillpattern\":{\"fillmode\":\"overlay\",\"size\":10,\"solidity\":0.2},\"type\":\"scatter\"}],\"scatterternary\":[{\"marker\":{\"colorbar\":{\"outlinewidth\":0,\"ticks\":\"\"}},\"type\":\"scatterternary\"}],\"surface\":[{\"colorbar\":{\"outlinewidth\":0,\"ticks\":\"\"},\"colorscale\":[[0.0,\"#0d0887\"],[0.1111111111111111,\"#46039f\"],[0.2222222222222222,\"#7201a8\"],[0.3333333333333333,\"#9c179e\"],[0.4444444444444444,\"#bd3786\"],[0.5555555555555556,\"#d8576b\"],[0.6666666666666666,\"#ed7953\"],[0.7777777777777778,\"#fb9f3a\"],[0.8888888888888888,\"#fdca26\"],[1.0,\"#f0f921\"]],\"type\":\"surface\"}],\"table\":[{\"cells\":{\"fill\":{\"color\":\"#EBF0F8\"},\"line\":{\"color\":\"white\"}},\"header\":{\"fill\":{\"color\":\"#C8D4E3\"},\"line\":{\"color\":\"white\"}},\"type\":\"table\"}]},\"layout\":{\"annotationdefaults\":{\"arrowcolor\":\"#2a3f5f\",\"arrowhead\":0,\"arrowwidth\":1},\"autotypenumbers\":\"strict\",\"coloraxis\":{\"colorbar\":{\"outlinewidth\":0,\"ticks\":\"\"}},\"colorscale\":{\"diverging\":[[0,\"#8e0152\"],[0.1,\"#c51b7d\"],[0.2,\"#de77ae\"],[0.3,\"#f1b6da\"],[0.4,\"#fde0ef\"],[0.5,\"#f7f7f7\"],[0.6,\"#e6f5d0\"],[0.7,\"#b8e186\"],[0.8,\"#7fbc41\"],[0.9,\"#4d9221\"],[1,\"#276419\"]],\"sequential\":[[0.0,\"#0d0887\"],[0.1111111111111111,\"#46039f\"],[0.2222222222222222,\"#7201a8\"],[0.3333333333333333,\"#9c179e\"],[0.4444444444444444,\"#bd3786\"],[0.5555555555555556,\"#d8576b\"],[0.6666666666666666,\"#ed7953\"],[0.7777777777777778,\"#fb9f3a\"],[0.8888888888888888,\"#fdca26\"],[1.0,\"#f0f921\"]],\"sequentialminus\":[[0.0,\"#0d0887\"],[0.1111111111111111,\"#46039f\"],[0.2222222222222222,\"#7201a8\"],[0.3333333333333333,\"#9c179e\"],[0.4444444444444444,\"#bd3786\"],[0.5555555555555556,\"#d8576b\"],[0.6666666666666666,\"#ed7953\"],[0.7777777777777778,\"#fb9f3a\"],[0.8888888888888888,\"#fdca26\"],[1.0,\"#f0f921\"]]},\"colorway\":[\"#636efa\",\"#EF553B\",\"#00cc96\",\"#ab63fa\",\"#FFA15A\",\"#19d3f3\",\"#FF6692\",\"#B6E880\",\"#FF97FF\",\"#FECB52\"],\"font\":{\"color\":\"#2a3f5f\"},\"geo\":{\"bgcolor\":\"white\",\"lakecolor\":\"white\",\"landcolor\":\"white\",\"showlakes\":true,\"showland\":true,\"subunitcolor\":\"#C8D4E3\"},\"hoverlabel\":{\"align\":\"left\"},\"hovermode\":\"closest\",\"mapbox\":{\"style\":\"light\"},\"paper_bgcolor\":\"white\",\"plot_bgcolor\":\"white\",\"polar\":{\"angularaxis\":{\"gridcolor\":\"#EBF0F8\",\"linecolor\":\"#EBF0F8\",\"ticks\":\"\"},\"bgcolor\":\"white\",\"radialaxis\":{\"gridcolor\":\"#EBF0F8\",\"linecolor\":\"#EBF0F8\",\"ticks\":\"\"}},\"scene\":{\"xaxis\":{\"backgroundcolor\":\"white\",\"gridcolor\":\"#DFE8F3\",\"gridwidth\":2,\"linecolor\":\"#EBF0F8\",\"showbackground\":true,\"ticks\":\"\",\"zerolinecolor\":\"#EBF0F8\"},\"yaxis\":{\"backgroundcolor\":\"white\",\"gridcolor\":\"#DFE8F3\",\"gridwidth\":2,\"linecolor\":\"#EBF0F8\",\"showbackground\":true,\"ticks\":\"\",\"zerolinecolor\":\"#EBF0F8\"},\"zaxis\":{\"backgroundcolor\":\"white\",\"gridcolor\":\"#DFE8F3\",\"gridwidth\":2,\"linecolor\":\"#EBF0F8\",\"showbackground\":true,\"ticks\":\"\",\"zerolinecolor\":\"#EBF0F8\"}},\"shapedefaults\":{\"line\":{\"color\":\"#2a3f5f\"}},\"ternary\":{\"aaxis\":{\"gridcolor\":\"#DFE8F3\",\"linecolor\":\"#A2B1C6\",\"ticks\":\"\"},\"baxis\":{\"gridcolor\":\"#DFE8F3\",\"linecolor\":\"#A2B1C6\",\"ticks\":\"\"},\"bgcolor\":\"white\",\"caxis\":{\"gridcolor\":\"#DFE8F3\",\"linecolor\":\"#A2B1C6\",\"ticks\":\"\"}},\"title\":{\"x\":0.05},\"xaxis\":{\"automargin\":true,\"gridcolor\":\"#EBF0F8\",\"linecolor\":\"#EBF0F8\",\"ticks\":\"\",\"title\":{\"standoff\":15},\"zerolinecolor\":\"#EBF0F8\",\"zerolinewidth\":2},\"yaxis\":{\"automargin\":true,\"gridcolor\":\"#EBF0F8\",\"linecolor\":\"#EBF0F8\",\"ticks\":\"\",\"title\":{\"standoff\":15},\"zerolinecolor\":\"#EBF0F8\",\"zerolinewidth\":2}}},\"shapes\":[{\"fillcolor\":\"#baa2a6\",\"line\":{\"color\":\"#baa2a6\"},\"opacity\":0.8,\"type\":\"rect\",\"x0\":0.55,\"x1\":1.45,\"y0\":0.55,\"y1\":1.45},{\"fillcolor\":\"#bbbb88\",\"line\":{\"color\":\"#bbbb88\"},\"opacity\":0.8,\"type\":\"rect\",\"x0\":17.55,\"x1\":18.45,\"y0\":0.55,\"y1\":1.45},{\"fillcolor\":\"#a6cee3\",\"line\":{\"color\":\"#a6cee3\"},\"opacity\":0.8,\"type\":\"rect\",\"x0\":0.55,\"x1\":1.45,\"y0\":1.55,\"y1\":2.45},{\"fillcolor\":\"#1f78b4\",\"line\":{\"color\":\"#1f78b4\"},\"opacity\":0.8,\"type\":\"rect\",\"x0\":1.55,\"x1\":2.45,\"y0\":1.55,\"y1\":2.45},{\"fillcolor\":\"#33a02c\",\"line\":{\"color\":\"#33a02c\"},\"opacity\":0.8,\"type\":\"rect\",\"x0\":12.55,\"x1\":13.45,\"y0\":1.55,\"y1\":2.45},{\"fillcolor\":\"#baa2a6\",\"line\":{\"color\":\"#baa2a6\"},\"opacity\":0.8,\"type\":\"rect\",\"x0\":13.55,\"x1\":14.45,\"y0\":1.55,\"y1\":2.45},{\"fillcolor\":\"#baa2a6\",\"line\":{\"color\":\"#baa2a6\"},\"opacity\":0.8,\"type\":\"rect\",\"x0\":14.55,\"x1\":15.45,\"y0\":1.55,\"y1\":2.45},{\"fillcolor\":\"#baa2a6\",\"line\":{\"color\":\"#baa2a6\"},\"opacity\":0.8,\"type\":\"rect\",\"x0\":15.55,\"x1\":16.45,\"y0\":1.55,\"y1\":2.45},{\"fillcolor\":\"#fdbf6f\",\"line\":{\"color\":\"#fdbf6f\"},\"opacity\":0.8,\"type\":\"rect\",\"x0\":16.55,\"x1\":17.45,\"y0\":1.55,\"y1\":2.45},{\"fillcolor\":\"#bbbb88\",\"line\":{\"color\":\"#bbbb88\"},\"opacity\":0.8,\"type\":\"rect\",\"x0\":17.55,\"x1\":18.45,\"y0\":1.55,\"y1\":2.45},{\"fillcolor\":\"#a6cee3\",\"line\":{\"color\":\"#a6cee3\"},\"opacity\":0.8,\"type\":\"rect\",\"x0\":0.55,\"x1\":1.45,\"y0\":2.55,\"y1\":3.45},{\"fillcolor\":\"#1f78b4\",\"line\":{\"color\":\"#1f78b4\"},\"opacity\":0.8,\"type\":\"rect\",\"x0\":1.55,\"x1\":2.45,\"y0\":2.55,\"y1\":3.45},{\"fillcolor\":\"#b2df8a\",\"line\":{\"color\":\"#b2df8a\"},\"opacity\":0.8,\"type\":\"rect\",\"x0\":12.55,\"x1\":13.45,\"y0\":2.55,\"y1\":3.45},{\"fillcolor\":\"#33a02c\",\"line\":{\"color\":\"#33a02c\"},\"opacity\":0.8,\"type\":\"rect\",\"x0\":13.55,\"x1\":14.45,\"y0\":2.55,\"y1\":3.45},{\"fillcolor\":\"#baa2a6\",\"line\":{\"color\":\"#baa2a6\"},\"opacity\":0.8,\"type\":\"rect\",\"x0\":14.55,\"x1\":15.45,\"y0\":2.55,\"y1\":3.45},{\"fillcolor\":\"#baa2a6\",\"line\":{\"color\":\"#baa2a6\"},\"opacity\":0.8,\"type\":\"rect\",\"x0\":15.55,\"x1\":16.45,\"y0\":2.55,\"y1\":3.45},{\"fillcolor\":\"#fdbf6f\",\"line\":{\"color\":\"#fdbf6f\"},\"opacity\":0.8,\"type\":\"rect\",\"x0\":16.55,\"x1\":17.45,\"y0\":2.55,\"y1\":3.45},{\"fillcolor\":\"#bbbb88\",\"line\":{\"color\":\"#bbbb88\"},\"opacity\":0.8,\"type\":\"rect\",\"x0\":17.55,\"x1\":18.45,\"y0\":2.55,\"y1\":3.45},{\"fillcolor\":\"#a6cee3\",\"line\":{\"color\":\"#a6cee3\"},\"opacity\":0.8,\"type\":\"rect\",\"x0\":0.55,\"x1\":1.45,\"y0\":3.55,\"y1\":4.45},{\"fillcolor\":\"#1f78b4\",\"line\":{\"color\":\"#1f78b4\"},\"opacity\":0.8,\"type\":\"rect\",\"x0\":1.55,\"x1\":2.45,\"y0\":3.55,\"y1\":4.45},{\"fillcolor\":\"#e08e79\",\"line\":{\"color\":\"#e08e79\"},\"opacity\":0.8,\"type\":\"rect\",\"x0\":2.55,\"x1\":3.45,\"y0\":3.55,\"y1\":4.45},{\"fillcolor\":\"#e08e79\",\"line\":{\"color\":\"#e08e79\"},\"opacity\":0.8,\"type\":\"rect\",\"x0\":3.55,\"x1\":4.45,\"y0\":3.55,\"y1\":4.45},{\"fillcolor\":\"#e08e79\",\"line\":{\"color\":\"#e08e79\"},\"opacity\":0.8,\"type\":\"rect\",\"x0\":4.55,\"x1\":5.45,\"y0\":3.55,\"y1\":4.45},{\"fillcolor\":\"#e08e79\",\"line\":{\"color\":\"#e08e79\"},\"opacity\":0.8,\"type\":\"rect\",\"x0\":5.55,\"x1\":6.45,\"y0\":3.55,\"y1\":4.45},{\"fillcolor\":\"#e08e79\",\"line\":{\"color\":\"#e08e79\"},\"opacity\":0.8,\"type\":\"rect\",\"x0\":6.55,\"x1\":7.45,\"y0\":3.55,\"y1\":4.45},{\"fillcolor\":\"#e08e79\",\"line\":{\"color\":\"#e08e79\"},\"opacity\":0.8,\"type\":\"rect\",\"x0\":7.55,\"x1\":8.45,\"y0\":3.55,\"y1\":4.45},{\"fillcolor\":\"#e08e79\",\"line\":{\"color\":\"#e08e79\"},\"opacity\":0.8,\"type\":\"rect\",\"x0\":8.55,\"x1\":9.45,\"y0\":3.55,\"y1\":4.45},{\"fillcolor\":\"#e08e79\",\"line\":{\"color\":\"#e08e79\"},\"opacity\":0.8,\"type\":\"rect\",\"x0\":9.55,\"x1\":10.45,\"y0\":3.55,\"y1\":4.45},{\"fillcolor\":\"#e08e79\",\"line\":{\"color\":\"#e08e79\"},\"opacity\":0.8,\"type\":\"rect\",\"x0\":10.55,\"x1\":11.45,\"y0\":3.55,\"y1\":4.45},{\"fillcolor\":\"#e08e79\",\"line\":{\"color\":\"#e08e79\"},\"opacity\":0.8,\"type\":\"rect\",\"x0\":11.55,\"x1\":12.45,\"y0\":3.55,\"y1\":4.45},{\"fillcolor\":\"#b2df8a\",\"line\":{\"color\":\"#b2df8a\"},\"opacity\":0.8,\"type\":\"rect\",\"x0\":12.55,\"x1\":13.45,\"y0\":3.55,\"y1\":4.45},{\"fillcolor\":\"#33a02c\",\"line\":{\"color\":\"#33a02c\"},\"opacity\":0.8,\"type\":\"rect\",\"x0\":13.55,\"x1\":14.45,\"y0\":3.55,\"y1\":4.45},{\"fillcolor\":\"#33a02c\",\"line\":{\"color\":\"#33a02c\"},\"opacity\":0.8,\"type\":\"rect\",\"x0\":14.55,\"x1\":15.45,\"y0\":3.55,\"y1\":4.45},{\"fillcolor\":\"#baa2a6\",\"line\":{\"color\":\"#baa2a6\"},\"opacity\":0.8,\"type\":\"rect\",\"x0\":15.55,\"x1\":16.45,\"y0\":3.55,\"y1\":4.45},{\"fillcolor\":\"#fdbf6f\",\"line\":{\"color\":\"#fdbf6f\"},\"opacity\":0.8,\"type\":\"rect\",\"x0\":16.55,\"x1\":17.45,\"y0\":3.55,\"y1\":4.45},{\"fillcolor\":\"#bbbb88\",\"line\":{\"color\":\"#bbbb88\"},\"opacity\":0.8,\"type\":\"rect\",\"x0\":17.55,\"x1\":18.45,\"y0\":3.55,\"y1\":4.45},{\"fillcolor\":\"#a6cee3\",\"line\":{\"color\":\"#a6cee3\"},\"opacity\":0.8,\"type\":\"rect\",\"x0\":0.55,\"x1\":1.45,\"y0\":4.55,\"y1\":5.45},{\"fillcolor\":\"#1f78b4\",\"line\":{\"color\":\"#1f78b4\"},\"opacity\":0.8,\"type\":\"rect\",\"x0\":1.55,\"x1\":2.45,\"y0\":4.55,\"y1\":5.45},{\"fillcolor\":\"#e08e79\",\"line\":{\"color\":\"#e08e79\"},\"opacity\":0.8,\"type\":\"rect\",\"x0\":2.55,\"x1\":3.45,\"y0\":4.55,\"y1\":5.45},{\"fillcolor\":\"#e08e79\",\"line\":{\"color\":\"#e08e79\"},\"opacity\":0.8,\"type\":\"rect\",\"x0\":3.55,\"x1\":4.45,\"y0\":4.55,\"y1\":5.45},{\"fillcolor\":\"#e08e79\",\"line\":{\"color\":\"#e08e79\"},\"opacity\":0.8,\"type\":\"rect\",\"x0\":4.55,\"x1\":5.45,\"y0\":4.55,\"y1\":5.45},{\"fillcolor\":\"#e08e79\",\"line\":{\"color\":\"#e08e79\"},\"opacity\":0.8,\"type\":\"rect\",\"x0\":5.55,\"x1\":6.45,\"y0\":4.55,\"y1\":5.45},{\"fillcolor\":\"#e08e79\",\"line\":{\"color\":\"#e08e79\"},\"opacity\":0.8,\"type\":\"rect\",\"x0\":6.55,\"x1\":7.45,\"y0\":4.55,\"y1\":5.45},{\"fillcolor\":\"#e08e79\",\"line\":{\"color\":\"#e08e79\"},\"opacity\":0.8,\"type\":\"rect\",\"x0\":7.55,\"x1\":8.45,\"y0\":4.55,\"y1\":5.45},{\"fillcolor\":\"#e08e79\",\"line\":{\"color\":\"#e08e79\"},\"opacity\":0.8,\"type\":\"rect\",\"x0\":8.55,\"x1\":9.45,\"y0\":4.55,\"y1\":5.45},{\"fillcolor\":\"#e08e79\",\"line\":{\"color\":\"#e08e79\"},\"opacity\":0.8,\"type\":\"rect\",\"x0\":9.55,\"x1\":10.45,\"y0\":4.55,\"y1\":5.45},{\"fillcolor\":\"#e08e79\",\"line\":{\"color\":\"#e08e79\"},\"opacity\":0.8,\"type\":\"rect\",\"x0\":10.55,\"x1\":11.45,\"y0\":4.55,\"y1\":5.45},{\"fillcolor\":\"#e08e79\",\"line\":{\"color\":\"#e08e79\"},\"opacity\":0.8,\"type\":\"rect\",\"x0\":11.55,\"x1\":12.45,\"y0\":4.55,\"y1\":5.45},{\"fillcolor\":\"#b2df8a\",\"line\":{\"color\":\"#b2df8a\"},\"opacity\":0.8,\"type\":\"rect\",\"x0\":12.55,\"x1\":13.45,\"y0\":4.55,\"y1\":5.45},{\"fillcolor\":\"#b2df8a\",\"line\":{\"color\":\"#b2df8a\"},\"opacity\":0.8,\"type\":\"rect\",\"x0\":13.55,\"x1\":14.45,\"y0\":4.55,\"y1\":5.45},{\"fillcolor\":\"#33a02c\",\"line\":{\"color\":\"#33a02c\"},\"opacity\":0.8,\"type\":\"rect\",\"x0\":14.55,\"x1\":15.45,\"y0\":4.55,\"y1\":5.45},{\"fillcolor\":\"#33a02c\",\"line\":{\"color\":\"#33a02c\"},\"opacity\":0.8,\"type\":\"rect\",\"x0\":15.55,\"x1\":16.45,\"y0\":4.55,\"y1\":5.45},{\"fillcolor\":\"#fdbf6f\",\"line\":{\"color\":\"#fdbf6f\"},\"opacity\":0.8,\"type\":\"rect\",\"x0\":16.55,\"x1\":17.45,\"y0\":4.55,\"y1\":5.45},{\"fillcolor\":\"#bbbb88\",\"line\":{\"color\":\"#bbbb88\"},\"opacity\":0.8,\"type\":\"rect\",\"x0\":17.55,\"x1\":18.45,\"y0\":4.55,\"y1\":5.45},{\"fillcolor\":\"#a6cee3\",\"line\":{\"color\":\"#a6cee3\"},\"opacity\":0.8,\"type\":\"rect\",\"x0\":0.55,\"x1\":1.45,\"y0\":5.55,\"y1\":6.45},{\"fillcolor\":\"#1f78b4\",\"line\":{\"color\":\"#1f78b4\"},\"opacity\":0.8,\"type\":\"rect\",\"x0\":1.55,\"x1\":2.45,\"y0\":5.55,\"y1\":6.45},{\"fillcolor\":\"#cab2d6\",\"line\":{\"color\":\"#cab2d6\"},\"opacity\":0.8,\"type\":\"rect\",\"x0\":2.55,\"x1\":3.45,\"y0\":5.55,\"y1\":6.45},{\"fillcolor\":\"#cab2d6\",\"line\":{\"color\":\"#cab2d6\"},\"opacity\":0.8,\"type\":\"rect\",\"x0\":2.55,\"x1\":3.45,\"y0\":8.05,\"y1\":8.95},{\"fillcolor\":\"#cab2d6\",\"line\":{\"color\":\"#cab2d6\"},\"opacity\":0.8,\"type\":\"rect\",\"x0\":3.55,\"x1\":4.45,\"y0\":8.05,\"y1\":8.95},{\"fillcolor\":\"#cab2d6\",\"line\":{\"color\":\"#cab2d6\"},\"opacity\":0.8,\"type\":\"rect\",\"x0\":4.55,\"x1\":5.45,\"y0\":8.05,\"y1\":8.95},{\"fillcolor\":\"#cab2d6\",\"line\":{\"color\":\"#cab2d6\"},\"opacity\":0.8,\"type\":\"rect\",\"x0\":5.55,\"x1\":6.45,\"y0\":8.05,\"y1\":8.95},{\"fillcolor\":\"#cab2d6\",\"line\":{\"color\":\"#cab2d6\"},\"opacity\":0.8,\"type\":\"rect\",\"x0\":6.55,\"x1\":7.45,\"y0\":8.05,\"y1\":8.95},{\"fillcolor\":\"#cab2d6\",\"line\":{\"color\":\"#cab2d6\"},\"opacity\":0.8,\"type\":\"rect\",\"x0\":7.55,\"x1\":8.45,\"y0\":8.05,\"y1\":8.95},{\"fillcolor\":\"#cab2d6\",\"line\":{\"color\":\"#cab2d6\"},\"opacity\":0.8,\"type\":\"rect\",\"x0\":8.55,\"x1\":9.45,\"y0\":8.05,\"y1\":8.95},{\"fillcolor\":\"#cab2d6\",\"line\":{\"color\":\"#cab2d6\"},\"opacity\":0.8,\"type\":\"rect\",\"x0\":9.55,\"x1\":10.45,\"y0\":8.05,\"y1\":8.95},{\"fillcolor\":\"#cab2d6\",\"line\":{\"color\":\"#cab2d6\"},\"opacity\":0.8,\"type\":\"rect\",\"x0\":10.55,\"x1\":11.45,\"y0\":8.05,\"y1\":8.95},{\"fillcolor\":\"#cab2d6\",\"line\":{\"color\":\"#cab2d6\"},\"opacity\":0.8,\"type\":\"rect\",\"x0\":11.55,\"x1\":12.45,\"y0\":8.05,\"y1\":8.95},{\"fillcolor\":\"#cab2d6\",\"line\":{\"color\":\"#cab2d6\"},\"opacity\":0.8,\"type\":\"rect\",\"x0\":12.55,\"x1\":13.45,\"y0\":8.05,\"y1\":8.95},{\"fillcolor\":\"#cab2d6\",\"line\":{\"color\":\"#cab2d6\"},\"opacity\":0.8,\"type\":\"rect\",\"x0\":13.55,\"x1\":14.45,\"y0\":8.05,\"y1\":8.95},{\"fillcolor\":\"#cab2d6\",\"line\":{\"color\":\"#cab2d6\"},\"opacity\":0.8,\"type\":\"rect\",\"x0\":14.55,\"x1\":15.45,\"y0\":8.05,\"y1\":8.95},{\"fillcolor\":\"#e08e79\",\"line\":{\"color\":\"#e08e79\"},\"opacity\":0.8,\"type\":\"rect\",\"x0\":15.55,\"x1\":16.45,\"y0\":8.05,\"y1\":8.95},{\"fillcolor\":\"#e08e79\",\"line\":{\"color\":\"#e08e79\"},\"opacity\":0.8,\"type\":\"rect\",\"x0\":3.55,\"x1\":4.45,\"y0\":5.55,\"y1\":6.45},{\"fillcolor\":\"#e08e79\",\"line\":{\"color\":\"#e08e79\"},\"opacity\":0.8,\"type\":\"rect\",\"x0\":4.55,\"x1\":5.45,\"y0\":5.55,\"y1\":6.45},{\"fillcolor\":\"#e08e79\",\"line\":{\"color\":\"#e08e79\"},\"opacity\":0.8,\"type\":\"rect\",\"x0\":5.55,\"x1\":6.45,\"y0\":5.55,\"y1\":6.45},{\"fillcolor\":\"#e08e79\",\"line\":{\"color\":\"#e08e79\"},\"opacity\":0.8,\"type\":\"rect\",\"x0\":6.55,\"x1\":7.45,\"y0\":5.55,\"y1\":6.45},{\"fillcolor\":\"#e08e79\",\"line\":{\"color\":\"#e08e79\"},\"opacity\":0.8,\"type\":\"rect\",\"x0\":7.55,\"x1\":8.45,\"y0\":5.55,\"y1\":6.45},{\"fillcolor\":\"#e08e79\",\"line\":{\"color\":\"#e08e79\"},\"opacity\":0.8,\"type\":\"rect\",\"x0\":8.55,\"x1\":9.45,\"y0\":5.55,\"y1\":6.45},{\"fillcolor\":\"#e08e79\",\"line\":{\"color\":\"#e08e79\"},\"opacity\":0.8,\"type\":\"rect\",\"x0\":9.55,\"x1\":10.45,\"y0\":5.55,\"y1\":6.45},{\"fillcolor\":\"#e08e79\",\"line\":{\"color\":\"#e08e79\"},\"opacity\":0.8,\"type\":\"rect\",\"x0\":10.55,\"x1\":11.45,\"y0\":5.55,\"y1\":6.45},{\"fillcolor\":\"#e08e79\",\"line\":{\"color\":\"#e08e79\"},\"opacity\":0.8,\"type\":\"rect\",\"x0\":11.55,\"x1\":12.45,\"y0\":5.55,\"y1\":6.45},{\"fillcolor\":\"#b2df8a\",\"line\":{\"color\":\"#b2df8a\"},\"opacity\":0.8,\"type\":\"rect\",\"x0\":12.55,\"x1\":13.45,\"y0\":5.55,\"y1\":6.45},{\"fillcolor\":\"#b2df8a\",\"line\":{\"color\":\"#b2df8a\"},\"opacity\":0.8,\"type\":\"rect\",\"x0\":13.55,\"x1\":14.45,\"y0\":5.55,\"y1\":6.45},{\"fillcolor\":\"#b2df8a\",\"line\":{\"color\":\"#b2df8a\"},\"opacity\":0.8,\"type\":\"rect\",\"x0\":14.55,\"x1\":15.45,\"y0\":5.55,\"y1\":6.45},{\"fillcolor\":\"#33a02c\",\"line\":{\"color\":\"#33a02c\"},\"opacity\":0.8,\"type\":\"rect\",\"x0\":15.55,\"x1\":16.45,\"y0\":5.55,\"y1\":6.45},{\"fillcolor\":\"#fdbf6f\",\"line\":{\"color\":\"#fdbf6f\"},\"opacity\":0.8,\"type\":\"rect\",\"x0\":16.55,\"x1\":17.45,\"y0\":5.55,\"y1\":6.45},{\"fillcolor\":\"#bbbb88\",\"line\":{\"color\":\"#bbbb88\"},\"opacity\":0.8,\"type\":\"rect\",\"x0\":17.55,\"x1\":18.45,\"y0\":5.55,\"y1\":6.45},{\"fillcolor\":\"#a6cee3\",\"line\":{\"color\":\"#a6cee3\"},\"opacity\":0.8,\"type\":\"rect\",\"x0\":0.55,\"x1\":1.45,\"y0\":6.55,\"y1\":7.45},{\"fillcolor\":\"#1f78b4\",\"line\":{\"color\":\"#1f78b4\"},\"opacity\":0.8,\"type\":\"rect\",\"x0\":1.55,\"x1\":2.45,\"y0\":6.55,\"y1\":7.45},{\"fillcolor\":\"#6a3d9a\",\"line\":{\"color\":\"#6a3d9a\"},\"opacity\":0.8,\"type\":\"rect\",\"x0\":2.55,\"x1\":3.45,\"y0\":6.55,\"y1\":7.45},{\"fillcolor\":\"#6a3d9a\",\"line\":{\"color\":\"#6a3d9a\"},\"opacity\":0.8,\"type\":\"rect\",\"x0\":2.55,\"x1\":3.45,\"y0\":9.05,\"y1\":9.95},{\"fillcolor\":\"#6a3d9a\",\"line\":{\"color\":\"#6a3d9a\"},\"opacity\":0.8,\"type\":\"rect\",\"x0\":3.55,\"x1\":4.45,\"y0\":9.05,\"y1\":9.95},{\"fillcolor\":\"#6a3d9a\",\"line\":{\"color\":\"#6a3d9a\"},\"opacity\":0.8,\"type\":\"rect\",\"x0\":4.55,\"x1\":5.45,\"y0\":9.05,\"y1\":9.95},{\"fillcolor\":\"#6a3d9a\",\"line\":{\"color\":\"#6a3d9a\"},\"opacity\":0.8,\"type\":\"rect\",\"x0\":5.55,\"x1\":6.45,\"y0\":9.05,\"y1\":9.95},{\"fillcolor\":\"#6a3d9a\",\"line\":{\"color\":\"#6a3d9a\"},\"opacity\":0.8,\"type\":\"rect\",\"x0\":6.55,\"x1\":7.45,\"y0\":9.05,\"y1\":9.95},{\"fillcolor\":\"#6a3d9a\",\"line\":{\"color\":\"#6a3d9a\"},\"opacity\":0.8,\"type\":\"rect\",\"x0\":7.55,\"x1\":8.45,\"y0\":9.05,\"y1\":9.95},{\"fillcolor\":\"#6a3d9a\",\"line\":{\"color\":\"#6a3d9a\"},\"opacity\":0.8,\"type\":\"rect\",\"x0\":8.55,\"x1\":9.45,\"y0\":9.05,\"y1\":9.95},{\"fillcolor\":\"#6a3d9a\",\"line\":{\"color\":\"#6a3d9a\"},\"opacity\":0.8,\"type\":\"rect\",\"x0\":9.55,\"x1\":10.45,\"y0\":9.05,\"y1\":9.95},{\"fillcolor\":\"#6a3d9a\",\"line\":{\"color\":\"#6a3d9a\"},\"opacity\":0.8,\"type\":\"rect\",\"x0\":10.55,\"x1\":11.45,\"y0\":9.05,\"y1\":9.95},{\"fillcolor\":\"#6a3d9a\",\"line\":{\"color\":\"#6a3d9a\"},\"opacity\":0.8,\"type\":\"rect\",\"x0\":11.55,\"x1\":12.45,\"y0\":9.05,\"y1\":9.95},{\"fillcolor\":\"#6a3d9a\",\"line\":{\"color\":\"#6a3d9a\"},\"opacity\":0.8,\"type\":\"rect\",\"x0\":12.55,\"x1\":13.45,\"y0\":9.05,\"y1\":9.95},{\"fillcolor\":\"#6a3d9a\",\"line\":{\"color\":\"#6a3d9a\"},\"opacity\":0.8,\"type\":\"rect\",\"x0\":13.55,\"x1\":14.45,\"y0\":9.05,\"y1\":9.95},{\"fillcolor\":\"#6a3d9a\",\"line\":{\"color\":\"#6a3d9a\"},\"opacity\":0.8,\"type\":\"rect\",\"x0\":14.55,\"x1\":15.45,\"y0\":9.05,\"y1\":9.95},{\"fillcolor\":\"#e08e79\",\"line\":{\"color\":\"#e08e79\"},\"opacity\":0.8,\"type\":\"rect\",\"x0\":15.55,\"x1\":16.45,\"y0\":9.05,\"y1\":9.95},{\"fillcolor\":\"#e08e79\",\"line\":{\"color\":\"#e08e79\"},\"opacity\":0.8,\"type\":\"rect\",\"x0\":3.55,\"x1\":4.45,\"y0\":6.55,\"y1\":7.45},{\"fillcolor\":\"#e08e79\",\"line\":{\"color\":\"#e08e79\"},\"opacity\":0.8,\"type\":\"rect\",\"x0\":4.55,\"x1\":5.45,\"y0\":6.55,\"y1\":7.45},{\"fillcolor\":\"#e08e79\",\"line\":{\"color\":\"#e08e79\"},\"opacity\":0.8,\"type\":\"rect\",\"x0\":5.55,\"x1\":6.45,\"y0\":6.55,\"y1\":7.45},{\"fillcolor\":\"#e08e79\",\"line\":{\"color\":\"#e08e79\"},\"opacity\":0.8,\"type\":\"rect\",\"x0\":6.55,\"x1\":7.45,\"y0\":6.55,\"y1\":7.45},{\"fillcolor\":\"#e08e79\",\"line\":{\"color\":\"#e08e79\"},\"opacity\":0.8,\"type\":\"rect\",\"x0\":7.55,\"x1\":8.45,\"y0\":6.55,\"y1\":7.45},{\"fillcolor\":\"#e08e79\",\"line\":{\"color\":\"#e08e79\"},\"opacity\":0.8,\"type\":\"rect\",\"x0\":8.55,\"x1\":9.45,\"y0\":6.55,\"y1\":7.45},{\"fillcolor\":\"#e08e79\",\"line\":{\"color\":\"#e08e79\"},\"opacity\":0.8,\"type\":\"rect\",\"x0\":9.55,\"x1\":10.45,\"y0\":6.55,\"y1\":7.45},{\"fillcolor\":\"#e08e79\",\"line\":{\"color\":\"#e08e79\"},\"opacity\":0.8,\"type\":\"rect\",\"x0\":10.55,\"x1\":11.45,\"y0\":6.55,\"y1\":7.45},{\"fillcolor\":\"#e08e79\",\"line\":{\"color\":\"#e08e79\"},\"opacity\":0.8,\"type\":\"rect\",\"x0\":11.55,\"x1\":12.45,\"y0\":6.55,\"y1\":7.45},{\"fillcolor\":\"#b2df8a\",\"line\":{\"color\":\"#b2df8a\"},\"opacity\":0.8,\"type\":\"rect\",\"x0\":12.55,\"x1\":13.45,\"y0\":6.55,\"y1\":7.45},{\"fillcolor\":\"#b2df8a\",\"line\":{\"color\":\"#b2df8a\"},\"opacity\":0.8,\"type\":\"rect\",\"x0\":13.55,\"x1\":14.45,\"y0\":6.55,\"y1\":7.45},{\"fillcolor\":\"#b2df8a\",\"line\":{\"color\":\"#b2df8a\"},\"opacity\":0.8,\"type\":\"rect\",\"x0\":14.55,\"x1\":15.45,\"y0\":6.55,\"y1\":7.45},{\"fillcolor\":\"#b2df8a\",\"line\":{\"color\":\"#b2df8a\"},\"opacity\":0.8,\"type\":\"rect\",\"x0\":15.55,\"x1\":16.45,\"y0\":6.55,\"y1\":7.45},{\"fillcolor\":\"#fdbf6f\",\"line\":{\"color\":\"#fdbf6f\"},\"opacity\":0.8,\"type\":\"rect\",\"x0\":16.55,\"x1\":17.45,\"y0\":6.55,\"y1\":7.45},{\"fillcolor\":\"#bbbb88\",\"line\":{\"color\":\"#bbbb88\"},\"opacity\":0.8,\"type\":\"rect\",\"x0\":17.55,\"x1\":18.45,\"y0\":6.55,\"y1\":7.45}],\"annotations\":[{\"align\":\"center\",\"font\":{\"color\":\"#333333\",\"family\":\"Roboto\",\"size\":16},\"opacity\":0.9,\"showarrow\":false,\"text\":\"H\",\"x\":1.0,\"xref\":\"x\",\"y\":1.0,\"yref\":\"y\"},{\"align\":\"center\",\"font\":{\"color\":\"#333333\",\"family\":\"Roboto\",\"size\":16},\"opacity\":0.9,\"showarrow\":false,\"text\":\"He\",\"x\":18.0,\"xref\":\"x\",\"y\":1.0,\"yref\":\"y\"},{\"align\":\"center\",\"font\":{\"color\":\"#333333\",\"family\":\"Roboto\",\"size\":16},\"opacity\":0.9,\"showarrow\":false,\"text\":\"Li\",\"x\":1.0,\"xref\":\"x\",\"y\":2.0,\"yref\":\"y\"},{\"align\":\"center\",\"font\":{\"color\":\"#333333\",\"family\":\"Roboto\",\"size\":16},\"opacity\":0.9,\"showarrow\":false,\"text\":\"Be\",\"x\":2.0,\"xref\":\"x\",\"y\":2.0,\"yref\":\"y\"},{\"align\":\"center\",\"font\":{\"color\":\"#333333\",\"family\":\"Roboto\",\"size\":16},\"opacity\":0.9,\"showarrow\":false,\"text\":\"B\",\"x\":13.0,\"xref\":\"x\",\"y\":2.0,\"yref\":\"y\"},{\"align\":\"center\",\"font\":{\"color\":\"#333333\",\"family\":\"Roboto\",\"size\":16},\"opacity\":0.9,\"showarrow\":false,\"text\":\"C\",\"x\":14.0,\"xref\":\"x\",\"y\":2.0,\"yref\":\"y\"},{\"align\":\"center\",\"font\":{\"color\":\"#333333\",\"family\":\"Roboto\",\"size\":16},\"opacity\":0.9,\"showarrow\":false,\"text\":\"N\",\"x\":15.0,\"xref\":\"x\",\"y\":2.0,\"yref\":\"y\"},{\"align\":\"center\",\"font\":{\"color\":\"#333333\",\"family\":\"Roboto\",\"size\":16},\"opacity\":0.9,\"showarrow\":false,\"text\":\"O\",\"x\":16.0,\"xref\":\"x\",\"y\":2.0,\"yref\":\"y\"},{\"align\":\"center\",\"font\":{\"color\":\"#333333\",\"family\":\"Roboto\",\"size\":16},\"opacity\":0.9,\"showarrow\":false,\"text\":\"F\",\"x\":17.0,\"xref\":\"x\",\"y\":2.0,\"yref\":\"y\"},{\"align\":\"center\",\"font\":{\"color\":\"#333333\",\"family\":\"Roboto\",\"size\":16},\"opacity\":0.9,\"showarrow\":false,\"text\":\"Ne\",\"x\":18.0,\"xref\":\"x\",\"y\":2.0,\"yref\":\"y\"},{\"align\":\"center\",\"font\":{\"color\":\"#333333\",\"family\":\"Roboto\",\"size\":16},\"opacity\":0.9,\"showarrow\":false,\"text\":\"Na\",\"x\":1.0,\"xref\":\"x\",\"y\":3.0,\"yref\":\"y\"},{\"align\":\"center\",\"font\":{\"color\":\"#333333\",\"family\":\"Roboto\",\"size\":16},\"opacity\":0.9,\"showarrow\":false,\"text\":\"Mg\",\"x\":2.0,\"xref\":\"x\",\"y\":3.0,\"yref\":\"y\"},{\"align\":\"center\",\"font\":{\"color\":\"#333333\",\"family\":\"Roboto\",\"size\":16},\"opacity\":0.9,\"showarrow\":false,\"text\":\"Al\",\"x\":13.0,\"xref\":\"x\",\"y\":3.0,\"yref\":\"y\"},{\"align\":\"center\",\"font\":{\"color\":\"#333333\",\"family\":\"Roboto\",\"size\":16},\"opacity\":0.9,\"showarrow\":false,\"text\":\"Si\",\"x\":14.0,\"xref\":\"x\",\"y\":3.0,\"yref\":\"y\"},{\"align\":\"center\",\"font\":{\"color\":\"#333333\",\"family\":\"Roboto\",\"size\":16},\"opacity\":0.9,\"showarrow\":false,\"text\":\"P\",\"x\":15.0,\"xref\":\"x\",\"y\":3.0,\"yref\":\"y\"},{\"align\":\"center\",\"font\":{\"color\":\"#333333\",\"family\":\"Roboto\",\"size\":16},\"opacity\":0.9,\"showarrow\":false,\"text\":\"S\",\"x\":16.0,\"xref\":\"x\",\"y\":3.0,\"yref\":\"y\"},{\"align\":\"center\",\"font\":{\"color\":\"#333333\",\"family\":\"Roboto\",\"size\":16},\"opacity\":0.9,\"showarrow\":false,\"text\":\"Cl\",\"x\":17.0,\"xref\":\"x\",\"y\":3.0,\"yref\":\"y\"},{\"align\":\"center\",\"font\":{\"color\":\"#333333\",\"family\":\"Roboto\",\"size\":16},\"opacity\":0.9,\"showarrow\":false,\"text\":\"Ar\",\"x\":18.0,\"xref\":\"x\",\"y\":3.0,\"yref\":\"y\"},{\"align\":\"center\",\"font\":{\"color\":\"#333333\",\"family\":\"Roboto\",\"size\":16},\"opacity\":0.9,\"showarrow\":false,\"text\":\"K\",\"x\":1.0,\"xref\":\"x\",\"y\":4.0,\"yref\":\"y\"},{\"align\":\"center\",\"font\":{\"color\":\"#333333\",\"family\":\"Roboto\",\"size\":16},\"opacity\":0.9,\"showarrow\":false,\"text\":\"Ca\",\"x\":2.0,\"xref\":\"x\",\"y\":4.0,\"yref\":\"y\"},{\"align\":\"center\",\"font\":{\"color\":\"#333333\",\"family\":\"Roboto\",\"size\":16},\"opacity\":0.9,\"showarrow\":false,\"text\":\"Sc\",\"x\":3.0,\"xref\":\"x\",\"y\":4.0,\"yref\":\"y\"},{\"align\":\"center\",\"font\":{\"color\":\"#333333\",\"family\":\"Roboto\",\"size\":16},\"opacity\":0.9,\"showarrow\":false,\"text\":\"Ti\",\"x\":4.0,\"xref\":\"x\",\"y\":4.0,\"yref\":\"y\"},{\"align\":\"center\",\"font\":{\"color\":\"#333333\",\"family\":\"Roboto\",\"size\":16},\"opacity\":0.9,\"showarrow\":false,\"text\":\"V\",\"x\":5.0,\"xref\":\"x\",\"y\":4.0,\"yref\":\"y\"},{\"align\":\"center\",\"font\":{\"color\":\"#333333\",\"family\":\"Roboto\",\"size\":16},\"opacity\":0.9,\"showarrow\":false,\"text\":\"Cr\",\"x\":6.0,\"xref\":\"x\",\"y\":4.0,\"yref\":\"y\"},{\"align\":\"center\",\"font\":{\"color\":\"#333333\",\"family\":\"Roboto\",\"size\":16},\"opacity\":0.9,\"showarrow\":false,\"text\":\"Mn\",\"x\":7.0,\"xref\":\"x\",\"y\":4.0,\"yref\":\"y\"},{\"align\":\"center\",\"font\":{\"color\":\"#333333\",\"family\":\"Roboto\",\"size\":16},\"opacity\":0.9,\"showarrow\":false,\"text\":\"Fe\",\"x\":8.0,\"xref\":\"x\",\"y\":4.0,\"yref\":\"y\"},{\"align\":\"center\",\"font\":{\"color\":\"#333333\",\"family\":\"Roboto\",\"size\":16},\"opacity\":0.9,\"showarrow\":false,\"text\":\"Co\",\"x\":9.0,\"xref\":\"x\",\"y\":4.0,\"yref\":\"y\"},{\"align\":\"center\",\"font\":{\"color\":\"#333333\",\"family\":\"Roboto\",\"size\":16},\"opacity\":0.9,\"showarrow\":false,\"text\":\"Ni\",\"x\":10.0,\"xref\":\"x\",\"y\":4.0,\"yref\":\"y\"},{\"align\":\"center\",\"font\":{\"color\":\"#333333\",\"family\":\"Roboto\",\"size\":16},\"opacity\":0.9,\"showarrow\":false,\"text\":\"Cu\",\"x\":11.0,\"xref\":\"x\",\"y\":4.0,\"yref\":\"y\"},{\"align\":\"center\",\"font\":{\"color\":\"#333333\",\"family\":\"Roboto\",\"size\":16},\"opacity\":0.9,\"showarrow\":false,\"text\":\"Zn\",\"x\":12.0,\"xref\":\"x\",\"y\":4.0,\"yref\":\"y\"},{\"align\":\"center\",\"font\":{\"color\":\"#333333\",\"family\":\"Roboto\",\"size\":16},\"opacity\":0.9,\"showarrow\":false,\"text\":\"Ga\",\"x\":13.0,\"xref\":\"x\",\"y\":4.0,\"yref\":\"y\"},{\"align\":\"center\",\"font\":{\"color\":\"#333333\",\"family\":\"Roboto\",\"size\":16},\"opacity\":0.9,\"showarrow\":false,\"text\":\"Ge\",\"x\":14.0,\"xref\":\"x\",\"y\":4.0,\"yref\":\"y\"},{\"align\":\"center\",\"font\":{\"color\":\"#333333\",\"family\":\"Roboto\",\"size\":16},\"opacity\":0.9,\"showarrow\":false,\"text\":\"As\",\"x\":15.0,\"xref\":\"x\",\"y\":4.0,\"yref\":\"y\"},{\"align\":\"center\",\"font\":{\"color\":\"#333333\",\"family\":\"Roboto\",\"size\":16},\"opacity\":0.9,\"showarrow\":false,\"text\":\"Se\",\"x\":16.0,\"xref\":\"x\",\"y\":4.0,\"yref\":\"y\"},{\"align\":\"center\",\"font\":{\"color\":\"#333333\",\"family\":\"Roboto\",\"size\":16},\"opacity\":0.9,\"showarrow\":false,\"text\":\"Br\",\"x\":17.0,\"xref\":\"x\",\"y\":4.0,\"yref\":\"y\"},{\"align\":\"center\",\"font\":{\"color\":\"#333333\",\"family\":\"Roboto\",\"size\":16},\"opacity\":0.9,\"showarrow\":false,\"text\":\"Kr\",\"x\":18.0,\"xref\":\"x\",\"y\":4.0,\"yref\":\"y\"},{\"align\":\"center\",\"font\":{\"color\":\"#333333\",\"family\":\"Roboto\",\"size\":16},\"opacity\":0.9,\"showarrow\":false,\"text\":\"Rb\",\"x\":1.0,\"xref\":\"x\",\"y\":5.0,\"yref\":\"y\"},{\"align\":\"center\",\"font\":{\"color\":\"#333333\",\"family\":\"Roboto\",\"size\":16},\"opacity\":0.9,\"showarrow\":false,\"text\":\"Sr\",\"x\":2.0,\"xref\":\"x\",\"y\":5.0,\"yref\":\"y\"},{\"align\":\"center\",\"font\":{\"color\":\"#333333\",\"family\":\"Roboto\",\"size\":16},\"opacity\":0.9,\"showarrow\":false,\"text\":\"Y\",\"x\":3.0,\"xref\":\"x\",\"y\":5.0,\"yref\":\"y\"},{\"align\":\"center\",\"font\":{\"color\":\"#333333\",\"family\":\"Roboto\",\"size\":16},\"opacity\":0.9,\"showarrow\":false,\"text\":\"Zr\",\"x\":4.0,\"xref\":\"x\",\"y\":5.0,\"yref\":\"y\"},{\"align\":\"center\",\"font\":{\"color\":\"#333333\",\"family\":\"Roboto\",\"size\":16},\"opacity\":0.9,\"showarrow\":false,\"text\":\"Nb\",\"x\":5.0,\"xref\":\"x\",\"y\":5.0,\"yref\":\"y\"},{\"align\":\"center\",\"font\":{\"color\":\"#333333\",\"family\":\"Roboto\",\"size\":16},\"opacity\":0.9,\"showarrow\":false,\"text\":\"Mo\",\"x\":6.0,\"xref\":\"x\",\"y\":5.0,\"yref\":\"y\"},{\"align\":\"center\",\"font\":{\"color\":\"#333333\",\"family\":\"Roboto\",\"size\":16},\"opacity\":0.9,\"showarrow\":false,\"text\":\"Tc\",\"x\":7.0,\"xref\":\"x\",\"y\":5.0,\"yref\":\"y\"},{\"align\":\"center\",\"font\":{\"color\":\"#333333\",\"family\":\"Roboto\",\"size\":16},\"opacity\":0.9,\"showarrow\":false,\"text\":\"Ru\",\"x\":8.0,\"xref\":\"x\",\"y\":5.0,\"yref\":\"y\"},{\"align\":\"center\",\"font\":{\"color\":\"#333333\",\"family\":\"Roboto\",\"size\":16},\"opacity\":0.9,\"showarrow\":false,\"text\":\"Rh\",\"x\":9.0,\"xref\":\"x\",\"y\":5.0,\"yref\":\"y\"},{\"align\":\"center\",\"font\":{\"color\":\"#333333\",\"family\":\"Roboto\",\"size\":16},\"opacity\":0.9,\"showarrow\":false,\"text\":\"Pd\",\"x\":10.0,\"xref\":\"x\",\"y\":5.0,\"yref\":\"y\"},{\"align\":\"center\",\"font\":{\"color\":\"#333333\",\"family\":\"Roboto\",\"size\":16},\"opacity\":0.9,\"showarrow\":false,\"text\":\"Ag\",\"x\":11.0,\"xref\":\"x\",\"y\":5.0,\"yref\":\"y\"},{\"align\":\"center\",\"font\":{\"color\":\"#333333\",\"family\":\"Roboto\",\"size\":16},\"opacity\":0.9,\"showarrow\":false,\"text\":\"Cd\",\"x\":12.0,\"xref\":\"x\",\"y\":5.0,\"yref\":\"y\"},{\"align\":\"center\",\"font\":{\"color\":\"#333333\",\"family\":\"Roboto\",\"size\":16},\"opacity\":0.9,\"showarrow\":false,\"text\":\"In\",\"x\":13.0,\"xref\":\"x\",\"y\":5.0,\"yref\":\"y\"},{\"align\":\"center\",\"font\":{\"color\":\"#333333\",\"family\":\"Roboto\",\"size\":16},\"opacity\":0.9,\"showarrow\":false,\"text\":\"Sn\",\"x\":14.0,\"xref\":\"x\",\"y\":5.0,\"yref\":\"y\"},{\"align\":\"center\",\"font\":{\"color\":\"#333333\",\"family\":\"Roboto\",\"size\":16},\"opacity\":0.9,\"showarrow\":false,\"text\":\"Sb\",\"x\":15.0,\"xref\":\"x\",\"y\":5.0,\"yref\":\"y\"},{\"align\":\"center\",\"font\":{\"color\":\"#333333\",\"family\":\"Roboto\",\"size\":16},\"opacity\":0.9,\"showarrow\":false,\"text\":\"Te\",\"x\":16.0,\"xref\":\"x\",\"y\":5.0,\"yref\":\"y\"},{\"align\":\"center\",\"font\":{\"color\":\"#333333\",\"family\":\"Roboto\",\"size\":16},\"opacity\":0.9,\"showarrow\":false,\"text\":\"I\",\"x\":17.0,\"xref\":\"x\",\"y\":5.0,\"yref\":\"y\"},{\"align\":\"center\",\"font\":{\"color\":\"#333333\",\"family\":\"Roboto\",\"size\":16},\"opacity\":0.9,\"showarrow\":false,\"text\":\"Xe\",\"x\":18.0,\"xref\":\"x\",\"y\":5.0,\"yref\":\"y\"},{\"align\":\"center\",\"font\":{\"color\":\"#333333\",\"family\":\"Roboto\",\"size\":16},\"opacity\":0.9,\"showarrow\":false,\"text\":\"Cs\",\"x\":1.0,\"xref\":\"x\",\"y\":6.0,\"yref\":\"y\"},{\"align\":\"center\",\"font\":{\"color\":\"#333333\",\"family\":\"Roboto\",\"size\":16},\"opacity\":0.9,\"showarrow\":false,\"text\":\"Ba\",\"x\":2.0,\"xref\":\"x\",\"y\":6.0,\"yref\":\"y\"},{\"align\":\"center\",\"font\":{\"color\":\"#333333\",\"family\":\"Roboto\",\"size\":16},\"opacity\":0.9,\"showarrow\":false,\"text\":\"La\",\"x\":3.0,\"xref\":\"x\",\"y\":6.0,\"yref\":\"y\"},{\"align\":\"center\",\"font\":{\"color\":\"#333333\",\"family\":\"Roboto\",\"size\":16},\"opacity\":0.9,\"showarrow\":false,\"text\":\"Ce\",\"x\":3.0,\"xref\":\"x\",\"y\":8.5,\"yref\":\"y\"},{\"align\":\"center\",\"font\":{\"color\":\"#333333\",\"family\":\"Roboto\",\"size\":16},\"opacity\":0.9,\"showarrow\":false,\"text\":\"Pr\",\"x\":4.0,\"xref\":\"x\",\"y\":8.5,\"yref\":\"y\"},{\"align\":\"center\",\"font\":{\"color\":\"#333333\",\"family\":\"Roboto\",\"size\":16},\"opacity\":0.9,\"showarrow\":false,\"text\":\"Nd\",\"x\":5.0,\"xref\":\"x\",\"y\":8.5,\"yref\":\"y\"},{\"align\":\"center\",\"font\":{\"color\":\"#333333\",\"family\":\"Roboto\",\"size\":16},\"opacity\":0.9,\"showarrow\":false,\"text\":\"Pm\",\"x\":6.0,\"xref\":\"x\",\"y\":8.5,\"yref\":\"y\"},{\"align\":\"center\",\"font\":{\"color\":\"#333333\",\"family\":\"Roboto\",\"size\":16},\"opacity\":0.9,\"showarrow\":false,\"text\":\"Sm\",\"x\":7.0,\"xref\":\"x\",\"y\":8.5,\"yref\":\"y\"},{\"align\":\"center\",\"font\":{\"color\":\"#333333\",\"family\":\"Roboto\",\"size\":16},\"opacity\":0.9,\"showarrow\":false,\"text\":\"Eu\",\"x\":8.0,\"xref\":\"x\",\"y\":8.5,\"yref\":\"y\"},{\"align\":\"center\",\"font\":{\"color\":\"#333333\",\"family\":\"Roboto\",\"size\":16},\"opacity\":0.9,\"showarrow\":false,\"text\":\"Gd\",\"x\":9.0,\"xref\":\"x\",\"y\":8.5,\"yref\":\"y\"},{\"align\":\"center\",\"font\":{\"color\":\"#333333\",\"family\":\"Roboto\",\"size\":16},\"opacity\":0.9,\"showarrow\":false,\"text\":\"Tb\",\"x\":10.0,\"xref\":\"x\",\"y\":8.5,\"yref\":\"y\"},{\"align\":\"center\",\"font\":{\"color\":\"#333333\",\"family\":\"Roboto\",\"size\":16},\"opacity\":0.9,\"showarrow\":false,\"text\":\"Dy\",\"x\":11.0,\"xref\":\"x\",\"y\":8.5,\"yref\":\"y\"},{\"align\":\"center\",\"font\":{\"color\":\"#333333\",\"family\":\"Roboto\",\"size\":16},\"opacity\":0.9,\"showarrow\":false,\"text\":\"Ho\",\"x\":12.0,\"xref\":\"x\",\"y\":8.5,\"yref\":\"y\"},{\"align\":\"center\",\"font\":{\"color\":\"#333333\",\"family\":\"Roboto\",\"size\":16},\"opacity\":0.9,\"showarrow\":false,\"text\":\"Er\",\"x\":13.0,\"xref\":\"x\",\"y\":8.5,\"yref\":\"y\"},{\"align\":\"center\",\"font\":{\"color\":\"#333333\",\"family\":\"Roboto\",\"size\":16},\"opacity\":0.9,\"showarrow\":false,\"text\":\"Tm\",\"x\":14.0,\"xref\":\"x\",\"y\":8.5,\"yref\":\"y\"},{\"align\":\"center\",\"font\":{\"color\":\"#333333\",\"family\":\"Roboto\",\"size\":16},\"opacity\":0.9,\"showarrow\":false,\"text\":\"Yb\",\"x\":15.0,\"xref\":\"x\",\"y\":8.5,\"yref\":\"y\"},{\"align\":\"center\",\"font\":{\"color\":\"#333333\",\"family\":\"Roboto\",\"size\":16},\"opacity\":0.9,\"showarrow\":false,\"text\":\"Lu\",\"x\":16.0,\"xref\":\"x\",\"y\":8.5,\"yref\":\"y\"},{\"align\":\"center\",\"font\":{\"color\":\"#333333\",\"family\":\"Roboto\",\"size\":16},\"opacity\":0.9,\"showarrow\":false,\"text\":\"Hf\",\"x\":4.0,\"xref\":\"x\",\"y\":6.0,\"yref\":\"y\"},{\"align\":\"center\",\"font\":{\"color\":\"#333333\",\"family\":\"Roboto\",\"size\":16},\"opacity\":0.9,\"showarrow\":false,\"text\":\"Ta\",\"x\":5.0,\"xref\":\"x\",\"y\":6.0,\"yref\":\"y\"},{\"align\":\"center\",\"font\":{\"color\":\"#333333\",\"family\":\"Roboto\",\"size\":16},\"opacity\":0.9,\"showarrow\":false,\"text\":\"W\",\"x\":6.0,\"xref\":\"x\",\"y\":6.0,\"yref\":\"y\"},{\"align\":\"center\",\"font\":{\"color\":\"#333333\",\"family\":\"Roboto\",\"size\":16},\"opacity\":0.9,\"showarrow\":false,\"text\":\"Re\",\"x\":7.0,\"xref\":\"x\",\"y\":6.0,\"yref\":\"y\"},{\"align\":\"center\",\"font\":{\"color\":\"#333333\",\"family\":\"Roboto\",\"size\":16},\"opacity\":0.9,\"showarrow\":false,\"text\":\"Os\",\"x\":8.0,\"xref\":\"x\",\"y\":6.0,\"yref\":\"y\"},{\"align\":\"center\",\"font\":{\"color\":\"#333333\",\"family\":\"Roboto\",\"size\":16},\"opacity\":0.9,\"showarrow\":false,\"text\":\"Ir\",\"x\":9.0,\"xref\":\"x\",\"y\":6.0,\"yref\":\"y\"},{\"align\":\"center\",\"font\":{\"color\":\"#333333\",\"family\":\"Roboto\",\"size\":16},\"opacity\":0.9,\"showarrow\":false,\"text\":\"Pt\",\"x\":10.0,\"xref\":\"x\",\"y\":6.0,\"yref\":\"y\"},{\"align\":\"center\",\"font\":{\"color\":\"#333333\",\"family\":\"Roboto\",\"size\":16},\"opacity\":0.9,\"showarrow\":false,\"text\":\"Au\",\"x\":11.0,\"xref\":\"x\",\"y\":6.0,\"yref\":\"y\"},{\"align\":\"center\",\"font\":{\"color\":\"#333333\",\"family\":\"Roboto\",\"size\":16},\"opacity\":0.9,\"showarrow\":false,\"text\":\"Hg\",\"x\":12.0,\"xref\":\"x\",\"y\":6.0,\"yref\":\"y\"},{\"align\":\"center\",\"font\":{\"color\":\"#333333\",\"family\":\"Roboto\",\"size\":16},\"opacity\":0.9,\"showarrow\":false,\"text\":\"Tl\",\"x\":13.0,\"xref\":\"x\",\"y\":6.0,\"yref\":\"y\"},{\"align\":\"center\",\"font\":{\"color\":\"#333333\",\"family\":\"Roboto\",\"size\":16},\"opacity\":0.9,\"showarrow\":false,\"text\":\"Pb\",\"x\":14.0,\"xref\":\"x\",\"y\":6.0,\"yref\":\"y\"},{\"align\":\"center\",\"font\":{\"color\":\"#333333\",\"family\":\"Roboto\",\"size\":16},\"opacity\":0.9,\"showarrow\":false,\"text\":\"Bi\",\"x\":15.0,\"xref\":\"x\",\"y\":6.0,\"yref\":\"y\"},{\"align\":\"center\",\"font\":{\"color\":\"#333333\",\"family\":\"Roboto\",\"size\":16},\"opacity\":0.9,\"showarrow\":false,\"text\":\"Po\",\"x\":16.0,\"xref\":\"x\",\"y\":6.0,\"yref\":\"y\"},{\"align\":\"center\",\"font\":{\"color\":\"#333333\",\"family\":\"Roboto\",\"size\":16},\"opacity\":0.9,\"showarrow\":false,\"text\":\"At\",\"x\":17.0,\"xref\":\"x\",\"y\":6.0,\"yref\":\"y\"},{\"align\":\"center\",\"font\":{\"color\":\"#333333\",\"family\":\"Roboto\",\"size\":16},\"opacity\":0.9,\"showarrow\":false,\"text\":\"Rn\",\"x\":18.0,\"xref\":\"x\",\"y\":6.0,\"yref\":\"y\"},{\"align\":\"center\",\"font\":{\"color\":\"#333333\",\"family\":\"Roboto\",\"size\":16},\"opacity\":0.9,\"showarrow\":false,\"text\":\"Fr\",\"x\":1.0,\"xref\":\"x\",\"y\":7.0,\"yref\":\"y\"},{\"align\":\"center\",\"font\":{\"color\":\"#333333\",\"family\":\"Roboto\",\"size\":16},\"opacity\":0.9,\"showarrow\":false,\"text\":\"Ra\",\"x\":2.0,\"xref\":\"x\",\"y\":7.0,\"yref\":\"y\"},{\"align\":\"center\",\"font\":{\"color\":\"#333333\",\"family\":\"Roboto\",\"size\":16},\"opacity\":0.9,\"showarrow\":false,\"text\":\"Ac\",\"x\":3.0,\"xref\":\"x\",\"y\":7.0,\"yref\":\"y\"},{\"align\":\"center\",\"font\":{\"color\":\"#333333\",\"family\":\"Roboto\",\"size\":16},\"opacity\":0.9,\"showarrow\":false,\"text\":\"Th\",\"x\":3.0,\"xref\":\"x\",\"y\":9.5,\"yref\":\"y\"},{\"align\":\"center\",\"font\":{\"color\":\"#333333\",\"family\":\"Roboto\",\"size\":16},\"opacity\":0.9,\"showarrow\":false,\"text\":\"Pa\",\"x\":4.0,\"xref\":\"x\",\"y\":9.5,\"yref\":\"y\"},{\"align\":\"center\",\"font\":{\"color\":\"#333333\",\"family\":\"Roboto\",\"size\":16},\"opacity\":0.9,\"showarrow\":false,\"text\":\"U\",\"x\":5.0,\"xref\":\"x\",\"y\":9.5,\"yref\":\"y\"},{\"align\":\"center\",\"font\":{\"color\":\"#333333\",\"family\":\"Roboto\",\"size\":16},\"opacity\":0.9,\"showarrow\":false,\"text\":\"Np\",\"x\":6.0,\"xref\":\"x\",\"y\":9.5,\"yref\":\"y\"},{\"align\":\"center\",\"font\":{\"color\":\"#333333\",\"family\":\"Roboto\",\"size\":16},\"opacity\":0.9,\"showarrow\":false,\"text\":\"Pu\",\"x\":7.0,\"xref\":\"x\",\"y\":9.5,\"yref\":\"y\"},{\"align\":\"center\",\"font\":{\"color\":\"#333333\",\"family\":\"Roboto\",\"size\":16},\"opacity\":0.9,\"showarrow\":false,\"text\":\"Am\",\"x\":8.0,\"xref\":\"x\",\"y\":9.5,\"yref\":\"y\"},{\"align\":\"center\",\"font\":{\"color\":\"#333333\",\"family\":\"Roboto\",\"size\":16},\"opacity\":0.9,\"showarrow\":false,\"text\":\"Cm\",\"x\":9.0,\"xref\":\"x\",\"y\":9.5,\"yref\":\"y\"},{\"align\":\"center\",\"font\":{\"color\":\"#333333\",\"family\":\"Roboto\",\"size\":16},\"opacity\":0.9,\"showarrow\":false,\"text\":\"Bk\",\"x\":10.0,\"xref\":\"x\",\"y\":9.5,\"yref\":\"y\"},{\"align\":\"center\",\"font\":{\"color\":\"#333333\",\"family\":\"Roboto\",\"size\":16},\"opacity\":0.9,\"showarrow\":false,\"text\":\"Cf\",\"x\":11.0,\"xref\":\"x\",\"y\":9.5,\"yref\":\"y\"},{\"align\":\"center\",\"font\":{\"color\":\"#333333\",\"family\":\"Roboto\",\"size\":16},\"opacity\":0.9,\"showarrow\":false,\"text\":\"Es\",\"x\":12.0,\"xref\":\"x\",\"y\":9.5,\"yref\":\"y\"},{\"align\":\"center\",\"font\":{\"color\":\"#333333\",\"family\":\"Roboto\",\"size\":16},\"opacity\":0.9,\"showarrow\":false,\"text\":\"Fm\",\"x\":13.0,\"xref\":\"x\",\"y\":9.5,\"yref\":\"y\"},{\"align\":\"center\",\"font\":{\"color\":\"#333333\",\"family\":\"Roboto\",\"size\":16},\"opacity\":0.9,\"showarrow\":false,\"text\":\"Md\",\"x\":14.0,\"xref\":\"x\",\"y\":9.5,\"yref\":\"y\"},{\"align\":\"center\",\"font\":{\"color\":\"#333333\",\"family\":\"Roboto\",\"size\":16},\"opacity\":0.9,\"showarrow\":false,\"text\":\"No\",\"x\":15.0,\"xref\":\"x\",\"y\":9.5,\"yref\":\"y\"},{\"align\":\"center\",\"font\":{\"color\":\"#333333\",\"family\":\"Roboto\",\"size\":16},\"opacity\":0.9,\"showarrow\":false,\"text\":\"Lr\",\"x\":16.0,\"xref\":\"x\",\"y\":9.5,\"yref\":\"y\"},{\"align\":\"center\",\"font\":{\"color\":\"#333333\",\"family\":\"Roboto\",\"size\":16},\"opacity\":0.9,\"showarrow\":false,\"text\":\"Rf\",\"x\":4.0,\"xref\":\"x\",\"y\":7.0,\"yref\":\"y\"},{\"align\":\"center\",\"font\":{\"color\":\"#333333\",\"family\":\"Roboto\",\"size\":16},\"opacity\":0.9,\"showarrow\":false,\"text\":\"Db\",\"x\":5.0,\"xref\":\"x\",\"y\":7.0,\"yref\":\"y\"},{\"align\":\"center\",\"font\":{\"color\":\"#333333\",\"family\":\"Roboto\",\"size\":16},\"opacity\":0.9,\"showarrow\":false,\"text\":\"Sg\",\"x\":6.0,\"xref\":\"x\",\"y\":7.0,\"yref\":\"y\"},{\"align\":\"center\",\"font\":{\"color\":\"#333333\",\"family\":\"Roboto\",\"size\":16},\"opacity\":0.9,\"showarrow\":false,\"text\":\"Bh\",\"x\":7.0,\"xref\":\"x\",\"y\":7.0,\"yref\":\"y\"},{\"align\":\"center\",\"font\":{\"color\":\"#333333\",\"family\":\"Roboto\",\"size\":16},\"opacity\":0.9,\"showarrow\":false,\"text\":\"Hs\",\"x\":8.0,\"xref\":\"x\",\"y\":7.0,\"yref\":\"y\"},{\"align\":\"center\",\"font\":{\"color\":\"#333333\",\"family\":\"Roboto\",\"size\":16},\"opacity\":0.9,\"showarrow\":false,\"text\":\"Mt\",\"x\":9.0,\"xref\":\"x\",\"y\":7.0,\"yref\":\"y\"},{\"align\":\"center\",\"font\":{\"color\":\"#333333\",\"family\":\"Roboto\",\"size\":16},\"opacity\":0.9,\"showarrow\":false,\"text\":\"Ds\",\"x\":10.0,\"xref\":\"x\",\"y\":7.0,\"yref\":\"y\"},{\"align\":\"center\",\"font\":{\"color\":\"#333333\",\"family\":\"Roboto\",\"size\":16},\"opacity\":0.9,\"showarrow\":false,\"text\":\"Rg\",\"x\":11.0,\"xref\":\"x\",\"y\":7.0,\"yref\":\"y\"},{\"align\":\"center\",\"font\":{\"color\":\"#333333\",\"family\":\"Roboto\",\"size\":16},\"opacity\":0.9,\"showarrow\":false,\"text\":\"Cn\",\"x\":12.0,\"xref\":\"x\",\"y\":7.0,\"yref\":\"y\"},{\"align\":\"center\",\"font\":{\"color\":\"#333333\",\"family\":\"Roboto\",\"size\":16},\"opacity\":0.9,\"showarrow\":false,\"text\":\"Nh\",\"x\":13.0,\"xref\":\"x\",\"y\":7.0,\"yref\":\"y\"},{\"align\":\"center\",\"font\":{\"color\":\"#333333\",\"family\":\"Roboto\",\"size\":16},\"opacity\":0.9,\"showarrow\":false,\"text\":\"Fl\",\"x\":14.0,\"xref\":\"x\",\"y\":7.0,\"yref\":\"y\"},{\"align\":\"center\",\"font\":{\"color\":\"#333333\",\"family\":\"Roboto\",\"size\":16},\"opacity\":0.9,\"showarrow\":false,\"text\":\"Mc\",\"x\":15.0,\"xref\":\"x\",\"y\":7.0,\"yref\":\"y\"},{\"align\":\"center\",\"font\":{\"color\":\"#333333\",\"family\":\"Roboto\",\"size\":16},\"opacity\":0.9,\"showarrow\":false,\"text\":\"Lv\",\"x\":16.0,\"xref\":\"x\",\"y\":7.0,\"yref\":\"y\"},{\"align\":\"center\",\"font\":{\"color\":\"#333333\",\"family\":\"Roboto\",\"size\":16},\"opacity\":0.9,\"showarrow\":false,\"text\":\"Ts\",\"x\":17.0,\"xref\":\"x\",\"y\":7.0,\"yref\":\"y\"},{\"align\":\"center\",\"font\":{\"color\":\"#333333\",\"family\":\"Roboto\",\"size\":16},\"opacity\":0.9,\"showarrow\":false,\"text\":\"Og\",\"x\":18.0,\"xref\":\"x\",\"y\":7.0,\"yref\":\"y\"},{\"align\":\"center\",\"font\":{\"color\":\"#333333\",\"family\":\"Roboto\",\"size\":10},\"opacity\":0.9,\"showarrow\":false,\"text\":\"1\",\"x\":1.0,\"xref\":\"x\",\"y\":0.7,\"yref\":\"y\"},{\"align\":\"center\",\"font\":{\"color\":\"#333333\",\"family\":\"Roboto\",\"size\":10},\"opacity\":0.9,\"showarrow\":false,\"text\":\"2\",\"x\":18.0,\"xref\":\"x\",\"y\":0.7,\"yref\":\"y\"},{\"align\":\"center\",\"font\":{\"color\":\"#333333\",\"family\":\"Roboto\",\"size\":10},\"opacity\":0.9,\"showarrow\":false,\"text\":\"3\",\"x\":1.0,\"xref\":\"x\",\"y\":1.7,\"yref\":\"y\"},{\"align\":\"center\",\"font\":{\"color\":\"#333333\",\"family\":\"Roboto\",\"size\":10},\"opacity\":0.9,\"showarrow\":false,\"text\":\"4\",\"x\":2.0,\"xref\":\"x\",\"y\":1.7,\"yref\":\"y\"},{\"align\":\"center\",\"font\":{\"color\":\"#333333\",\"family\":\"Roboto\",\"size\":10},\"opacity\":0.9,\"showarrow\":false,\"text\":\"5\",\"x\":13.0,\"xref\":\"x\",\"y\":1.7,\"yref\":\"y\"},{\"align\":\"center\",\"font\":{\"color\":\"#333333\",\"family\":\"Roboto\",\"size\":10},\"opacity\":0.9,\"showarrow\":false,\"text\":\"6\",\"x\":14.0,\"xref\":\"x\",\"y\":1.7,\"yref\":\"y\"},{\"align\":\"center\",\"font\":{\"color\":\"#333333\",\"family\":\"Roboto\",\"size\":10},\"opacity\":0.9,\"showarrow\":false,\"text\":\"7\",\"x\":15.0,\"xref\":\"x\",\"y\":1.7,\"yref\":\"y\"},{\"align\":\"center\",\"font\":{\"color\":\"#333333\",\"family\":\"Roboto\",\"size\":10},\"opacity\":0.9,\"showarrow\":false,\"text\":\"8\",\"x\":16.0,\"xref\":\"x\",\"y\":1.7,\"yref\":\"y\"},{\"align\":\"center\",\"font\":{\"color\":\"#333333\",\"family\":\"Roboto\",\"size\":10},\"opacity\":0.9,\"showarrow\":false,\"text\":\"9\",\"x\":17.0,\"xref\":\"x\",\"y\":1.7,\"yref\":\"y\"},{\"align\":\"center\",\"font\":{\"color\":\"#333333\",\"family\":\"Roboto\",\"size\":10},\"opacity\":0.9,\"showarrow\":false,\"text\":\"10\",\"x\":18.0,\"xref\":\"x\",\"y\":1.7,\"yref\":\"y\"},{\"align\":\"center\",\"font\":{\"color\":\"#333333\",\"family\":\"Roboto\",\"size\":10},\"opacity\":0.9,\"showarrow\":false,\"text\":\"11\",\"x\":1.0,\"xref\":\"x\",\"y\":2.7,\"yref\":\"y\"},{\"align\":\"center\",\"font\":{\"color\":\"#333333\",\"family\":\"Roboto\",\"size\":10},\"opacity\":0.9,\"showarrow\":false,\"text\":\"12\",\"x\":2.0,\"xref\":\"x\",\"y\":2.7,\"yref\":\"y\"},{\"align\":\"center\",\"font\":{\"color\":\"#333333\",\"family\":\"Roboto\",\"size\":10},\"opacity\":0.9,\"showarrow\":false,\"text\":\"13\",\"x\":13.0,\"xref\":\"x\",\"y\":2.7,\"yref\":\"y\"},{\"align\":\"center\",\"font\":{\"color\":\"#333333\",\"family\":\"Roboto\",\"size\":10},\"opacity\":0.9,\"showarrow\":false,\"text\":\"14\",\"x\":14.0,\"xref\":\"x\",\"y\":2.7,\"yref\":\"y\"},{\"align\":\"center\",\"font\":{\"color\":\"#333333\",\"family\":\"Roboto\",\"size\":10},\"opacity\":0.9,\"showarrow\":false,\"text\":\"15\",\"x\":15.0,\"xref\":\"x\",\"y\":2.7,\"yref\":\"y\"},{\"align\":\"center\",\"font\":{\"color\":\"#333333\",\"family\":\"Roboto\",\"size\":10},\"opacity\":0.9,\"showarrow\":false,\"text\":\"16\",\"x\":16.0,\"xref\":\"x\",\"y\":2.7,\"yref\":\"y\"},{\"align\":\"center\",\"font\":{\"color\":\"#333333\",\"family\":\"Roboto\",\"size\":10},\"opacity\":0.9,\"showarrow\":false,\"text\":\"17\",\"x\":17.0,\"xref\":\"x\",\"y\":2.7,\"yref\":\"y\"},{\"align\":\"center\",\"font\":{\"color\":\"#333333\",\"family\":\"Roboto\",\"size\":10},\"opacity\":0.9,\"showarrow\":false,\"text\":\"18\",\"x\":18.0,\"xref\":\"x\",\"y\":2.7,\"yref\":\"y\"},{\"align\":\"center\",\"font\":{\"color\":\"#333333\",\"family\":\"Roboto\",\"size\":10},\"opacity\":0.9,\"showarrow\":false,\"text\":\"19\",\"x\":1.0,\"xref\":\"x\",\"y\":3.7,\"yref\":\"y\"},{\"align\":\"center\",\"font\":{\"color\":\"#333333\",\"family\":\"Roboto\",\"size\":10},\"opacity\":0.9,\"showarrow\":false,\"text\":\"20\",\"x\":2.0,\"xref\":\"x\",\"y\":3.7,\"yref\":\"y\"},{\"align\":\"center\",\"font\":{\"color\":\"#333333\",\"family\":\"Roboto\",\"size\":10},\"opacity\":0.9,\"showarrow\":false,\"text\":\"21\",\"x\":3.0,\"xref\":\"x\",\"y\":3.7,\"yref\":\"y\"},{\"align\":\"center\",\"font\":{\"color\":\"#333333\",\"family\":\"Roboto\",\"size\":10},\"opacity\":0.9,\"showarrow\":false,\"text\":\"22\",\"x\":4.0,\"xref\":\"x\",\"y\":3.7,\"yref\":\"y\"},{\"align\":\"center\",\"font\":{\"color\":\"#333333\",\"family\":\"Roboto\",\"size\":10},\"opacity\":0.9,\"showarrow\":false,\"text\":\"23\",\"x\":5.0,\"xref\":\"x\",\"y\":3.7,\"yref\":\"y\"},{\"align\":\"center\",\"font\":{\"color\":\"#333333\",\"family\":\"Roboto\",\"size\":10},\"opacity\":0.9,\"showarrow\":false,\"text\":\"24\",\"x\":6.0,\"xref\":\"x\",\"y\":3.7,\"yref\":\"y\"},{\"align\":\"center\",\"font\":{\"color\":\"#333333\",\"family\":\"Roboto\",\"size\":10},\"opacity\":0.9,\"showarrow\":false,\"text\":\"25\",\"x\":7.0,\"xref\":\"x\",\"y\":3.7,\"yref\":\"y\"},{\"align\":\"center\",\"font\":{\"color\":\"#333333\",\"family\":\"Roboto\",\"size\":10},\"opacity\":0.9,\"showarrow\":false,\"text\":\"26\",\"x\":8.0,\"xref\":\"x\",\"y\":3.7,\"yref\":\"y\"},{\"align\":\"center\",\"font\":{\"color\":\"#333333\",\"family\":\"Roboto\",\"size\":10},\"opacity\":0.9,\"showarrow\":false,\"text\":\"27\",\"x\":9.0,\"xref\":\"x\",\"y\":3.7,\"yref\":\"y\"},{\"align\":\"center\",\"font\":{\"color\":\"#333333\",\"family\":\"Roboto\",\"size\":10},\"opacity\":0.9,\"showarrow\":false,\"text\":\"28\",\"x\":10.0,\"xref\":\"x\",\"y\":3.7,\"yref\":\"y\"},{\"align\":\"center\",\"font\":{\"color\":\"#333333\",\"family\":\"Roboto\",\"size\":10},\"opacity\":0.9,\"showarrow\":false,\"text\":\"29\",\"x\":11.0,\"xref\":\"x\",\"y\":3.7,\"yref\":\"y\"},{\"align\":\"center\",\"font\":{\"color\":\"#333333\",\"family\":\"Roboto\",\"size\":10},\"opacity\":0.9,\"showarrow\":false,\"text\":\"30\",\"x\":12.0,\"xref\":\"x\",\"y\":3.7,\"yref\":\"y\"},{\"align\":\"center\",\"font\":{\"color\":\"#333333\",\"family\":\"Roboto\",\"size\":10},\"opacity\":0.9,\"showarrow\":false,\"text\":\"31\",\"x\":13.0,\"xref\":\"x\",\"y\":3.7,\"yref\":\"y\"},{\"align\":\"center\",\"font\":{\"color\":\"#333333\",\"family\":\"Roboto\",\"size\":10},\"opacity\":0.9,\"showarrow\":false,\"text\":\"32\",\"x\":14.0,\"xref\":\"x\",\"y\":3.7,\"yref\":\"y\"},{\"align\":\"center\",\"font\":{\"color\":\"#333333\",\"family\":\"Roboto\",\"size\":10},\"opacity\":0.9,\"showarrow\":false,\"text\":\"33\",\"x\":15.0,\"xref\":\"x\",\"y\":3.7,\"yref\":\"y\"},{\"align\":\"center\",\"font\":{\"color\":\"#333333\",\"family\":\"Roboto\",\"size\":10},\"opacity\":0.9,\"showarrow\":false,\"text\":\"34\",\"x\":16.0,\"xref\":\"x\",\"y\":3.7,\"yref\":\"y\"},{\"align\":\"center\",\"font\":{\"color\":\"#333333\",\"family\":\"Roboto\",\"size\":10},\"opacity\":0.9,\"showarrow\":false,\"text\":\"35\",\"x\":17.0,\"xref\":\"x\",\"y\":3.7,\"yref\":\"y\"},{\"align\":\"center\",\"font\":{\"color\":\"#333333\",\"family\":\"Roboto\",\"size\":10},\"opacity\":0.9,\"showarrow\":false,\"text\":\"36\",\"x\":18.0,\"xref\":\"x\",\"y\":3.7,\"yref\":\"y\"},{\"align\":\"center\",\"font\":{\"color\":\"#333333\",\"family\":\"Roboto\",\"size\":10},\"opacity\":0.9,\"showarrow\":false,\"text\":\"37\",\"x\":1.0,\"xref\":\"x\",\"y\":4.7,\"yref\":\"y\"},{\"align\":\"center\",\"font\":{\"color\":\"#333333\",\"family\":\"Roboto\",\"size\":10},\"opacity\":0.9,\"showarrow\":false,\"text\":\"38\",\"x\":2.0,\"xref\":\"x\",\"y\":4.7,\"yref\":\"y\"},{\"align\":\"center\",\"font\":{\"color\":\"#333333\",\"family\":\"Roboto\",\"size\":10},\"opacity\":0.9,\"showarrow\":false,\"text\":\"39\",\"x\":3.0,\"xref\":\"x\",\"y\":4.7,\"yref\":\"y\"},{\"align\":\"center\",\"font\":{\"color\":\"#333333\",\"family\":\"Roboto\",\"size\":10},\"opacity\":0.9,\"showarrow\":false,\"text\":\"40\",\"x\":4.0,\"xref\":\"x\",\"y\":4.7,\"yref\":\"y\"},{\"align\":\"center\",\"font\":{\"color\":\"#333333\",\"family\":\"Roboto\",\"size\":10},\"opacity\":0.9,\"showarrow\":false,\"text\":\"41\",\"x\":5.0,\"xref\":\"x\",\"y\":4.7,\"yref\":\"y\"},{\"align\":\"center\",\"font\":{\"color\":\"#333333\",\"family\":\"Roboto\",\"size\":10},\"opacity\":0.9,\"showarrow\":false,\"text\":\"42\",\"x\":6.0,\"xref\":\"x\",\"y\":4.7,\"yref\":\"y\"},{\"align\":\"center\",\"font\":{\"color\":\"#333333\",\"family\":\"Roboto\",\"size\":10},\"opacity\":0.9,\"showarrow\":false,\"text\":\"43\",\"x\":7.0,\"xref\":\"x\",\"y\":4.7,\"yref\":\"y\"},{\"align\":\"center\",\"font\":{\"color\":\"#333333\",\"family\":\"Roboto\",\"size\":10},\"opacity\":0.9,\"showarrow\":false,\"text\":\"44\",\"x\":8.0,\"xref\":\"x\",\"y\":4.7,\"yref\":\"y\"},{\"align\":\"center\",\"font\":{\"color\":\"#333333\",\"family\":\"Roboto\",\"size\":10},\"opacity\":0.9,\"showarrow\":false,\"text\":\"45\",\"x\":9.0,\"xref\":\"x\",\"y\":4.7,\"yref\":\"y\"},{\"align\":\"center\",\"font\":{\"color\":\"#333333\",\"family\":\"Roboto\",\"size\":10},\"opacity\":0.9,\"showarrow\":false,\"text\":\"46\",\"x\":10.0,\"xref\":\"x\",\"y\":4.7,\"yref\":\"y\"},{\"align\":\"center\",\"font\":{\"color\":\"#333333\",\"family\":\"Roboto\",\"size\":10},\"opacity\":0.9,\"showarrow\":false,\"text\":\"47\",\"x\":11.0,\"xref\":\"x\",\"y\":4.7,\"yref\":\"y\"},{\"align\":\"center\",\"font\":{\"color\":\"#333333\",\"family\":\"Roboto\",\"size\":10},\"opacity\":0.9,\"showarrow\":false,\"text\":\"48\",\"x\":12.0,\"xref\":\"x\",\"y\":4.7,\"yref\":\"y\"},{\"align\":\"center\",\"font\":{\"color\":\"#333333\",\"family\":\"Roboto\",\"size\":10},\"opacity\":0.9,\"showarrow\":false,\"text\":\"49\",\"x\":13.0,\"xref\":\"x\",\"y\":4.7,\"yref\":\"y\"},{\"align\":\"center\",\"font\":{\"color\":\"#333333\",\"family\":\"Roboto\",\"size\":10},\"opacity\":0.9,\"showarrow\":false,\"text\":\"50\",\"x\":14.0,\"xref\":\"x\",\"y\":4.7,\"yref\":\"y\"},{\"align\":\"center\",\"font\":{\"color\":\"#333333\",\"family\":\"Roboto\",\"size\":10},\"opacity\":0.9,\"showarrow\":false,\"text\":\"51\",\"x\":15.0,\"xref\":\"x\",\"y\":4.7,\"yref\":\"y\"},{\"align\":\"center\",\"font\":{\"color\":\"#333333\",\"family\":\"Roboto\",\"size\":10},\"opacity\":0.9,\"showarrow\":false,\"text\":\"52\",\"x\":16.0,\"xref\":\"x\",\"y\":4.7,\"yref\":\"y\"},{\"align\":\"center\",\"font\":{\"color\":\"#333333\",\"family\":\"Roboto\",\"size\":10},\"opacity\":0.9,\"showarrow\":false,\"text\":\"53\",\"x\":17.0,\"xref\":\"x\",\"y\":4.7,\"yref\":\"y\"},{\"align\":\"center\",\"font\":{\"color\":\"#333333\",\"family\":\"Roboto\",\"size\":10},\"opacity\":0.9,\"showarrow\":false,\"text\":\"54\",\"x\":18.0,\"xref\":\"x\",\"y\":4.7,\"yref\":\"y\"},{\"align\":\"center\",\"font\":{\"color\":\"#333333\",\"family\":\"Roboto\",\"size\":10},\"opacity\":0.9,\"showarrow\":false,\"text\":\"55\",\"x\":1.0,\"xref\":\"x\",\"y\":5.7,\"yref\":\"y\"},{\"align\":\"center\",\"font\":{\"color\":\"#333333\",\"family\":\"Roboto\",\"size\":10},\"opacity\":0.9,\"showarrow\":false,\"text\":\"56\",\"x\":2.0,\"xref\":\"x\",\"y\":5.7,\"yref\":\"y\"},{\"align\":\"center\",\"font\":{\"color\":\"#333333\",\"family\":\"Roboto\",\"size\":10},\"opacity\":0.9,\"showarrow\":false,\"text\":\"57\",\"x\":3.0,\"xref\":\"x\",\"y\":5.7,\"yref\":\"y\"},{\"align\":\"center\",\"font\":{\"color\":\"#333333\",\"family\":\"Roboto\",\"size\":10},\"opacity\":0.9,\"showarrow\":false,\"text\":\"58\",\"x\":3.0,\"xref\":\"x\",\"y\":8.2,\"yref\":\"y\"},{\"align\":\"center\",\"font\":{\"color\":\"#333333\",\"family\":\"Roboto\",\"size\":10},\"opacity\":0.9,\"showarrow\":false,\"text\":\"59\",\"x\":4.0,\"xref\":\"x\",\"y\":8.2,\"yref\":\"y\"},{\"align\":\"center\",\"font\":{\"color\":\"#333333\",\"family\":\"Roboto\",\"size\":10},\"opacity\":0.9,\"showarrow\":false,\"text\":\"60\",\"x\":5.0,\"xref\":\"x\",\"y\":8.2,\"yref\":\"y\"},{\"align\":\"center\",\"font\":{\"color\":\"#333333\",\"family\":\"Roboto\",\"size\":10},\"opacity\":0.9,\"showarrow\":false,\"text\":\"61\",\"x\":6.0,\"xref\":\"x\",\"y\":8.2,\"yref\":\"y\"},{\"align\":\"center\",\"font\":{\"color\":\"#333333\",\"family\":\"Roboto\",\"size\":10},\"opacity\":0.9,\"showarrow\":false,\"text\":\"62\",\"x\":7.0,\"xref\":\"x\",\"y\":8.2,\"yref\":\"y\"},{\"align\":\"center\",\"font\":{\"color\":\"#333333\",\"family\":\"Roboto\",\"size\":10},\"opacity\":0.9,\"showarrow\":false,\"text\":\"63\",\"x\":8.0,\"xref\":\"x\",\"y\":8.2,\"yref\":\"y\"},{\"align\":\"center\",\"font\":{\"color\":\"#333333\",\"family\":\"Roboto\",\"size\":10},\"opacity\":0.9,\"showarrow\":false,\"text\":\"64\",\"x\":9.0,\"xref\":\"x\",\"y\":8.2,\"yref\":\"y\"},{\"align\":\"center\",\"font\":{\"color\":\"#333333\",\"family\":\"Roboto\",\"size\":10},\"opacity\":0.9,\"showarrow\":false,\"text\":\"65\",\"x\":10.0,\"xref\":\"x\",\"y\":8.2,\"yref\":\"y\"},{\"align\":\"center\",\"font\":{\"color\":\"#333333\",\"family\":\"Roboto\",\"size\":10},\"opacity\":0.9,\"showarrow\":false,\"text\":\"66\",\"x\":11.0,\"xref\":\"x\",\"y\":8.2,\"yref\":\"y\"},{\"align\":\"center\",\"font\":{\"color\":\"#333333\",\"family\":\"Roboto\",\"size\":10},\"opacity\":0.9,\"showarrow\":false,\"text\":\"67\",\"x\":12.0,\"xref\":\"x\",\"y\":8.2,\"yref\":\"y\"},{\"align\":\"center\",\"font\":{\"color\":\"#333333\",\"family\":\"Roboto\",\"size\":10},\"opacity\":0.9,\"showarrow\":false,\"text\":\"68\",\"x\":13.0,\"xref\":\"x\",\"y\":8.2,\"yref\":\"y\"},{\"align\":\"center\",\"font\":{\"color\":\"#333333\",\"family\":\"Roboto\",\"size\":10},\"opacity\":0.9,\"showarrow\":false,\"text\":\"69\",\"x\":14.0,\"xref\":\"x\",\"y\":8.2,\"yref\":\"y\"},{\"align\":\"center\",\"font\":{\"color\":\"#333333\",\"family\":\"Roboto\",\"size\":10},\"opacity\":0.9,\"showarrow\":false,\"text\":\"70\",\"x\":15.0,\"xref\":\"x\",\"y\":8.2,\"yref\":\"y\"},{\"align\":\"center\",\"font\":{\"color\":\"#333333\",\"family\":\"Roboto\",\"size\":10},\"opacity\":0.9,\"showarrow\":false,\"text\":\"71\",\"x\":16.0,\"xref\":\"x\",\"y\":8.2,\"yref\":\"y\"},{\"align\":\"center\",\"font\":{\"color\":\"#333333\",\"family\":\"Roboto\",\"size\":10},\"opacity\":0.9,\"showarrow\":false,\"text\":\"72\",\"x\":4.0,\"xref\":\"x\",\"y\":5.7,\"yref\":\"y\"},{\"align\":\"center\",\"font\":{\"color\":\"#333333\",\"family\":\"Roboto\",\"size\":10},\"opacity\":0.9,\"showarrow\":false,\"text\":\"73\",\"x\":5.0,\"xref\":\"x\",\"y\":5.7,\"yref\":\"y\"},{\"align\":\"center\",\"font\":{\"color\":\"#333333\",\"family\":\"Roboto\",\"size\":10},\"opacity\":0.9,\"showarrow\":false,\"text\":\"74\",\"x\":6.0,\"xref\":\"x\",\"y\":5.7,\"yref\":\"y\"},{\"align\":\"center\",\"font\":{\"color\":\"#333333\",\"family\":\"Roboto\",\"size\":10},\"opacity\":0.9,\"showarrow\":false,\"text\":\"75\",\"x\":7.0,\"xref\":\"x\",\"y\":5.7,\"yref\":\"y\"},{\"align\":\"center\",\"font\":{\"color\":\"#333333\",\"family\":\"Roboto\",\"size\":10},\"opacity\":0.9,\"showarrow\":false,\"text\":\"76\",\"x\":8.0,\"xref\":\"x\",\"y\":5.7,\"yref\":\"y\"},{\"align\":\"center\",\"font\":{\"color\":\"#333333\",\"family\":\"Roboto\",\"size\":10},\"opacity\":0.9,\"showarrow\":false,\"text\":\"77\",\"x\":9.0,\"xref\":\"x\",\"y\":5.7,\"yref\":\"y\"},{\"align\":\"center\",\"font\":{\"color\":\"#333333\",\"family\":\"Roboto\",\"size\":10},\"opacity\":0.9,\"showarrow\":false,\"text\":\"78\",\"x\":10.0,\"xref\":\"x\",\"y\":5.7,\"yref\":\"y\"},{\"align\":\"center\",\"font\":{\"color\":\"#333333\",\"family\":\"Roboto\",\"size\":10},\"opacity\":0.9,\"showarrow\":false,\"text\":\"79\",\"x\":11.0,\"xref\":\"x\",\"y\":5.7,\"yref\":\"y\"},{\"align\":\"center\",\"font\":{\"color\":\"#333333\",\"family\":\"Roboto\",\"size\":10},\"opacity\":0.9,\"showarrow\":false,\"text\":\"80\",\"x\":12.0,\"xref\":\"x\",\"y\":5.7,\"yref\":\"y\"},{\"align\":\"center\",\"font\":{\"color\":\"#333333\",\"family\":\"Roboto\",\"size\":10},\"opacity\":0.9,\"showarrow\":false,\"text\":\"81\",\"x\":13.0,\"xref\":\"x\",\"y\":5.7,\"yref\":\"y\"},{\"align\":\"center\",\"font\":{\"color\":\"#333333\",\"family\":\"Roboto\",\"size\":10},\"opacity\":0.9,\"showarrow\":false,\"text\":\"82\",\"x\":14.0,\"xref\":\"x\",\"y\":5.7,\"yref\":\"y\"},{\"align\":\"center\",\"font\":{\"color\":\"#333333\",\"family\":\"Roboto\",\"size\":10},\"opacity\":0.9,\"showarrow\":false,\"text\":\"83\",\"x\":15.0,\"xref\":\"x\",\"y\":5.7,\"yref\":\"y\"},{\"align\":\"center\",\"font\":{\"color\":\"#333333\",\"family\":\"Roboto\",\"size\":10},\"opacity\":0.9,\"showarrow\":false,\"text\":\"84\",\"x\":16.0,\"xref\":\"x\",\"y\":5.7,\"yref\":\"y\"},{\"align\":\"center\",\"font\":{\"color\":\"#333333\",\"family\":\"Roboto\",\"size\":10},\"opacity\":0.9,\"showarrow\":false,\"text\":\"85\",\"x\":17.0,\"xref\":\"x\",\"y\":5.7,\"yref\":\"y\"},{\"align\":\"center\",\"font\":{\"color\":\"#333333\",\"family\":\"Roboto\",\"size\":10},\"opacity\":0.9,\"showarrow\":false,\"text\":\"86\",\"x\":18.0,\"xref\":\"x\",\"y\":5.7,\"yref\":\"y\"},{\"align\":\"center\",\"font\":{\"color\":\"#333333\",\"family\":\"Roboto\",\"size\":10},\"opacity\":0.9,\"showarrow\":false,\"text\":\"87\",\"x\":1.0,\"xref\":\"x\",\"y\":6.7,\"yref\":\"y\"},{\"align\":\"center\",\"font\":{\"color\":\"#333333\",\"family\":\"Roboto\",\"size\":10},\"opacity\":0.9,\"showarrow\":false,\"text\":\"88\",\"x\":2.0,\"xref\":\"x\",\"y\":6.7,\"yref\":\"y\"},{\"align\":\"center\",\"font\":{\"color\":\"#333333\",\"family\":\"Roboto\",\"size\":10},\"opacity\":0.9,\"showarrow\":false,\"text\":\"89\",\"x\":3.0,\"xref\":\"x\",\"y\":6.7,\"yref\":\"y\"},{\"align\":\"center\",\"font\":{\"color\":\"#333333\",\"family\":\"Roboto\",\"size\":10},\"opacity\":0.9,\"showarrow\":false,\"text\":\"90\",\"x\":3.0,\"xref\":\"x\",\"y\":9.2,\"yref\":\"y\"},{\"align\":\"center\",\"font\":{\"color\":\"#333333\",\"family\":\"Roboto\",\"size\":10},\"opacity\":0.9,\"showarrow\":false,\"text\":\"91\",\"x\":4.0,\"xref\":\"x\",\"y\":9.2,\"yref\":\"y\"},{\"align\":\"center\",\"font\":{\"color\":\"#333333\",\"family\":\"Roboto\",\"size\":10},\"opacity\":0.9,\"showarrow\":false,\"text\":\"92\",\"x\":5.0,\"xref\":\"x\",\"y\":9.2,\"yref\":\"y\"},{\"align\":\"center\",\"font\":{\"color\":\"#333333\",\"family\":\"Roboto\",\"size\":10},\"opacity\":0.9,\"showarrow\":false,\"text\":\"93\",\"x\":6.0,\"xref\":\"x\",\"y\":9.2,\"yref\":\"y\"},{\"align\":\"center\",\"font\":{\"color\":\"#333333\",\"family\":\"Roboto\",\"size\":10},\"opacity\":0.9,\"showarrow\":false,\"text\":\"94\",\"x\":7.0,\"xref\":\"x\",\"y\":9.2,\"yref\":\"y\"},{\"align\":\"center\",\"font\":{\"color\":\"#333333\",\"family\":\"Roboto\",\"size\":10},\"opacity\":0.9,\"showarrow\":false,\"text\":\"95\",\"x\":8.0,\"xref\":\"x\",\"y\":9.2,\"yref\":\"y\"},{\"align\":\"center\",\"font\":{\"color\":\"#333333\",\"family\":\"Roboto\",\"size\":10},\"opacity\":0.9,\"showarrow\":false,\"text\":\"96\",\"x\":9.0,\"xref\":\"x\",\"y\":9.2,\"yref\":\"y\"},{\"align\":\"center\",\"font\":{\"color\":\"#333333\",\"family\":\"Roboto\",\"size\":10},\"opacity\":0.9,\"showarrow\":false,\"text\":\"97\",\"x\":10.0,\"xref\":\"x\",\"y\":9.2,\"yref\":\"y\"},{\"align\":\"center\",\"font\":{\"color\":\"#333333\",\"family\":\"Roboto\",\"size\":10},\"opacity\":0.9,\"showarrow\":false,\"text\":\"98\",\"x\":11.0,\"xref\":\"x\",\"y\":9.2,\"yref\":\"y\"},{\"align\":\"center\",\"font\":{\"color\":\"#333333\",\"family\":\"Roboto\",\"size\":10},\"opacity\":0.9,\"showarrow\":false,\"text\":\"99\",\"x\":12.0,\"xref\":\"x\",\"y\":9.2,\"yref\":\"y\"},{\"align\":\"center\",\"font\":{\"color\":\"#333333\",\"family\":\"Roboto\",\"size\":10},\"opacity\":0.9,\"showarrow\":false,\"text\":\"100\",\"x\":13.0,\"xref\":\"x\",\"y\":9.2,\"yref\":\"y\"},{\"align\":\"center\",\"font\":{\"color\":\"#333333\",\"family\":\"Roboto\",\"size\":10},\"opacity\":0.9,\"showarrow\":false,\"text\":\"101\",\"x\":14.0,\"xref\":\"x\",\"y\":9.2,\"yref\":\"y\"},{\"align\":\"center\",\"font\":{\"color\":\"#333333\",\"family\":\"Roboto\",\"size\":10},\"opacity\":0.9,\"showarrow\":false,\"text\":\"102\",\"x\":15.0,\"xref\":\"x\",\"y\":9.2,\"yref\":\"y\"},{\"align\":\"center\",\"font\":{\"color\":\"#333333\",\"family\":\"Roboto\",\"size\":10},\"opacity\":0.9,\"showarrow\":false,\"text\":\"103\",\"x\":16.0,\"xref\":\"x\",\"y\":9.2,\"yref\":\"y\"},{\"align\":\"center\",\"font\":{\"color\":\"#333333\",\"family\":\"Roboto\",\"size\":10},\"opacity\":0.9,\"showarrow\":false,\"text\":\"104\",\"x\":4.0,\"xref\":\"x\",\"y\":6.7,\"yref\":\"y\"},{\"align\":\"center\",\"font\":{\"color\":\"#333333\",\"family\":\"Roboto\",\"size\":10},\"opacity\":0.9,\"showarrow\":false,\"text\":\"105\",\"x\":5.0,\"xref\":\"x\",\"y\":6.7,\"yref\":\"y\"},{\"align\":\"center\",\"font\":{\"color\":\"#333333\",\"family\":\"Roboto\",\"size\":10},\"opacity\":0.9,\"showarrow\":false,\"text\":\"106\",\"x\":6.0,\"xref\":\"x\",\"y\":6.7,\"yref\":\"y\"},{\"align\":\"center\",\"font\":{\"color\":\"#333333\",\"family\":\"Roboto\",\"size\":10},\"opacity\":0.9,\"showarrow\":false,\"text\":\"107\",\"x\":7.0,\"xref\":\"x\",\"y\":6.7,\"yref\":\"y\"},{\"align\":\"center\",\"font\":{\"color\":\"#333333\",\"family\":\"Roboto\",\"size\":10},\"opacity\":0.9,\"showarrow\":false,\"text\":\"108\",\"x\":8.0,\"xref\":\"x\",\"y\":6.7,\"yref\":\"y\"},{\"align\":\"center\",\"font\":{\"color\":\"#333333\",\"family\":\"Roboto\",\"size\":10},\"opacity\":0.9,\"showarrow\":false,\"text\":\"109\",\"x\":9.0,\"xref\":\"x\",\"y\":6.7,\"yref\":\"y\"},{\"align\":\"center\",\"font\":{\"color\":\"#333333\",\"family\":\"Roboto\",\"size\":10},\"opacity\":0.9,\"showarrow\":false,\"text\":\"110\",\"x\":10.0,\"xref\":\"x\",\"y\":6.7,\"yref\":\"y\"},{\"align\":\"center\",\"font\":{\"color\":\"#333333\",\"family\":\"Roboto\",\"size\":10},\"opacity\":0.9,\"showarrow\":false,\"text\":\"111\",\"x\":11.0,\"xref\":\"x\",\"y\":6.7,\"yref\":\"y\"},{\"align\":\"center\",\"font\":{\"color\":\"#333333\",\"family\":\"Roboto\",\"size\":10},\"opacity\":0.9,\"showarrow\":false,\"text\":\"112\",\"x\":12.0,\"xref\":\"x\",\"y\":6.7,\"yref\":\"y\"},{\"align\":\"center\",\"font\":{\"color\":\"#333333\",\"family\":\"Roboto\",\"size\":10},\"opacity\":0.9,\"showarrow\":false,\"text\":\"113\",\"x\":13.0,\"xref\":\"x\",\"y\":6.7,\"yref\":\"y\"},{\"align\":\"center\",\"font\":{\"color\":\"#333333\",\"family\":\"Roboto\",\"size\":10},\"opacity\":0.9,\"showarrow\":false,\"text\":\"114\",\"x\":14.0,\"xref\":\"x\",\"y\":6.7,\"yref\":\"y\"},{\"align\":\"center\",\"font\":{\"color\":\"#333333\",\"family\":\"Roboto\",\"size\":10},\"opacity\":0.9,\"showarrow\":false,\"text\":\"115\",\"x\":15.0,\"xref\":\"x\",\"y\":6.7,\"yref\":\"y\"},{\"align\":\"center\",\"font\":{\"color\":\"#333333\",\"family\":\"Roboto\",\"size\":10},\"opacity\":0.9,\"showarrow\":false,\"text\":\"116\",\"x\":16.0,\"xref\":\"x\",\"y\":6.7,\"yref\":\"y\"},{\"align\":\"center\",\"font\":{\"color\":\"#333333\",\"family\":\"Roboto\",\"size\":10},\"opacity\":0.9,\"showarrow\":false,\"text\":\"117\",\"x\":17.0,\"xref\":\"x\",\"y\":6.7,\"yref\":\"y\"},{\"align\":\"center\",\"font\":{\"color\":\"#333333\",\"family\":\"Roboto\",\"size\":10},\"opacity\":0.9,\"showarrow\":false,\"text\":\"118\",\"x\":18.0,\"xref\":\"x\",\"y\":6.7,\"yref\":\"y\"},{\"align\":\"center\",\"font\":{\"color\":\"#333333\",\"family\":\"Roboto\",\"size\":7},\"opacity\":0.9,\"showarrow\":false,\"text\":\"Hydrogen\",\"x\":1.0,\"xref\":\"x\",\"y\":1.2,\"yref\":\"y\"},{\"align\":\"center\",\"font\":{\"color\":\"#333333\",\"family\":\"Roboto\",\"size\":7},\"opacity\":0.9,\"showarrow\":false,\"text\":\"Helium\",\"x\":18.0,\"xref\":\"x\",\"y\":1.2,\"yref\":\"y\"},{\"align\":\"center\",\"font\":{\"color\":\"#333333\",\"family\":\"Roboto\",\"size\":7},\"opacity\":0.9,\"showarrow\":false,\"text\":\"Lithium\",\"x\":1.0,\"xref\":\"x\",\"y\":2.2,\"yref\":\"y\"},{\"align\":\"center\",\"font\":{\"color\":\"#333333\",\"family\":\"Roboto\",\"size\":7},\"opacity\":0.9,\"showarrow\":false,\"text\":\"Beryllium\",\"x\":2.0,\"xref\":\"x\",\"y\":2.2,\"yref\":\"y\"},{\"align\":\"center\",\"font\":{\"color\":\"#333333\",\"family\":\"Roboto\",\"size\":7},\"opacity\":0.9,\"showarrow\":false,\"text\":\"Boron\",\"x\":13.0,\"xref\":\"x\",\"y\":2.2,\"yref\":\"y\"},{\"align\":\"center\",\"font\":{\"color\":\"#333333\",\"family\":\"Roboto\",\"size\":7},\"opacity\":0.9,\"showarrow\":false,\"text\":\"Carbon\",\"x\":14.0,\"xref\":\"x\",\"y\":2.2,\"yref\":\"y\"},{\"align\":\"center\",\"font\":{\"color\":\"#333333\",\"family\":\"Roboto\",\"size\":7},\"opacity\":0.9,\"showarrow\":false,\"text\":\"Nitrogen\",\"x\":15.0,\"xref\":\"x\",\"y\":2.2,\"yref\":\"y\"},{\"align\":\"center\",\"font\":{\"color\":\"#333333\",\"family\":\"Roboto\",\"size\":7},\"opacity\":0.9,\"showarrow\":false,\"text\":\"Oxygen\",\"x\":16.0,\"xref\":\"x\",\"y\":2.2,\"yref\":\"y\"},{\"align\":\"center\",\"font\":{\"color\":\"#333333\",\"family\":\"Roboto\",\"size\":7},\"opacity\":0.9,\"showarrow\":false,\"text\":\"Fluorine\",\"x\":17.0,\"xref\":\"x\",\"y\":2.2,\"yref\":\"y\"},{\"align\":\"center\",\"font\":{\"color\":\"#333333\",\"family\":\"Roboto\",\"size\":7},\"opacity\":0.9,\"showarrow\":false,\"text\":\"Neon\",\"x\":18.0,\"xref\":\"x\",\"y\":2.2,\"yref\":\"y\"},{\"align\":\"center\",\"font\":{\"color\":\"#333333\",\"family\":\"Roboto\",\"size\":7},\"opacity\":0.9,\"showarrow\":false,\"text\":\"Sodium\",\"x\":1.0,\"xref\":\"x\",\"y\":3.2,\"yref\":\"y\"},{\"align\":\"center\",\"font\":{\"color\":\"#333333\",\"family\":\"Roboto\",\"size\":7},\"opacity\":0.9,\"showarrow\":false,\"text\":\"Magnesium\",\"x\":2.0,\"xref\":\"x\",\"y\":3.2,\"yref\":\"y\"},{\"align\":\"center\",\"font\":{\"color\":\"#333333\",\"family\":\"Roboto\",\"size\":7},\"opacity\":0.9,\"showarrow\":false,\"text\":\"Aluminum\",\"x\":13.0,\"xref\":\"x\",\"y\":3.2,\"yref\":\"y\"},{\"align\":\"center\",\"font\":{\"color\":\"#333333\",\"family\":\"Roboto\",\"size\":7},\"opacity\":0.9,\"showarrow\":false,\"text\":\"Silicon\",\"x\":14.0,\"xref\":\"x\",\"y\":3.2,\"yref\":\"y\"},{\"align\":\"center\",\"font\":{\"color\":\"#333333\",\"family\":\"Roboto\",\"size\":7},\"opacity\":0.9,\"showarrow\":false,\"text\":\"Phosphorus\",\"x\":15.0,\"xref\":\"x\",\"y\":3.2,\"yref\":\"y\"},{\"align\":\"center\",\"font\":{\"color\":\"#333333\",\"family\":\"Roboto\",\"size\":7},\"opacity\":0.9,\"showarrow\":false,\"text\":\"Sulfur\",\"x\":16.0,\"xref\":\"x\",\"y\":3.2,\"yref\":\"y\"},{\"align\":\"center\",\"font\":{\"color\":\"#333333\",\"family\":\"Roboto\",\"size\":7},\"opacity\":0.9,\"showarrow\":false,\"text\":\"Chlorine\",\"x\":17.0,\"xref\":\"x\",\"y\":3.2,\"yref\":\"y\"},{\"align\":\"center\",\"font\":{\"color\":\"#333333\",\"family\":\"Roboto\",\"size\":7},\"opacity\":0.9,\"showarrow\":false,\"text\":\"Argon\",\"x\":18.0,\"xref\":\"x\",\"y\":3.2,\"yref\":\"y\"},{\"align\":\"center\",\"font\":{\"color\":\"#333333\",\"family\":\"Roboto\",\"size\":7},\"opacity\":0.9,\"showarrow\":false,\"text\":\"Potassium\",\"x\":1.0,\"xref\":\"x\",\"y\":4.2,\"yref\":\"y\"},{\"align\":\"center\",\"font\":{\"color\":\"#333333\",\"family\":\"Roboto\",\"size\":7},\"opacity\":0.9,\"showarrow\":false,\"text\":\"Calcium\",\"x\":2.0,\"xref\":\"x\",\"y\":4.2,\"yref\":\"y\"},{\"align\":\"center\",\"font\":{\"color\":\"#333333\",\"family\":\"Roboto\",\"size\":7},\"opacity\":0.9,\"showarrow\":false,\"text\":\"Scandium\",\"x\":3.0,\"xref\":\"x\",\"y\":4.2,\"yref\":\"y\"},{\"align\":\"center\",\"font\":{\"color\":\"#333333\",\"family\":\"Roboto\",\"size\":7},\"opacity\":0.9,\"showarrow\":false,\"text\":\"Titanium\",\"x\":4.0,\"xref\":\"x\",\"y\":4.2,\"yref\":\"y\"},{\"align\":\"center\",\"font\":{\"color\":\"#333333\",\"family\":\"Roboto\",\"size\":7},\"opacity\":0.9,\"showarrow\":false,\"text\":\"Vanadium\",\"x\":5.0,\"xref\":\"x\",\"y\":4.2,\"yref\":\"y\"},{\"align\":\"center\",\"font\":{\"color\":\"#333333\",\"family\":\"Roboto\",\"size\":7},\"opacity\":0.9,\"showarrow\":false,\"text\":\"Chromium\",\"x\":6.0,\"xref\":\"x\",\"y\":4.2,\"yref\":\"y\"},{\"align\":\"center\",\"font\":{\"color\":\"#333333\",\"family\":\"Roboto\",\"size\":7},\"opacity\":0.9,\"showarrow\":false,\"text\":\"Manganese\",\"x\":7.0,\"xref\":\"x\",\"y\":4.2,\"yref\":\"y\"},{\"align\":\"center\",\"font\":{\"color\":\"#333333\",\"family\":\"Roboto\",\"size\":7},\"opacity\":0.9,\"showarrow\":false,\"text\":\"Iron\",\"x\":8.0,\"xref\":\"x\",\"y\":4.2,\"yref\":\"y\"},{\"align\":\"center\",\"font\":{\"color\":\"#333333\",\"family\":\"Roboto\",\"size\":7},\"opacity\":0.9,\"showarrow\":false,\"text\":\"Cobalt\",\"x\":9.0,\"xref\":\"x\",\"y\":4.2,\"yref\":\"y\"},{\"align\":\"center\",\"font\":{\"color\":\"#333333\",\"family\":\"Roboto\",\"size\":7},\"opacity\":0.9,\"showarrow\":false,\"text\":\"Nickel\",\"x\":10.0,\"xref\":\"x\",\"y\":4.2,\"yref\":\"y\"},{\"align\":\"center\",\"font\":{\"color\":\"#333333\",\"family\":\"Roboto\",\"size\":7},\"opacity\":0.9,\"showarrow\":false,\"text\":\"Copper\",\"x\":11.0,\"xref\":\"x\",\"y\":4.2,\"yref\":\"y\"},{\"align\":\"center\",\"font\":{\"color\":\"#333333\",\"family\":\"Roboto\",\"size\":7},\"opacity\":0.9,\"showarrow\":false,\"text\":\"Zinc\",\"x\":12.0,\"xref\":\"x\",\"y\":4.2,\"yref\":\"y\"},{\"align\":\"center\",\"font\":{\"color\":\"#333333\",\"family\":\"Roboto\",\"size\":7},\"opacity\":0.9,\"showarrow\":false,\"text\":\"Gallium\",\"x\":13.0,\"xref\":\"x\",\"y\":4.2,\"yref\":\"y\"},{\"align\":\"center\",\"font\":{\"color\":\"#333333\",\"family\":\"Roboto\",\"size\":7},\"opacity\":0.9,\"showarrow\":false,\"text\":\"Germanium\",\"x\":14.0,\"xref\":\"x\",\"y\":4.2,\"yref\":\"y\"},{\"align\":\"center\",\"font\":{\"color\":\"#333333\",\"family\":\"Roboto\",\"size\":7},\"opacity\":0.9,\"showarrow\":false,\"text\":\"Arsenic\",\"x\":15.0,\"xref\":\"x\",\"y\":4.2,\"yref\":\"y\"},{\"align\":\"center\",\"font\":{\"color\":\"#333333\",\"family\":\"Roboto\",\"size\":7},\"opacity\":0.9,\"showarrow\":false,\"text\":\"Selenium\",\"x\":16.0,\"xref\":\"x\",\"y\":4.2,\"yref\":\"y\"},{\"align\":\"center\",\"font\":{\"color\":\"#333333\",\"family\":\"Roboto\",\"size\":7},\"opacity\":0.9,\"showarrow\":false,\"text\":\"Bromine\",\"x\":17.0,\"xref\":\"x\",\"y\":4.2,\"yref\":\"y\"},{\"align\":\"center\",\"font\":{\"color\":\"#333333\",\"family\":\"Roboto\",\"size\":7},\"opacity\":0.9,\"showarrow\":false,\"text\":\"Krypton\",\"x\":18.0,\"xref\":\"x\",\"y\":4.2,\"yref\":\"y\"},{\"align\":\"center\",\"font\":{\"color\":\"#333333\",\"family\":\"Roboto\",\"size\":7},\"opacity\":0.9,\"showarrow\":false,\"text\":\"Rubidium\",\"x\":1.0,\"xref\":\"x\",\"y\":5.2,\"yref\":\"y\"},{\"align\":\"center\",\"font\":{\"color\":\"#333333\",\"family\":\"Roboto\",\"size\":7},\"opacity\":0.9,\"showarrow\":false,\"text\":\"Strontium\",\"x\":2.0,\"xref\":\"x\",\"y\":5.2,\"yref\":\"y\"},{\"align\":\"center\",\"font\":{\"color\":\"#333333\",\"family\":\"Roboto\",\"size\":7},\"opacity\":0.9,\"showarrow\":false,\"text\":\"Yttrium\",\"x\":3.0,\"xref\":\"x\",\"y\":5.2,\"yref\":\"y\"},{\"align\":\"center\",\"font\":{\"color\":\"#333333\",\"family\":\"Roboto\",\"size\":7},\"opacity\":0.9,\"showarrow\":false,\"text\":\"Zirconium\",\"x\":4.0,\"xref\":\"x\",\"y\":5.2,\"yref\":\"y\"},{\"align\":\"center\",\"font\":{\"color\":\"#333333\",\"family\":\"Roboto\",\"size\":7},\"opacity\":0.9,\"showarrow\":false,\"text\":\"Niobium\",\"x\":5.0,\"xref\":\"x\",\"y\":5.2,\"yref\":\"y\"},{\"align\":\"center\",\"font\":{\"color\":\"#333333\",\"family\":\"Roboto\",\"size\":7},\"opacity\":0.9,\"showarrow\":false,\"text\":\"Molybdenum\",\"x\":6.0,\"xref\":\"x\",\"y\":5.2,\"yref\":\"y\"},{\"align\":\"center\",\"font\":{\"color\":\"#333333\",\"family\":\"Roboto\",\"size\":7},\"opacity\":0.9,\"showarrow\":false,\"text\":\"Technetium\",\"x\":7.0,\"xref\":\"x\",\"y\":5.2,\"yref\":\"y\"},{\"align\":\"center\",\"font\":{\"color\":\"#333333\",\"family\":\"Roboto\",\"size\":7},\"opacity\":0.9,\"showarrow\":false,\"text\":\"Ruthenium\",\"x\":8.0,\"xref\":\"x\",\"y\":5.2,\"yref\":\"y\"},{\"align\":\"center\",\"font\":{\"color\":\"#333333\",\"family\":\"Roboto\",\"size\":7},\"opacity\":0.9,\"showarrow\":false,\"text\":\"Rhodium\",\"x\":9.0,\"xref\":\"x\",\"y\":5.2,\"yref\":\"y\"},{\"align\":\"center\",\"font\":{\"color\":\"#333333\",\"family\":\"Roboto\",\"size\":7},\"opacity\":0.9,\"showarrow\":false,\"text\":\"Palladium\",\"x\":10.0,\"xref\":\"x\",\"y\":5.2,\"yref\":\"y\"},{\"align\":\"center\",\"font\":{\"color\":\"#333333\",\"family\":\"Roboto\",\"size\":7},\"opacity\":0.9,\"showarrow\":false,\"text\":\"Silver\",\"x\":11.0,\"xref\":\"x\",\"y\":5.2,\"yref\":\"y\"},{\"align\":\"center\",\"font\":{\"color\":\"#333333\",\"family\":\"Roboto\",\"size\":7},\"opacity\":0.9,\"showarrow\":false,\"text\":\"Cadmium\",\"x\":12.0,\"xref\":\"x\",\"y\":5.2,\"yref\":\"y\"},{\"align\":\"center\",\"font\":{\"color\":\"#333333\",\"family\":\"Roboto\",\"size\":7},\"opacity\":0.9,\"showarrow\":false,\"text\":\"Indium\",\"x\":13.0,\"xref\":\"x\",\"y\":5.2,\"yref\":\"y\"},{\"align\":\"center\",\"font\":{\"color\":\"#333333\",\"family\":\"Roboto\",\"size\":7},\"opacity\":0.9,\"showarrow\":false,\"text\":\"Tin\",\"x\":14.0,\"xref\":\"x\",\"y\":5.2,\"yref\":\"y\"},{\"align\":\"center\",\"font\":{\"color\":\"#333333\",\"family\":\"Roboto\",\"size\":7},\"opacity\":0.9,\"showarrow\":false,\"text\":\"Antimony\",\"x\":15.0,\"xref\":\"x\",\"y\":5.2,\"yref\":\"y\"},{\"align\":\"center\",\"font\":{\"color\":\"#333333\",\"family\":\"Roboto\",\"size\":7},\"opacity\":0.9,\"showarrow\":false,\"text\":\"Tellurium\",\"x\":16.0,\"xref\":\"x\",\"y\":5.2,\"yref\":\"y\"},{\"align\":\"center\",\"font\":{\"color\":\"#333333\",\"family\":\"Roboto\",\"size\":7},\"opacity\":0.9,\"showarrow\":false,\"text\":\"Iodine\",\"x\":17.0,\"xref\":\"x\",\"y\":5.2,\"yref\":\"y\"},{\"align\":\"center\",\"font\":{\"color\":\"#333333\",\"family\":\"Roboto\",\"size\":7},\"opacity\":0.9,\"showarrow\":false,\"text\":\"Xenon\",\"x\":18.0,\"xref\":\"x\",\"y\":5.2,\"yref\":\"y\"},{\"align\":\"center\",\"font\":{\"color\":\"#333333\",\"family\":\"Roboto\",\"size\":7},\"opacity\":0.9,\"showarrow\":false,\"text\":\"Cesium\",\"x\":1.0,\"xref\":\"x\",\"y\":6.2,\"yref\":\"y\"},{\"align\":\"center\",\"font\":{\"color\":\"#333333\",\"family\":\"Roboto\",\"size\":7},\"opacity\":0.9,\"showarrow\":false,\"text\":\"Barium\",\"x\":2.0,\"xref\":\"x\",\"y\":6.2,\"yref\":\"y\"},{\"align\":\"center\",\"font\":{\"color\":\"#333333\",\"family\":\"Roboto\",\"size\":7},\"opacity\":0.9,\"showarrow\":false,\"text\":\"Lanthanum\",\"x\":3.0,\"xref\":\"x\",\"y\":6.2,\"yref\":\"y\"},{\"align\":\"center\",\"font\":{\"color\":\"#333333\",\"family\":\"Roboto\",\"size\":7},\"opacity\":0.9,\"showarrow\":false,\"text\":\"Cerium\",\"x\":3.0,\"xref\":\"x\",\"y\":8.7,\"yref\":\"y\"},{\"align\":\"center\",\"font\":{\"color\":\"#333333\",\"family\":\"Roboto\",\"size\":7},\"opacity\":0.9,\"showarrow\":false,\"text\":\"Praseodymium\",\"x\":4.0,\"xref\":\"x\",\"y\":8.7,\"yref\":\"y\"},{\"align\":\"center\",\"font\":{\"color\":\"#333333\",\"family\":\"Roboto\",\"size\":7},\"opacity\":0.9,\"showarrow\":false,\"text\":\"Neodymium\",\"x\":5.0,\"xref\":\"x\",\"y\":8.7,\"yref\":\"y\"},{\"align\":\"center\",\"font\":{\"color\":\"#333333\",\"family\":\"Roboto\",\"size\":7},\"opacity\":0.9,\"showarrow\":false,\"text\":\"Promethium\",\"x\":6.0,\"xref\":\"x\",\"y\":8.7,\"yref\":\"y\"},{\"align\":\"center\",\"font\":{\"color\":\"#333333\",\"family\":\"Roboto\",\"size\":7},\"opacity\":0.9,\"showarrow\":false,\"text\":\"Samarium\",\"x\":7.0,\"xref\":\"x\",\"y\":8.7,\"yref\":\"y\"},{\"align\":\"center\",\"font\":{\"color\":\"#333333\",\"family\":\"Roboto\",\"size\":7},\"opacity\":0.9,\"showarrow\":false,\"text\":\"Europium\",\"x\":8.0,\"xref\":\"x\",\"y\":8.7,\"yref\":\"y\"},{\"align\":\"center\",\"font\":{\"color\":\"#333333\",\"family\":\"Roboto\",\"size\":7},\"opacity\":0.9,\"showarrow\":false,\"text\":\"Gadolinium\",\"x\":9.0,\"xref\":\"x\",\"y\":8.7,\"yref\":\"y\"},{\"align\":\"center\",\"font\":{\"color\":\"#333333\",\"family\":\"Roboto\",\"size\":7},\"opacity\":0.9,\"showarrow\":false,\"text\":\"Terbium\",\"x\":10.0,\"xref\":\"x\",\"y\":8.7,\"yref\":\"y\"},{\"align\":\"center\",\"font\":{\"color\":\"#333333\",\"family\":\"Roboto\",\"size\":7},\"opacity\":0.9,\"showarrow\":false,\"text\":\"Dysprosium\",\"x\":11.0,\"xref\":\"x\",\"y\":8.7,\"yref\":\"y\"},{\"align\":\"center\",\"font\":{\"color\":\"#333333\",\"family\":\"Roboto\",\"size\":7},\"opacity\":0.9,\"showarrow\":false,\"text\":\"Holmium\",\"x\":12.0,\"xref\":\"x\",\"y\":8.7,\"yref\":\"y\"},{\"align\":\"center\",\"font\":{\"color\":\"#333333\",\"family\":\"Roboto\",\"size\":7},\"opacity\":0.9,\"showarrow\":false,\"text\":\"Erbium\",\"x\":13.0,\"xref\":\"x\",\"y\":8.7,\"yref\":\"y\"},{\"align\":\"center\",\"font\":{\"color\":\"#333333\",\"family\":\"Roboto\",\"size\":7},\"opacity\":0.9,\"showarrow\":false,\"text\":\"Thulium\",\"x\":14.0,\"xref\":\"x\",\"y\":8.7,\"yref\":\"y\"},{\"align\":\"center\",\"font\":{\"color\":\"#333333\",\"family\":\"Roboto\",\"size\":7},\"opacity\":0.9,\"showarrow\":false,\"text\":\"Ytterbium\",\"x\":15.0,\"xref\":\"x\",\"y\":8.7,\"yref\":\"y\"},{\"align\":\"center\",\"font\":{\"color\":\"#333333\",\"family\":\"Roboto\",\"size\":7},\"opacity\":0.9,\"showarrow\":false,\"text\":\"Lutetium\",\"x\":16.0,\"xref\":\"x\",\"y\":8.7,\"yref\":\"y\"},{\"align\":\"center\",\"font\":{\"color\":\"#333333\",\"family\":\"Roboto\",\"size\":7},\"opacity\":0.9,\"showarrow\":false,\"text\":\"Hafnium\",\"x\":4.0,\"xref\":\"x\",\"y\":6.2,\"yref\":\"y\"},{\"align\":\"center\",\"font\":{\"color\":\"#333333\",\"family\":\"Roboto\",\"size\":7},\"opacity\":0.9,\"showarrow\":false,\"text\":\"Tantalum\",\"x\":5.0,\"xref\":\"x\",\"y\":6.2,\"yref\":\"y\"},{\"align\":\"center\",\"font\":{\"color\":\"#333333\",\"family\":\"Roboto\",\"size\":7},\"opacity\":0.9,\"showarrow\":false,\"text\":\"Tungsten\",\"x\":6.0,\"xref\":\"x\",\"y\":6.2,\"yref\":\"y\"},{\"align\":\"center\",\"font\":{\"color\":\"#333333\",\"family\":\"Roboto\",\"size\":7},\"opacity\":0.9,\"showarrow\":false,\"text\":\"Rhenium\",\"x\":7.0,\"xref\":\"x\",\"y\":6.2,\"yref\":\"y\"},{\"align\":\"center\",\"font\":{\"color\":\"#333333\",\"family\":\"Roboto\",\"size\":7},\"opacity\":0.9,\"showarrow\":false,\"text\":\"Osmium\",\"x\":8.0,\"xref\":\"x\",\"y\":6.2,\"yref\":\"y\"},{\"align\":\"center\",\"font\":{\"color\":\"#333333\",\"family\":\"Roboto\",\"size\":7},\"opacity\":0.9,\"showarrow\":false,\"text\":\"Iridium\",\"x\":9.0,\"xref\":\"x\",\"y\":6.2,\"yref\":\"y\"},{\"align\":\"center\",\"font\":{\"color\":\"#333333\",\"family\":\"Roboto\",\"size\":7},\"opacity\":0.9,\"showarrow\":false,\"text\":\"Platinum\",\"x\":10.0,\"xref\":\"x\",\"y\":6.2,\"yref\":\"y\"},{\"align\":\"center\",\"font\":{\"color\":\"#333333\",\"family\":\"Roboto\",\"size\":7},\"opacity\":0.9,\"showarrow\":false,\"text\":\"Gold\",\"x\":11.0,\"xref\":\"x\",\"y\":6.2,\"yref\":\"y\"},{\"align\":\"center\",\"font\":{\"color\":\"#333333\",\"family\":\"Roboto\",\"size\":7},\"opacity\":0.9,\"showarrow\":false,\"text\":\"Mercury\",\"x\":12.0,\"xref\":\"x\",\"y\":6.2,\"yref\":\"y\"},{\"align\":\"center\",\"font\":{\"color\":\"#333333\",\"family\":\"Roboto\",\"size\":7},\"opacity\":0.9,\"showarrow\":false,\"text\":\"Thallium\",\"x\":13.0,\"xref\":\"x\",\"y\":6.2,\"yref\":\"y\"},{\"align\":\"center\",\"font\":{\"color\":\"#333333\",\"family\":\"Roboto\",\"size\":7},\"opacity\":0.9,\"showarrow\":false,\"text\":\"Lead\",\"x\":14.0,\"xref\":\"x\",\"y\":6.2,\"yref\":\"y\"},{\"align\":\"center\",\"font\":{\"color\":\"#333333\",\"family\":\"Roboto\",\"size\":7},\"opacity\":0.9,\"showarrow\":false,\"text\":\"Bismuth\",\"x\":15.0,\"xref\":\"x\",\"y\":6.2,\"yref\":\"y\"},{\"align\":\"center\",\"font\":{\"color\":\"#333333\",\"family\":\"Roboto\",\"size\":7},\"opacity\":0.9,\"showarrow\":false,\"text\":\"Polonium\",\"x\":16.0,\"xref\":\"x\",\"y\":6.2,\"yref\":\"y\"},{\"align\":\"center\",\"font\":{\"color\":\"#333333\",\"family\":\"Roboto\",\"size\":7},\"opacity\":0.9,\"showarrow\":false,\"text\":\"Astatine\",\"x\":17.0,\"xref\":\"x\",\"y\":6.2,\"yref\":\"y\"},{\"align\":\"center\",\"font\":{\"color\":\"#333333\",\"family\":\"Roboto\",\"size\":7},\"opacity\":0.9,\"showarrow\":false,\"text\":\"Radon\",\"x\":18.0,\"xref\":\"x\",\"y\":6.2,\"yref\":\"y\"},{\"align\":\"center\",\"font\":{\"color\":\"#333333\",\"family\":\"Roboto\",\"size\":7},\"opacity\":0.9,\"showarrow\":false,\"text\":\"Francium\",\"x\":1.0,\"xref\":\"x\",\"y\":7.2,\"yref\":\"y\"},{\"align\":\"center\",\"font\":{\"color\":\"#333333\",\"family\":\"Roboto\",\"size\":7},\"opacity\":0.9,\"showarrow\":false,\"text\":\"Radium\",\"x\":2.0,\"xref\":\"x\",\"y\":7.2,\"yref\":\"y\"},{\"align\":\"center\",\"font\":{\"color\":\"#333333\",\"family\":\"Roboto\",\"size\":7},\"opacity\":0.9,\"showarrow\":false,\"text\":\"Actinium\",\"x\":3.0,\"xref\":\"x\",\"y\":7.2,\"yref\":\"y\"},{\"align\":\"center\",\"font\":{\"color\":\"#333333\",\"family\":\"Roboto\",\"size\":7},\"opacity\":0.9,\"showarrow\":false,\"text\":\"Thorium\",\"x\":3.0,\"xref\":\"x\",\"y\":9.7,\"yref\":\"y\"},{\"align\":\"center\",\"font\":{\"color\":\"#333333\",\"family\":\"Roboto\",\"size\":7},\"opacity\":0.9,\"showarrow\":false,\"text\":\"Protactinium\",\"x\":4.0,\"xref\":\"x\",\"y\":9.7,\"yref\":\"y\"},{\"align\":\"center\",\"font\":{\"color\":\"#333333\",\"family\":\"Roboto\",\"size\":7},\"opacity\":0.9,\"showarrow\":false,\"text\":\"Uranium\",\"x\":5.0,\"xref\":\"x\",\"y\":9.7,\"yref\":\"y\"},{\"align\":\"center\",\"font\":{\"color\":\"#333333\",\"family\":\"Roboto\",\"size\":7},\"opacity\":0.9,\"showarrow\":false,\"text\":\"Neptunium\",\"x\":6.0,\"xref\":\"x\",\"y\":9.7,\"yref\":\"y\"},{\"align\":\"center\",\"font\":{\"color\":\"#333333\",\"family\":\"Roboto\",\"size\":7},\"opacity\":0.9,\"showarrow\":false,\"text\":\"Plutonium\",\"x\":7.0,\"xref\":\"x\",\"y\":9.7,\"yref\":\"y\"},{\"align\":\"center\",\"font\":{\"color\":\"#333333\",\"family\":\"Roboto\",\"size\":7},\"opacity\":0.9,\"showarrow\":false,\"text\":\"Americium\",\"x\":8.0,\"xref\":\"x\",\"y\":9.7,\"yref\":\"y\"},{\"align\":\"center\",\"font\":{\"color\":\"#333333\",\"family\":\"Roboto\",\"size\":7},\"opacity\":0.9,\"showarrow\":false,\"text\":\"Curium\",\"x\":9.0,\"xref\":\"x\",\"y\":9.7,\"yref\":\"y\"},{\"align\":\"center\",\"font\":{\"color\":\"#333333\",\"family\":\"Roboto\",\"size\":7},\"opacity\":0.9,\"showarrow\":false,\"text\":\"Berkelium\",\"x\":10.0,\"xref\":\"x\",\"y\":9.7,\"yref\":\"y\"},{\"align\":\"center\",\"font\":{\"color\":\"#333333\",\"family\":\"Roboto\",\"size\":7},\"opacity\":0.9,\"showarrow\":false,\"text\":\"Californium\",\"x\":11.0,\"xref\":\"x\",\"y\":9.7,\"yref\":\"y\"},{\"align\":\"center\",\"font\":{\"color\":\"#333333\",\"family\":\"Roboto\",\"size\":7},\"opacity\":0.9,\"showarrow\":false,\"text\":\"Einsteinium\",\"x\":12.0,\"xref\":\"x\",\"y\":9.7,\"yref\":\"y\"},{\"align\":\"center\",\"font\":{\"color\":\"#333333\",\"family\":\"Roboto\",\"size\":7},\"opacity\":0.9,\"showarrow\":false,\"text\":\"Fermium\",\"x\":13.0,\"xref\":\"x\",\"y\":9.7,\"yref\":\"y\"},{\"align\":\"center\",\"font\":{\"color\":\"#333333\",\"family\":\"Roboto\",\"size\":7},\"opacity\":0.9,\"showarrow\":false,\"text\":\"Mendelevium\",\"x\":14.0,\"xref\":\"x\",\"y\":9.7,\"yref\":\"y\"},{\"align\":\"center\",\"font\":{\"color\":\"#333333\",\"family\":\"Roboto\",\"size\":7},\"opacity\":0.9,\"showarrow\":false,\"text\":\"Nobelium\",\"x\":15.0,\"xref\":\"x\",\"y\":9.7,\"yref\":\"y\"},{\"align\":\"center\",\"font\":{\"color\":\"#333333\",\"family\":\"Roboto\",\"size\":7},\"opacity\":0.9,\"showarrow\":false,\"text\":\"Lawrencium\",\"x\":16.0,\"xref\":\"x\",\"y\":9.7,\"yref\":\"y\"},{\"align\":\"center\",\"font\":{\"color\":\"#333333\",\"family\":\"Roboto\",\"size\":7},\"opacity\":0.9,\"showarrow\":false,\"text\":\"Rutherfordium\",\"x\":4.0,\"xref\":\"x\",\"y\":7.2,\"yref\":\"y\"},{\"align\":\"center\",\"font\":{\"color\":\"#333333\",\"family\":\"Roboto\",\"size\":7},\"opacity\":0.9,\"showarrow\":false,\"text\":\"Dubnium\",\"x\":5.0,\"xref\":\"x\",\"y\":7.2,\"yref\":\"y\"},{\"align\":\"center\",\"font\":{\"color\":\"#333333\",\"family\":\"Roboto\",\"size\":7},\"opacity\":0.9,\"showarrow\":false,\"text\":\"Seaborgium\",\"x\":6.0,\"xref\":\"x\",\"y\":7.2,\"yref\":\"y\"},{\"align\":\"center\",\"font\":{\"color\":\"#333333\",\"family\":\"Roboto\",\"size\":7},\"opacity\":0.9,\"showarrow\":false,\"text\":\"Bohrium\",\"x\":7.0,\"xref\":\"x\",\"y\":7.2,\"yref\":\"y\"},{\"align\":\"center\",\"font\":{\"color\":\"#333333\",\"family\":\"Roboto\",\"size\":7},\"opacity\":0.9,\"showarrow\":false,\"text\":\"Hassium\",\"x\":8.0,\"xref\":\"x\",\"y\":7.2,\"yref\":\"y\"},{\"align\":\"center\",\"font\":{\"color\":\"#333333\",\"family\":\"Roboto\",\"size\":7},\"opacity\":0.9,\"showarrow\":false,\"text\":\"Meitnerium\",\"x\":9.0,\"xref\":\"x\",\"y\":7.2,\"yref\":\"y\"},{\"align\":\"center\",\"font\":{\"color\":\"#333333\",\"family\":\"Roboto\",\"size\":7},\"opacity\":0.9,\"showarrow\":false,\"text\":\"Darmstadtium\",\"x\":10.0,\"xref\":\"x\",\"y\":7.2,\"yref\":\"y\"},{\"align\":\"center\",\"font\":{\"color\":\"#333333\",\"family\":\"Roboto\",\"size\":7},\"opacity\":0.9,\"showarrow\":false,\"text\":\"Roentgenium\",\"x\":11.0,\"xref\":\"x\",\"y\":7.2,\"yref\":\"y\"},{\"align\":\"center\",\"font\":{\"color\":\"#333333\",\"family\":\"Roboto\",\"size\":7},\"opacity\":0.9,\"showarrow\":false,\"text\":\"Copernicium\",\"x\":12.0,\"xref\":\"x\",\"y\":7.2,\"yref\":\"y\"},{\"align\":\"center\",\"font\":{\"color\":\"#333333\",\"family\":\"Roboto\",\"size\":7},\"opacity\":0.9,\"showarrow\":false,\"text\":\"Nihonium\",\"x\":13.0,\"xref\":\"x\",\"y\":7.2,\"yref\":\"y\"},{\"align\":\"center\",\"font\":{\"color\":\"#333333\",\"family\":\"Roboto\",\"size\":7},\"opacity\":0.9,\"showarrow\":false,\"text\":\"Flerovium\",\"x\":14.0,\"xref\":\"x\",\"y\":7.2,\"yref\":\"y\"},{\"align\":\"center\",\"font\":{\"color\":\"#333333\",\"family\":\"Roboto\",\"size\":7},\"opacity\":0.9,\"showarrow\":false,\"text\":\"Moscovium\",\"x\":15.0,\"xref\":\"x\",\"y\":7.2,\"yref\":\"y\"},{\"align\":\"center\",\"font\":{\"color\":\"#333333\",\"family\":\"Roboto\",\"size\":7},\"opacity\":0.9,\"showarrow\":false,\"text\":\"Livermorium\",\"x\":16.0,\"xref\":\"x\",\"y\":7.2,\"yref\":\"y\"},{\"align\":\"center\",\"font\":{\"color\":\"#333333\",\"family\":\"Roboto\",\"size\":7},\"opacity\":0.9,\"showarrow\":false,\"text\":\"Tennessine\",\"x\":17.0,\"xref\":\"x\",\"y\":7.2,\"yref\":\"y\"},{\"align\":\"center\",\"font\":{\"color\":\"#333333\",\"family\":\"Roboto\",\"size\":7},\"opacity\":0.9,\"showarrow\":false,\"text\":\"Oganesson\",\"x\":18.0,\"xref\":\"x\",\"y\":7.2,\"yref\":\"y\"},{\"align\":\"center\",\"font\":{\"color\":\"#333333\",\"family\":\"Roboto\",\"size\":7},\"opacity\":0.9,\"showarrow\":false,\"text\":\"1.008\",\"x\":1.0,\"xref\":\"x\",\"y\":1.35,\"yref\":\"y\"},{\"align\":\"center\",\"font\":{\"color\":\"#333333\",\"family\":\"Roboto\",\"size\":7},\"opacity\":0.9,\"showarrow\":false,\"text\":\"4.003\",\"x\":18.0,\"xref\":\"x\",\"y\":1.35,\"yref\":\"y\"},{\"align\":\"center\",\"font\":{\"color\":\"#333333\",\"family\":\"Roboto\",\"size\":7},\"opacity\":0.9,\"showarrow\":false,\"text\":\"6.94\",\"x\":1.0,\"xref\":\"x\",\"y\":2.35,\"yref\":\"y\"},{\"align\":\"center\",\"font\":{\"color\":\"#333333\",\"family\":\"Roboto\",\"size\":7},\"opacity\":0.9,\"showarrow\":false,\"text\":\"9.012\",\"x\":2.0,\"xref\":\"x\",\"y\":2.35,\"yref\":\"y\"},{\"align\":\"center\",\"font\":{\"color\":\"#333333\",\"family\":\"Roboto\",\"size\":7},\"opacity\":0.9,\"showarrow\":false,\"text\":\"10.81\",\"x\":13.0,\"xref\":\"x\",\"y\":2.35,\"yref\":\"y\"},{\"align\":\"center\",\"font\":{\"color\":\"#333333\",\"family\":\"Roboto\",\"size\":7},\"opacity\":0.9,\"showarrow\":false,\"text\":\"12.011\",\"x\":14.0,\"xref\":\"x\",\"y\":2.35,\"yref\":\"y\"},{\"align\":\"center\",\"font\":{\"color\":\"#333333\",\"family\":\"Roboto\",\"size\":7},\"opacity\":0.9,\"showarrow\":false,\"text\":\"14.007\",\"x\":15.0,\"xref\":\"x\",\"y\":2.35,\"yref\":\"y\"},{\"align\":\"center\",\"font\":{\"color\":\"#333333\",\"family\":\"Roboto\",\"size\":7},\"opacity\":0.9,\"showarrow\":false,\"text\":\"15.999\",\"x\":16.0,\"xref\":\"x\",\"y\":2.35,\"yref\":\"y\"},{\"align\":\"center\",\"font\":{\"color\":\"#333333\",\"family\":\"Roboto\",\"size\":7},\"opacity\":0.9,\"showarrow\":false,\"text\":\"18.998\",\"x\":17.0,\"xref\":\"x\",\"y\":2.35,\"yref\":\"y\"},{\"align\":\"center\",\"font\":{\"color\":\"#333333\",\"family\":\"Roboto\",\"size\":7},\"opacity\":0.9,\"showarrow\":false,\"text\":\"20.18\",\"x\":18.0,\"xref\":\"x\",\"y\":2.35,\"yref\":\"y\"},{\"align\":\"center\",\"font\":{\"color\":\"#333333\",\"family\":\"Roboto\",\"size\":7},\"opacity\":0.9,\"showarrow\":false,\"text\":\"22.99\",\"x\":1.0,\"xref\":\"x\",\"y\":3.35,\"yref\":\"y\"},{\"align\":\"center\",\"font\":{\"color\":\"#333333\",\"family\":\"Roboto\",\"size\":7},\"opacity\":0.9,\"showarrow\":false,\"text\":\"24.305\",\"x\":2.0,\"xref\":\"x\",\"y\":3.35,\"yref\":\"y\"},{\"align\":\"center\",\"font\":{\"color\":\"#333333\",\"family\":\"Roboto\",\"size\":7},\"opacity\":0.9,\"showarrow\":false,\"text\":\"26.982\",\"x\":13.0,\"xref\":\"x\",\"y\":3.35,\"yref\":\"y\"},{\"align\":\"center\",\"font\":{\"color\":\"#333333\",\"family\":\"Roboto\",\"size\":7},\"opacity\":0.9,\"showarrow\":false,\"text\":\"28.085\",\"x\":14.0,\"xref\":\"x\",\"y\":3.35,\"yref\":\"y\"},{\"align\":\"center\",\"font\":{\"color\":\"#333333\",\"family\":\"Roboto\",\"size\":7},\"opacity\":0.9,\"showarrow\":false,\"text\":\"30.974\",\"x\":15.0,\"xref\":\"x\",\"y\":3.35,\"yref\":\"y\"},{\"align\":\"center\",\"font\":{\"color\":\"#333333\",\"family\":\"Roboto\",\"size\":7},\"opacity\":0.9,\"showarrow\":false,\"text\":\"32.06\",\"x\":16.0,\"xref\":\"x\",\"y\":3.35,\"yref\":\"y\"},{\"align\":\"center\",\"font\":{\"color\":\"#333333\",\"family\":\"Roboto\",\"size\":7},\"opacity\":0.9,\"showarrow\":false,\"text\":\"35.45\",\"x\":17.0,\"xref\":\"x\",\"y\":3.35,\"yref\":\"y\"},{\"align\":\"center\",\"font\":{\"color\":\"#333333\",\"family\":\"Roboto\",\"size\":7},\"opacity\":0.9,\"showarrow\":false,\"text\":\"39.948\",\"x\":18.0,\"xref\":\"x\",\"y\":3.35,\"yref\":\"y\"},{\"align\":\"center\",\"font\":{\"color\":\"#333333\",\"family\":\"Roboto\",\"size\":7},\"opacity\":0.9,\"showarrow\":false,\"text\":\"39.098\",\"x\":1.0,\"xref\":\"x\",\"y\":4.35,\"yref\":\"y\"},{\"align\":\"center\",\"font\":{\"color\":\"#333333\",\"family\":\"Roboto\",\"size\":7},\"opacity\":0.9,\"showarrow\":false,\"text\":\"40.078\",\"x\":2.0,\"xref\":\"x\",\"y\":4.35,\"yref\":\"y\"},{\"align\":\"center\",\"font\":{\"color\":\"#333333\",\"family\":\"Roboto\",\"size\":7},\"opacity\":0.9,\"showarrow\":false,\"text\":\"44.956\",\"x\":3.0,\"xref\":\"x\",\"y\":4.35,\"yref\":\"y\"},{\"align\":\"center\",\"font\":{\"color\":\"#333333\",\"family\":\"Roboto\",\"size\":7},\"opacity\":0.9,\"showarrow\":false,\"text\":\"47.867\",\"x\":4.0,\"xref\":\"x\",\"y\":4.35,\"yref\":\"y\"},{\"align\":\"center\",\"font\":{\"color\":\"#333333\",\"family\":\"Roboto\",\"size\":7},\"opacity\":0.9,\"showarrow\":false,\"text\":\"50.942\",\"x\":5.0,\"xref\":\"x\",\"y\":4.35,\"yref\":\"y\"},{\"align\":\"center\",\"font\":{\"color\":\"#333333\",\"family\":\"Roboto\",\"size\":7},\"opacity\":0.9,\"showarrow\":false,\"text\":\"51.996\",\"x\":6.0,\"xref\":\"x\",\"y\":4.35,\"yref\":\"y\"},{\"align\":\"center\",\"font\":{\"color\":\"#333333\",\"family\":\"Roboto\",\"size\":7},\"opacity\":0.9,\"showarrow\":false,\"text\":\"54.938\",\"x\":7.0,\"xref\":\"x\",\"y\":4.35,\"yref\":\"y\"},{\"align\":\"center\",\"font\":{\"color\":\"#333333\",\"family\":\"Roboto\",\"size\":7},\"opacity\":0.9,\"showarrow\":false,\"text\":\"55.845\",\"x\":8.0,\"xref\":\"x\",\"y\":4.35,\"yref\":\"y\"},{\"align\":\"center\",\"font\":{\"color\":\"#333333\",\"family\":\"Roboto\",\"size\":7},\"opacity\":0.9,\"showarrow\":false,\"text\":\"58.933\",\"x\":9.0,\"xref\":\"x\",\"y\":4.35,\"yref\":\"y\"},{\"align\":\"center\",\"font\":{\"color\":\"#333333\",\"family\":\"Roboto\",\"size\":7},\"opacity\":0.9,\"showarrow\":false,\"text\":\"58.693\",\"x\":10.0,\"xref\":\"x\",\"y\":4.35,\"yref\":\"y\"},{\"align\":\"center\",\"font\":{\"color\":\"#333333\",\"family\":\"Roboto\",\"size\":7},\"opacity\":0.9,\"showarrow\":false,\"text\":\"63.546\",\"x\":11.0,\"xref\":\"x\",\"y\":4.35,\"yref\":\"y\"},{\"align\":\"center\",\"font\":{\"color\":\"#333333\",\"family\":\"Roboto\",\"size\":7},\"opacity\":0.9,\"showarrow\":false,\"text\":\"65.38\",\"x\":12.0,\"xref\":\"x\",\"y\":4.35,\"yref\":\"y\"},{\"align\":\"center\",\"font\":{\"color\":\"#333333\",\"family\":\"Roboto\",\"size\":7},\"opacity\":0.9,\"showarrow\":false,\"text\":\"69.723\",\"x\":13.0,\"xref\":\"x\",\"y\":4.35,\"yref\":\"y\"},{\"align\":\"center\",\"font\":{\"color\":\"#333333\",\"family\":\"Roboto\",\"size\":7},\"opacity\":0.9,\"showarrow\":false,\"text\":\"72.63\",\"x\":14.0,\"xref\":\"x\",\"y\":4.35,\"yref\":\"y\"},{\"align\":\"center\",\"font\":{\"color\":\"#333333\",\"family\":\"Roboto\",\"size\":7},\"opacity\":0.9,\"showarrow\":false,\"text\":\"74.922\",\"x\":15.0,\"xref\":\"x\",\"y\":4.35,\"yref\":\"y\"},{\"align\":\"center\",\"font\":{\"color\":\"#333333\",\"family\":\"Roboto\",\"size\":7},\"opacity\":0.9,\"showarrow\":false,\"text\":\"78.971\",\"x\":16.0,\"xref\":\"x\",\"y\":4.35,\"yref\":\"y\"},{\"align\":\"center\",\"font\":{\"color\":\"#333333\",\"family\":\"Roboto\",\"size\":7},\"opacity\":0.9,\"showarrow\":false,\"text\":\"79.904\",\"x\":17.0,\"xref\":\"x\",\"y\":4.35,\"yref\":\"y\"},{\"align\":\"center\",\"font\":{\"color\":\"#333333\",\"family\":\"Roboto\",\"size\":7},\"opacity\":0.9,\"showarrow\":false,\"text\":\"83.798\",\"x\":18.0,\"xref\":\"x\",\"y\":4.35,\"yref\":\"y\"},{\"align\":\"center\",\"font\":{\"color\":\"#333333\",\"family\":\"Roboto\",\"size\":7},\"opacity\":0.9,\"showarrow\":false,\"text\":\"85.468\",\"x\":1.0,\"xref\":\"x\",\"y\":5.35,\"yref\":\"y\"},{\"align\":\"center\",\"font\":{\"color\":\"#333333\",\"family\":\"Roboto\",\"size\":7},\"opacity\":0.9,\"showarrow\":false,\"text\":\"87.62\",\"x\":2.0,\"xref\":\"x\",\"y\":5.35,\"yref\":\"y\"},{\"align\":\"center\",\"font\":{\"color\":\"#333333\",\"family\":\"Roboto\",\"size\":7},\"opacity\":0.9,\"showarrow\":false,\"text\":\"88.906\",\"x\":3.0,\"xref\":\"x\",\"y\":5.35,\"yref\":\"y\"},{\"align\":\"center\",\"font\":{\"color\":\"#333333\",\"family\":\"Roboto\",\"size\":7},\"opacity\":0.9,\"showarrow\":false,\"text\":\"91.224\",\"x\":4.0,\"xref\":\"x\",\"y\":5.35,\"yref\":\"y\"},{\"align\":\"center\",\"font\":{\"color\":\"#333333\",\"family\":\"Roboto\",\"size\":7},\"opacity\":0.9,\"showarrow\":false,\"text\":\"92.906\",\"x\":5.0,\"xref\":\"x\",\"y\":5.35,\"yref\":\"y\"},{\"align\":\"center\",\"font\":{\"color\":\"#333333\",\"family\":\"Roboto\",\"size\":7},\"opacity\":0.9,\"showarrow\":false,\"text\":\"95.95\",\"x\":6.0,\"xref\":\"x\",\"y\":5.35,\"yref\":\"y\"},{\"align\":\"center\",\"font\":{\"color\":\"#333333\",\"family\":\"Roboto\",\"size\":7},\"opacity\":0.9,\"showarrow\":false,\"text\":\"97.907\",\"x\":7.0,\"xref\":\"x\",\"y\":5.35,\"yref\":\"y\"},{\"align\":\"center\",\"font\":{\"color\":\"#333333\",\"family\":\"Roboto\",\"size\":7},\"opacity\":0.9,\"showarrow\":false,\"text\":\"101.07\",\"x\":8.0,\"xref\":\"x\",\"y\":5.35,\"yref\":\"y\"},{\"align\":\"center\",\"font\":{\"color\":\"#333333\",\"family\":\"Roboto\",\"size\":7},\"opacity\":0.9,\"showarrow\":false,\"text\":\"102.906\",\"x\":9.0,\"xref\":\"x\",\"y\":5.35,\"yref\":\"y\"},{\"align\":\"center\",\"font\":{\"color\":\"#333333\",\"family\":\"Roboto\",\"size\":7},\"opacity\":0.9,\"showarrow\":false,\"text\":\"106.42\",\"x\":10.0,\"xref\":\"x\",\"y\":5.35,\"yref\":\"y\"},{\"align\":\"center\",\"font\":{\"color\":\"#333333\",\"family\":\"Roboto\",\"size\":7},\"opacity\":0.9,\"showarrow\":false,\"text\":\"107.868\",\"x\":11.0,\"xref\":\"x\",\"y\":5.35,\"yref\":\"y\"},{\"align\":\"center\",\"font\":{\"color\":\"#333333\",\"family\":\"Roboto\",\"size\":7},\"opacity\":0.9,\"showarrow\":false,\"text\":\"112.414\",\"x\":12.0,\"xref\":\"x\",\"y\":5.35,\"yref\":\"y\"},{\"align\":\"center\",\"font\":{\"color\":\"#333333\",\"family\":\"Roboto\",\"size\":7},\"opacity\":0.9,\"showarrow\":false,\"text\":\"114.818\",\"x\":13.0,\"xref\":\"x\",\"y\":5.35,\"yref\":\"y\"},{\"align\":\"center\",\"font\":{\"color\":\"#333333\",\"family\":\"Roboto\",\"size\":7},\"opacity\":0.9,\"showarrow\":false,\"text\":\"118.71\",\"x\":14.0,\"xref\":\"x\",\"y\":5.35,\"yref\":\"y\"},{\"align\":\"center\",\"font\":{\"color\":\"#333333\",\"family\":\"Roboto\",\"size\":7},\"opacity\":0.9,\"showarrow\":false,\"text\":\"121.76\",\"x\":15.0,\"xref\":\"x\",\"y\":5.35,\"yref\":\"y\"},{\"align\":\"center\",\"font\":{\"color\":\"#333333\",\"family\":\"Roboto\",\"size\":7},\"opacity\":0.9,\"showarrow\":false,\"text\":\"127.6\",\"x\":16.0,\"xref\":\"x\",\"y\":5.35,\"yref\":\"y\"},{\"align\":\"center\",\"font\":{\"color\":\"#333333\",\"family\":\"Roboto\",\"size\":7},\"opacity\":0.9,\"showarrow\":false,\"text\":\"126.904\",\"x\":17.0,\"xref\":\"x\",\"y\":5.35,\"yref\":\"y\"},{\"align\":\"center\",\"font\":{\"color\":\"#333333\",\"family\":\"Roboto\",\"size\":7},\"opacity\":0.9,\"showarrow\":false,\"text\":\"131.293\",\"x\":18.0,\"xref\":\"x\",\"y\":5.35,\"yref\":\"y\"},{\"align\":\"center\",\"font\":{\"color\":\"#333333\",\"family\":\"Roboto\",\"size\":7},\"opacity\":0.9,\"showarrow\":false,\"text\":\"132.905\",\"x\":1.0,\"xref\":\"x\",\"y\":6.35,\"yref\":\"y\"},{\"align\":\"center\",\"font\":{\"color\":\"#333333\",\"family\":\"Roboto\",\"size\":7},\"opacity\":0.9,\"showarrow\":false,\"text\":\"137.327\",\"x\":2.0,\"xref\":\"x\",\"y\":6.35,\"yref\":\"y\"},{\"align\":\"center\",\"font\":{\"color\":\"#333333\",\"family\":\"Roboto\",\"size\":7},\"opacity\":0.9,\"showarrow\":false,\"text\":\"138.905\",\"x\":3.0,\"xref\":\"x\",\"y\":6.35,\"yref\":\"y\"},{\"align\":\"center\",\"font\":{\"color\":\"#333333\",\"family\":\"Roboto\",\"size\":7},\"opacity\":0.9,\"showarrow\":false,\"text\":\"140.116\",\"x\":3.0,\"xref\":\"x\",\"y\":8.85,\"yref\":\"y\"},{\"align\":\"center\",\"font\":{\"color\":\"#333333\",\"family\":\"Roboto\",\"size\":7},\"opacity\":0.9,\"showarrow\":false,\"text\":\"140.908\",\"x\":4.0,\"xref\":\"x\",\"y\":8.85,\"yref\":\"y\"},{\"align\":\"center\",\"font\":{\"color\":\"#333333\",\"family\":\"Roboto\",\"size\":7},\"opacity\":0.9,\"showarrow\":false,\"text\":\"144.242\",\"x\":5.0,\"xref\":\"x\",\"y\":8.85,\"yref\":\"y\"},{\"align\":\"center\",\"font\":{\"color\":\"#333333\",\"family\":\"Roboto\",\"size\":7},\"opacity\":0.9,\"showarrow\":false,\"text\":\"144.913\",\"x\":6.0,\"xref\":\"x\",\"y\":8.85,\"yref\":\"y\"},{\"align\":\"center\",\"font\":{\"color\":\"#333333\",\"family\":\"Roboto\",\"size\":7},\"opacity\":0.9,\"showarrow\":false,\"text\":\"150.36\",\"x\":7.0,\"xref\":\"x\",\"y\":8.85,\"yref\":\"y\"},{\"align\":\"center\",\"font\":{\"color\":\"#333333\",\"family\":\"Roboto\",\"size\":7},\"opacity\":0.9,\"showarrow\":false,\"text\":\"151.964\",\"x\":8.0,\"xref\":\"x\",\"y\":8.85,\"yref\":\"y\"},{\"align\":\"center\",\"font\":{\"color\":\"#333333\",\"family\":\"Roboto\",\"size\":7},\"opacity\":0.9,\"showarrow\":false,\"text\":\"157.25\",\"x\":9.0,\"xref\":\"x\",\"y\":8.85,\"yref\":\"y\"},{\"align\":\"center\",\"font\":{\"color\":\"#333333\",\"family\":\"Roboto\",\"size\":7},\"opacity\":0.9,\"showarrow\":false,\"text\":\"158.925\",\"x\":10.0,\"xref\":\"x\",\"y\":8.85,\"yref\":\"y\"},{\"align\":\"center\",\"font\":{\"color\":\"#333333\",\"family\":\"Roboto\",\"size\":7},\"opacity\":0.9,\"showarrow\":false,\"text\":\"162.5\",\"x\":11.0,\"xref\":\"x\",\"y\":8.85,\"yref\":\"y\"},{\"align\":\"center\",\"font\":{\"color\":\"#333333\",\"family\":\"Roboto\",\"size\":7},\"opacity\":0.9,\"showarrow\":false,\"text\":\"164.93\",\"x\":12.0,\"xref\":\"x\",\"y\":8.85,\"yref\":\"y\"},{\"align\":\"center\",\"font\":{\"color\":\"#333333\",\"family\":\"Roboto\",\"size\":7},\"opacity\":0.9,\"showarrow\":false,\"text\":\"167.259\",\"x\":13.0,\"xref\":\"x\",\"y\":8.85,\"yref\":\"y\"},{\"align\":\"center\",\"font\":{\"color\":\"#333333\",\"family\":\"Roboto\",\"size\":7},\"opacity\":0.9,\"showarrow\":false,\"text\":\"168.934\",\"x\":14.0,\"xref\":\"x\",\"y\":8.85,\"yref\":\"y\"},{\"align\":\"center\",\"font\":{\"color\":\"#333333\",\"family\":\"Roboto\",\"size\":7},\"opacity\":0.9,\"showarrow\":false,\"text\":\"173.045\",\"x\":15.0,\"xref\":\"x\",\"y\":8.85,\"yref\":\"y\"},{\"align\":\"center\",\"font\":{\"color\":\"#333333\",\"family\":\"Roboto\",\"size\":7},\"opacity\":0.9,\"showarrow\":false,\"text\":\"174.967\",\"x\":16.0,\"xref\":\"x\",\"y\":8.85,\"yref\":\"y\"},{\"align\":\"center\",\"font\":{\"color\":\"#333333\",\"family\":\"Roboto\",\"size\":7},\"opacity\":0.9,\"showarrow\":false,\"text\":\"178.49\",\"x\":4.0,\"xref\":\"x\",\"y\":6.35,\"yref\":\"y\"},{\"align\":\"center\",\"font\":{\"color\":\"#333333\",\"family\":\"Roboto\",\"size\":7},\"opacity\":0.9,\"showarrow\":false,\"text\":\"180.948\",\"x\":5.0,\"xref\":\"x\",\"y\":6.35,\"yref\":\"y\"},{\"align\":\"center\",\"font\":{\"color\":\"#333333\",\"family\":\"Roboto\",\"size\":7},\"opacity\":0.9,\"showarrow\":false,\"text\":\"183.84\",\"x\":6.0,\"xref\":\"x\",\"y\":6.35,\"yref\":\"y\"},{\"align\":\"center\",\"font\":{\"color\":\"#333333\",\"family\":\"Roboto\",\"size\":7},\"opacity\":0.9,\"showarrow\":false,\"text\":\"186.207\",\"x\":7.0,\"xref\":\"x\",\"y\":6.35,\"yref\":\"y\"},{\"align\":\"center\",\"font\":{\"color\":\"#333333\",\"family\":\"Roboto\",\"size\":7},\"opacity\":0.9,\"showarrow\":false,\"text\":\"190.23\",\"x\":8.0,\"xref\":\"x\",\"y\":6.35,\"yref\":\"y\"},{\"align\":\"center\",\"font\":{\"color\":\"#333333\",\"family\":\"Roboto\",\"size\":7},\"opacity\":0.9,\"showarrow\":false,\"text\":\"192.217\",\"x\":9.0,\"xref\":\"x\",\"y\":6.35,\"yref\":\"y\"},{\"align\":\"center\",\"font\":{\"color\":\"#333333\",\"family\":\"Roboto\",\"size\":7},\"opacity\":0.9,\"showarrow\":false,\"text\":\"195.084\",\"x\":10.0,\"xref\":\"x\",\"y\":6.35,\"yref\":\"y\"},{\"align\":\"center\",\"font\":{\"color\":\"#333333\",\"family\":\"Roboto\",\"size\":7},\"opacity\":0.9,\"showarrow\":false,\"text\":\"196.967\",\"x\":11.0,\"xref\":\"x\",\"y\":6.35,\"yref\":\"y\"},{\"align\":\"center\",\"font\":{\"color\":\"#333333\",\"family\":\"Roboto\",\"size\":7},\"opacity\":0.9,\"showarrow\":false,\"text\":\"200.592\",\"x\":12.0,\"xref\":\"x\",\"y\":6.35,\"yref\":\"y\"},{\"align\":\"center\",\"font\":{\"color\":\"#333333\",\"family\":\"Roboto\",\"size\":7},\"opacity\":0.9,\"showarrow\":false,\"text\":\"204.38\",\"x\":13.0,\"xref\":\"x\",\"y\":6.35,\"yref\":\"y\"},{\"align\":\"center\",\"font\":{\"color\":\"#333333\",\"family\":\"Roboto\",\"size\":7},\"opacity\":0.9,\"showarrow\":false,\"text\":\"207.2\",\"x\":14.0,\"xref\":\"x\",\"y\":6.35,\"yref\":\"y\"},{\"align\":\"center\",\"font\":{\"color\":\"#333333\",\"family\":\"Roboto\",\"size\":7},\"opacity\":0.9,\"showarrow\":false,\"text\":\"208.98\",\"x\":15.0,\"xref\":\"x\",\"y\":6.35,\"yref\":\"y\"},{\"align\":\"center\",\"font\":{\"color\":\"#333333\",\"family\":\"Roboto\",\"size\":7},\"opacity\":0.9,\"showarrow\":false,\"text\":\"209.0\",\"x\":16.0,\"xref\":\"x\",\"y\":6.35,\"yref\":\"y\"},{\"align\":\"center\",\"font\":{\"color\":\"#333333\",\"family\":\"Roboto\",\"size\":7},\"opacity\":0.9,\"showarrow\":false,\"text\":\"210.0\",\"x\":17.0,\"xref\":\"x\",\"y\":6.35,\"yref\":\"y\"},{\"align\":\"center\",\"font\":{\"color\":\"#333333\",\"family\":\"Roboto\",\"size\":7},\"opacity\":0.9,\"showarrow\":false,\"text\":\"222.0\",\"x\":18.0,\"xref\":\"x\",\"y\":6.35,\"yref\":\"y\"},{\"align\":\"center\",\"font\":{\"color\":\"#333333\",\"family\":\"Roboto\",\"size\":7},\"opacity\":0.9,\"showarrow\":false,\"text\":\"223.0\",\"x\":1.0,\"xref\":\"x\",\"y\":7.35,\"yref\":\"y\"},{\"align\":\"center\",\"font\":{\"color\":\"#333333\",\"family\":\"Roboto\",\"size\":7},\"opacity\":0.9,\"showarrow\":false,\"text\":\"226.0\",\"x\":2.0,\"xref\":\"x\",\"y\":7.35,\"yref\":\"y\"},{\"align\":\"center\",\"font\":{\"color\":\"#333333\",\"family\":\"Roboto\",\"size\":7},\"opacity\":0.9,\"showarrow\":false,\"text\":\"227.0\",\"x\":3.0,\"xref\":\"x\",\"y\":7.35,\"yref\":\"y\"},{\"align\":\"center\",\"font\":{\"color\":\"#333333\",\"family\":\"Roboto\",\"size\":7},\"opacity\":0.9,\"showarrow\":false,\"text\":\"232.038\",\"x\":3.0,\"xref\":\"x\",\"y\":9.85,\"yref\":\"y\"},{\"align\":\"center\",\"font\":{\"color\":\"#333333\",\"family\":\"Roboto\",\"size\":7},\"opacity\":0.9,\"showarrow\":false,\"text\":\"231.036\",\"x\":4.0,\"xref\":\"x\",\"y\":9.85,\"yref\":\"y\"},{\"align\":\"center\",\"font\":{\"color\":\"#333333\",\"family\":\"Roboto\",\"size\":7},\"opacity\":0.9,\"showarrow\":false,\"text\":\"238.029\",\"x\":5.0,\"xref\":\"x\",\"y\":9.85,\"yref\":\"y\"},{\"align\":\"center\",\"font\":{\"color\":\"#333333\",\"family\":\"Roboto\",\"size\":7},\"opacity\":0.9,\"showarrow\":false,\"text\":\"237.0\",\"x\":6.0,\"xref\":\"x\",\"y\":9.85,\"yref\":\"y\"},{\"align\":\"center\",\"font\":{\"color\":\"#333333\",\"family\":\"Roboto\",\"size\":7},\"opacity\":0.9,\"showarrow\":false,\"text\":\"244.0\",\"x\":7.0,\"xref\":\"x\",\"y\":9.85,\"yref\":\"y\"},{\"align\":\"center\",\"font\":{\"color\":\"#333333\",\"family\":\"Roboto\",\"size\":7},\"opacity\":0.9,\"showarrow\":false,\"text\":\"243.0\",\"x\":8.0,\"xref\":\"x\",\"y\":9.85,\"yref\":\"y\"},{\"align\":\"center\",\"font\":{\"color\":\"#333333\",\"family\":\"Roboto\",\"size\":7},\"opacity\":0.9,\"showarrow\":false,\"text\":\"247.0\",\"x\":9.0,\"xref\":\"x\",\"y\":9.85,\"yref\":\"y\"},{\"align\":\"center\",\"font\":{\"color\":\"#333333\",\"family\":\"Roboto\",\"size\":7},\"opacity\":0.9,\"showarrow\":false,\"text\":\"247.0\",\"x\":10.0,\"xref\":\"x\",\"y\":9.85,\"yref\":\"y\"},{\"align\":\"center\",\"font\":{\"color\":\"#333333\",\"family\":\"Roboto\",\"size\":7},\"opacity\":0.9,\"showarrow\":false,\"text\":\"251.0\",\"x\":11.0,\"xref\":\"x\",\"y\":9.85,\"yref\":\"y\"},{\"align\":\"center\",\"font\":{\"color\":\"#333333\",\"family\":\"Roboto\",\"size\":7},\"opacity\":0.9,\"showarrow\":false,\"text\":\"252.0\",\"x\":12.0,\"xref\":\"x\",\"y\":9.85,\"yref\":\"y\"},{\"align\":\"center\",\"font\":{\"color\":\"#333333\",\"family\":\"Roboto\",\"size\":7},\"opacity\":0.9,\"showarrow\":false,\"text\":\"257.0\",\"x\":13.0,\"xref\":\"x\",\"y\":9.85,\"yref\":\"y\"},{\"align\":\"center\",\"font\":{\"color\":\"#333333\",\"family\":\"Roboto\",\"size\":7},\"opacity\":0.9,\"showarrow\":false,\"text\":\"258.0\",\"x\":14.0,\"xref\":\"x\",\"y\":9.85,\"yref\":\"y\"},{\"align\":\"center\",\"font\":{\"color\":\"#333333\",\"family\":\"Roboto\",\"size\":7},\"opacity\":0.9,\"showarrow\":false,\"text\":\"259.0\",\"x\":15.0,\"xref\":\"x\",\"y\":9.85,\"yref\":\"y\"},{\"align\":\"center\",\"font\":{\"color\":\"#333333\",\"family\":\"Roboto\",\"size\":7},\"opacity\":0.9,\"showarrow\":false,\"text\":\"262.0\",\"x\":16.0,\"xref\":\"x\",\"y\":9.85,\"yref\":\"y\"},{\"align\":\"center\",\"font\":{\"color\":\"#333333\",\"family\":\"Roboto\",\"size\":7},\"opacity\":0.9,\"showarrow\":false,\"text\":\"267.0\",\"x\":4.0,\"xref\":\"x\",\"y\":7.35,\"yref\":\"y\"},{\"align\":\"center\",\"font\":{\"color\":\"#333333\",\"family\":\"Roboto\",\"size\":7},\"opacity\":0.9,\"showarrow\":false,\"text\":\"268.0\",\"x\":5.0,\"xref\":\"x\",\"y\":7.35,\"yref\":\"y\"},{\"align\":\"center\",\"font\":{\"color\":\"#333333\",\"family\":\"Roboto\",\"size\":7},\"opacity\":0.9,\"showarrow\":false,\"text\":\"271.0\",\"x\":6.0,\"xref\":\"x\",\"y\":7.35,\"yref\":\"y\"},{\"align\":\"center\",\"font\":{\"color\":\"#333333\",\"family\":\"Roboto\",\"size\":7},\"opacity\":0.9,\"showarrow\":false,\"text\":\"274.0\",\"x\":7.0,\"xref\":\"x\",\"y\":7.35,\"yref\":\"y\"},{\"align\":\"center\",\"font\":{\"color\":\"#333333\",\"family\":\"Roboto\",\"size\":7},\"opacity\":0.9,\"showarrow\":false,\"text\":\"269.0\",\"x\":8.0,\"xref\":\"x\",\"y\":7.35,\"yref\":\"y\"},{\"align\":\"center\",\"font\":{\"color\":\"#333333\",\"family\":\"Roboto\",\"size\":7},\"opacity\":0.9,\"showarrow\":false,\"text\":\"276.0\",\"x\":9.0,\"xref\":\"x\",\"y\":7.35,\"yref\":\"y\"},{\"align\":\"center\",\"font\":{\"color\":\"#333333\",\"family\":\"Roboto\",\"size\":7},\"opacity\":0.9,\"showarrow\":false,\"text\":\"281.0\",\"x\":10.0,\"xref\":\"x\",\"y\":7.35,\"yref\":\"y\"},{\"align\":\"center\",\"font\":{\"color\":\"#333333\",\"family\":\"Roboto\",\"size\":7},\"opacity\":0.9,\"showarrow\":false,\"text\":\"281.0\",\"x\":11.0,\"xref\":\"x\",\"y\":7.35,\"yref\":\"y\"},{\"align\":\"center\",\"font\":{\"color\":\"#333333\",\"family\":\"Roboto\",\"size\":7},\"opacity\":0.9,\"showarrow\":false,\"text\":\"285.0\",\"x\":12.0,\"xref\":\"x\",\"y\":7.35,\"yref\":\"y\"},{\"align\":\"center\",\"font\":{\"color\":\"#333333\",\"family\":\"Roboto\",\"size\":7},\"opacity\":0.9,\"showarrow\":false,\"text\":\"286.0\",\"x\":13.0,\"xref\":\"x\",\"y\":7.35,\"yref\":\"y\"},{\"align\":\"center\",\"font\":{\"color\":\"#333333\",\"family\":\"Roboto\",\"size\":7},\"opacity\":0.9,\"showarrow\":false,\"text\":\"289.0\",\"x\":14.0,\"xref\":\"x\",\"y\":7.35,\"yref\":\"y\"},{\"align\":\"center\",\"font\":{\"color\":\"#333333\",\"family\":\"Roboto\",\"size\":7},\"opacity\":0.9,\"showarrow\":false,\"text\":\"288.0\",\"x\":15.0,\"xref\":\"x\",\"y\":7.35,\"yref\":\"y\"},{\"align\":\"center\",\"font\":{\"color\":\"#333333\",\"family\":\"Roboto\",\"size\":7},\"opacity\":0.9,\"showarrow\":false,\"text\":\"293.0\",\"x\":16.0,\"xref\":\"x\",\"y\":7.35,\"yref\":\"y\"},{\"align\":\"center\",\"font\":{\"color\":\"#333333\",\"family\":\"Roboto\",\"size\":7},\"opacity\":0.9,\"showarrow\":false,\"text\":\"294.0\",\"x\":17.0,\"xref\":\"x\",\"y\":7.35,\"yref\":\"y\"},{\"align\":\"center\",\"font\":{\"color\":\"#333333\",\"family\":\"Roboto\",\"size\":7},\"opacity\":0.9,\"showarrow\":false,\"text\":\"294.0\",\"x\":18.0,\"xref\":\"x\",\"y\":7.35,\"yref\":\"y\"}],\"xaxis\":{\"range\":[0.5,18.5],\"showgrid\":false,\"fixedrange\":true,\"side\":\"top\",\"tickvals\":[1,2,3,4,5,6,7,8,9,10,11,12,13,14,15,16,17,18]},\"yaxis\":{\"range\":[10.0,0.5],\"showgrid\":false,\"fixedrange\":true,\"tickvals\":[1,2,3,4,5,6,7],\"title\":{\"text\":\"Period\"}},\"height\":800,\"width\":1200,\"title\":{\"text\":\"Periodic Table\"}},                        {\"responsive\": true}                    ).then(function(){\n                            \nvar gd = document.getElementById('2cd68d59-13fe-40ef-b148-c090500ae3c8');\nvar x = new MutationObserver(function (mutations, observer) {{\n        var display = window.getComputedStyle(gd).display;\n        if (!display || display === 'none') {{\n            console.log([gd, 'removed!']);\n            Plotly.purge(gd);\n            observer.disconnect();\n        }}\n}});\n\n// Listen for the removal of the full notebook cells\nvar notebookContainer = gd.closest('#notebook-container');\nif (notebookContainer) {{\n    x.observe(notebookContainer, {childList: true});\n}}\n\n// Listen for the clearing of the current output cell\nvar outputEl = gd.closest('.output');\nif (outputEl) {{\n    x.observe(outputEl, {childList: true});\n}}\n\n                        })                };                });            </script>        </div>"
     },
     "metadata": {},
     "output_type": "display_data"
    }
   ],
   "source": [
    "from mendeleev.vis import periodic_table\n",
    "periodic_table()"
   ],
   "metadata": {
    "collapsed": false,
    "pycharm": {
     "name": "#%%\n"
    }
   }
  },
  {
   "cell_type": "markdown",
   "source": [
    "# Periodic Table Web Browser"
   ],
   "metadata": {
    "collapsed": false,
    "pycharm": {
     "name": "#%% md\n"
    }
   }
  },
  {
   "cell_type": "code",
   "execution_count": 10,
   "outputs": [],
   "source": [
    "from mendeleev.vis import create_vis_dataframe, periodic_table_bokeh\n",
    "from bokeh.plotting import show\n",
    "\n",
    "elements = create_vis_dataframe()\n",
    "fig = periodic_table_bokeh(elements)\n",
    "show(fig)"
   ],
   "metadata": {
    "collapsed": false,
    "pycharm": {
     "name": "#%%\n"
    }
   }
  },
  {
   "cell_type": "markdown",
   "source": [
    "# Fetch Table"
   ],
   "metadata": {
    "collapsed": false
   }
  },
  {
   "cell_type": "code",
   "execution_count": 14,
   "outputs": [
    {
     "data": {
      "text/plain": "    symbol         name  atomic_number  atomic_weight\n0        H     Hydrogen              1       1.008000\n1       He       Helium              2       4.002602\n2       Li      Lithium              3       6.940000\n3       Be    Beryllium              4       9.012183\n4        B        Boron              5      10.810000\n..     ...          ...            ...            ...\n113     Fl    Flerovium            114     289.000000\n114     Mc    Moscovium            115     288.000000\n115     Lv  Livermorium            116     293.000000\n116     Ts   Tennessine            117     294.000000\n117     Og    Oganesson            118     294.000000\n\n[118 rows x 4 columns]",
      "text/html": "<div>\n<style scoped>\n    .dataframe tbody tr th:only-of-type {\n        vertical-align: middle;\n    }\n\n    .dataframe tbody tr th {\n        vertical-align: top;\n    }\n\n    .dataframe thead th {\n        text-align: right;\n    }\n</style>\n<table border=\"1\" class=\"dataframe\">\n  <thead>\n    <tr style=\"text-align: right;\">\n      <th></th>\n      <th>symbol</th>\n      <th>name</th>\n      <th>atomic_number</th>\n      <th>atomic_weight</th>\n    </tr>\n  </thead>\n  <tbody>\n    <tr>\n      <th>0</th>\n      <td>H</td>\n      <td>Hydrogen</td>\n      <td>1</td>\n      <td>1.008000</td>\n    </tr>\n    <tr>\n      <th>1</th>\n      <td>He</td>\n      <td>Helium</td>\n      <td>2</td>\n      <td>4.002602</td>\n    </tr>\n    <tr>\n      <th>2</th>\n      <td>Li</td>\n      <td>Lithium</td>\n      <td>3</td>\n      <td>6.940000</td>\n    </tr>\n    <tr>\n      <th>3</th>\n      <td>Be</td>\n      <td>Beryllium</td>\n      <td>4</td>\n      <td>9.012183</td>\n    </tr>\n    <tr>\n      <th>4</th>\n      <td>B</td>\n      <td>Boron</td>\n      <td>5</td>\n      <td>10.810000</td>\n    </tr>\n    <tr>\n      <th>...</th>\n      <td>...</td>\n      <td>...</td>\n      <td>...</td>\n      <td>...</td>\n    </tr>\n    <tr>\n      <th>113</th>\n      <td>Fl</td>\n      <td>Flerovium</td>\n      <td>114</td>\n      <td>289.000000</td>\n    </tr>\n    <tr>\n      <th>114</th>\n      <td>Mc</td>\n      <td>Moscovium</td>\n      <td>115</td>\n      <td>288.000000</td>\n    </tr>\n    <tr>\n      <th>115</th>\n      <td>Lv</td>\n      <td>Livermorium</td>\n      <td>116</td>\n      <td>293.000000</td>\n    </tr>\n    <tr>\n      <th>116</th>\n      <td>Ts</td>\n      <td>Tennessine</td>\n      <td>117</td>\n      <td>294.000000</td>\n    </tr>\n    <tr>\n      <th>117</th>\n      <td>Og</td>\n      <td>Oganesson</td>\n      <td>118</td>\n      <td>294.000000</td>\n    </tr>\n  </tbody>\n</table>\n<p>118 rows × 4 columns</p>\n</div>"
     },
     "execution_count": 14,
     "metadata": {},
     "output_type": "execute_result"
    }
   ],
   "source": [
    "from mendeleev.fetch import fetch_table\n",
    "ptable = fetch_table('elements')\n",
    "cols = ['symbol', 'name', 'atomic_number', 'atomic_weight']\n",
    "ptable[cols]\n",
    "# ptable[ptable.symbol == 'C']\n"
   ],
   "metadata": {
    "collapsed": false,
    "pycharm": {
     "name": "#%%\n"
    }
   }
  }
 ],
 "metadata": {
  "kernelspec": {
   "name": "pycharm-fecd3709",
   "language": "python",
   "display_name": "PyCharm (chemical_projects)"
  },
  "language_info": {
   "codemirror_mode": {
    "name": "ipython",
    "version": 2
   },
   "file_extension": ".py",
   "mimetype": "text/x-python",
   "name": "python",
   "nbconvert_exporter": "python",
   "pygments_lexer": "ipython2",
   "version": "2.7.6"
  }
 },
 "nbformat": 4,
 "nbformat_minor": 0
}