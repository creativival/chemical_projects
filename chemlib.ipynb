{
 "cells": [
  {
   "cell_type": "markdown",
   "metadata": {
    "collapsed": true,
    "pycharm": {
     "name": "#%% md\n"
    }
   },
   "source": [
    "# ChemLib"
   ]
  },
  {
   "cell_type": "code",
   "execution_count": 11,
   "outputs": [
    {
     "name": "stdout",
     "output_type": "stream",
     "text": [
      "2H₂ + 1O₂ --> 2H₂O₁\n",
      "2N₁H₃ --> 3H₂ + 1N₂\n",
      "2N₁H₃ + 2O₂ --> 1N₂O₁ + 3H₂O₁\n",
      "2N₁H₃ + 3N₂O₁ --> 4N₂ + 3H₂O₁\n",
      "N₁H₃: 17.8%\n",
      "C₇H₁₄: 14.4%\n",
      "H₂O₁: 11.2%\n",
      "2C₈H₁₈ + 25O₂ --> 18H₂O₁ + 16C₁O₂\n",
      "{'grams': 1, 'molecules': 5.27e+21, 'moles': 0.009}\n",
      "{'moles': 0.112, 'grams': 3.584, 'molecules': 6.742e+22}\n",
      "{'moles': 0.081, 'grams': 1.46, 'molecules': 4.877e+22}\n",
      "{'moles': 0.072, 'grams': 3.169, 'molecules': 4.335e+22}\n"
     ]
    }
   ],
   "source": [
    "import chemlib as clb\n",
    "\n",
    "hydrogen = clb.Compound('H2')\n",
    "oxygen = clb.Compound('O2')\n",
    "water = clb.Compound('H2O')\n",
    "ammonia = clb.Compound('NH3')\n",
    "nitrogen = clb.Compound('N2')\n",
    "nox = clb.Compound('N2O')\n",
    "mch = clb.Compound('C7H14')\n",
    "octane = clb.Compound('C8H18')\n",
    "\n",
    "water_gen = clb.Reaction([hydrogen, oxygen], [water])\n",
    "water_gen.balance()\n",
    "print(water_gen.formula)\n",
    "\n",
    "a_to_h = clb.Reaction([ammonia], [hydrogen, nitrogen])\n",
    "a_to_h.balance()\n",
    "print(a_to_h.formula)\n",
    "\n",
    "reactions = [clb.Reaction([ammonia, oxygen], [nox, water]),\n",
    "             clb.Reaction([ammonia, nox], [nitrogen, water])]\n",
    "for reaction in reactions:\n",
    "    reaction.balance()\n",
    "    print(reaction.formula)\n",
    "\n",
    "h_compounds = [ammonia, mch, water]\n",
    "for h_compound in h_compounds:\n",
    "    print('%s: %.1f%%' % (h_compound.formula, h_compound.percentage_by_mass('H')))\n",
    "\n",
    "burn_gasoline = clb.Combustion(octane)\n",
    "print(burn_gasoline.formula)\n",
    "\n",
    "amounts = burn_gasoline.get_amounts(1, grams=1)\n",
    "for amount in amounts:\n",
    "    print(amount)"
   ],
   "metadata": {
    "collapsed": false,
    "pycharm": {
     "name": "#%%\n"
    }
   }
  },
  {
   "cell_type": "code",
   "execution_count": null,
   "outputs": [],
   "source": [],
   "metadata": {
    "collapsed": false,
    "pycharm": {
     "name": "#%%\n"
    }
   }
  }
 ],
 "metadata": {
  "kernelspec": {
   "display_name": "Python 3",
   "language": "python",
   "name": "python3"
  },
  "language_info": {
   "codemirror_mode": {
    "name": "ipython",
    "version": 2
   },
   "file_extension": ".py",
   "mimetype": "text/x-python",
   "name": "python",
   "nbconvert_exporter": "python",
   "pygments_lexer": "ipython2",
   "version": "2.7.6"
  }
 },
 "nbformat": 4,
 "nbformat_minor": 0
}